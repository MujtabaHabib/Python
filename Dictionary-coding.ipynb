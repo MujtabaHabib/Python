{
 "cells": [
  {
   "cell_type": "code",
   "execution_count": 6,
   "id": "aa23e8c2",
   "metadata": {},
   "outputs": [
    {
     "name": "stdout",
     "output_type": "stream",
     "text": [
      "key-value pair (1, 943)\n",
      "key-value pair (4, 45)\n",
      "key-value pair (13, 500)\n",
      "Now dictionary size is  0\n"
     ]
    }
   ],
   "source": [
    "#what will be the output produced by the following code\n",
    "\n",
    "numbers = {33:355,13: 500,4:45,1:943}\n",
    "size = len(numbers)\n",
    "# print(size)\n",
    "for i in range(size):\n",
    "    x = numbers.popitem()\n",
    "    if len(numbers) > 0:\n",
    "        print('key-value pair', x)\n",
    "print(\"Now dictionary size is \", len(numbers))"
   ]
  },
  {
   "cell_type": "code",
   "execution_count": 11,
   "id": "3c6d410f",
   "metadata": {},
   "outputs": [
    {
     "name": "stdout",
     "output_type": "stream",
     "text": [
      "1\n",
      "{'Appple': 1}\n",
      "2\n",
      "{'Appple': 1, 'banana': 1}\n",
      "3\n",
      "{'Appple': 1, 'banana': 1, 'apple': 1}\n"
     ]
    }
   ],
   "source": [
    "# 12. Predict the output:\n",
    "\n",
    "fruit = {}\n",
    "L1 = ['Appple','banana','apple']\n",
    "for index in L1:\n",
    "    if index in fruit:\n",
    "        fruit[index] += 1\n",
    "    else:\n",
    "            fruit[index] = 1\n",
    "    print(len(fruit))\n",
    "    print(fruit)"
   ]
  },
  {
   "cell_type": "code",
   "execution_count": 15,
   "id": "3ee9f6c5",
   "metadata": {},
   "outputs": [
    {
     "name": "stdout",
     "output_type": "stream",
     "text": [
      "4\n"
     ]
    }
   ],
   "source": [
    "arr = {}\n",
    "arr[1] = 1\n",
    "arr['1'] = 2\n",
    "arr[1] += 1 \n",
    "sum = 0\n",
    "for k in arr:\n",
    "    sum += arr[k]\n",
    "print(sum)\n"
   ]
  },
  {
   "cell_type": "code",
   "execution_count": null,
   "id": "e63b889d",
   "metadata": {},
   "outputs": [],
   "source": [
    "#wap to input your friends names and their Phone numbers and store them in the dictionary as the key-value pair.\n",
    "\n",
    "\n",
    "n = int(input(\"How many friends? \"))\n",
    "fd = {}\n",
    "for i in range(n):\n",
    "    print(\"Enter details of your friends \")\n",
    "    name = input(\"Enter your name \")\n",
    "    ph = int(input(\"Enter your phone number \"))\n",
    "    fd[name] =ph\n",
    "    print(\"Friends dictionary is \",fd)\n",
    "ch = 0\n",
    "while ch != 7:\n",
    "    print(\"Menu\")\n",
    "    print(\"1. Display all friends \")\n",
    "    print(\"2. Add new friends \")\n",
    "    print(\"3. Delete a friend \")\n",
    "    print(\"4. Update phone number and existing friend \")\n",
    "    print(\"5. Search for a friend \")\n",
    "    print(\"6. Sort of names \")\n",
    "    print(\"7. Exit \")\n",
    "\n",
    "    ch = int(input(\"Enter your choice \"))\n",
    "    if ch ==1:\n",
    "        print(fd)\n",
    "    elif ch ==2:\n",
    "        print(\"Enter details of new friends \")\n",
    "        name= input(\"Enter your name \")\n",
    "        ph = int(input(\"Enter your phone number \"))\n",
    "    elif ch ==3:\n",
    "        nm = (\"Enter Friends name to be deleted \")\n",
    "        res = fd.pop(nm, -1)\n",
    "        if res != -1:\n",
    "            print(res, \"deleted\")\n",
    "        else:  \n",
    "            print(\"No such friend\")\n",
    "    elif ch ==4:\n",
    "            name = input(\"Friends name\")\n",
    "            ph = int(input(\"Enter friends number\"))\n",
    "            fd[name] = ph\n",
    "    elif ch ==5:\n",
    "            name = input(\"Friends name\")\n",
    "            if name in fd:\n",
    "                print(name,\"Exists in dictionary\")\n",
    "            else:\n",
    "                print(name,\"Doesn't exists in dictionary\")\n",
    "    elif ch == 6:\n",
    "            lst = sorted(fd)\n",
    "            print(\"{\",end = \" \")\n",
    "            for a in lst:\n",
    "                  print(a, \":\",fd[a],end = \" \")\n",
    "                  print(\"}\")\n",
    "    elif ch == 7:\n",
    "        break\n",
    "    else:\n",
    "        print(\"Valid choices are 1.\")"
   ]
  },
  {
   "cell_type": "code",
   "execution_count": 19,
   "id": "b27c3ce5",
   "metadata": {},
   "outputs": [
    {
     "name": "stdout",
     "output_type": "stream",
     "text": [
      "Two given dictionaries are \n",
      "{'1': 150, '2': 200, '3': 250}\n",
      "\n",
      "{'1': 100, '2': 300, '3': 400}\n",
      "\n",
      "The resultant dictionary are : \n",
      "{'1': 250, '2': 500, '3': 650}\n"
     ]
    }
   ],
   "source": [
    "dct1 = {'1':150,'2':200,'3':250}\n",
    "dct2 = {'1':100,'2':300,'3': 400}\n",
    "dct3 = dict(dct1)\n",
    "dct3.update(dct2)\n",
    "\n",
    "for i,j in dct1.items():\n",
    "    for x,y in dct2.items():\n",
    "    \n",
    "        if i == x:\n",
    "            dct3[i] = (j+y)\n",
    "print(\"Two given dictionaries are \")\n",
    "print(dct1)\n",
    "print()\n",
    "print(dct2)\n",
    "print()\n",
    "print(\"The resultant dictionary are : \")\n",
    "print(dct3)"
   ]
  },
  {
   "cell_type": "code",
   "execution_count": null,
   "id": "628bc4ad",
   "metadata": {},
   "outputs": [],
   "source": []
  }
 ],
 "metadata": {
  "kernelspec": {
   "display_name": "Python 3 (ipykernel)",
   "language": "python",
   "name": "python3"
  },
  "language_info": {
   "codemirror_mode": {
    "name": "ipython",
    "version": 3
   },
   "file_extension": ".py",
   "mimetype": "text/x-python",
   "name": "python",
   "nbconvert_exporter": "python",
   "pygments_lexer": "ipython3",
   "version": "3.9.12"
  }
 },
 "nbformat": 4,
 "nbformat_minor": 5
}
