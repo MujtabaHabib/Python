{
 "cells": [
  {
   "cell_type": "code",
   "execution_count": null,
   "id": "6107f3a4",
   "metadata": {},
   "outputs": [],
   "source": [
    "fact = 1\n",
    "n = int(input(\"Enter a number\"))\n",
    "i = 1\n",
    "while(i<=n):\n",
    "    fact = fact*i\n",
    "    i+=1\n",
    "    print(\"factorial = \",fact)"
   ]
  },
  {
   "cell_type": "code",
   "execution_count": null,
   "id": "35e0009e",
   "metadata": {},
   "outputs": [],
   "source": [
    "n = int(input(\"Enter a number\"))\n",
    "i = 1\n",
    "while(i<= n):\n",
    "    print(\"hi\")\n",
    "    i+=1"
   ]
  },
  {
   "cell_type": "code",
   "execution_count": null,
   "id": "cdcbfb39",
   "metadata": {},
   "outputs": [],
   "source": [
    "n = int(input(\"Enter a number \"))\n",
    "if(n%2)==0:\n",
    "    print(\"Even\")\n",
    "else:\n",
    "    print(\"Odd\")"
   ]
  },
  {
   "cell_type": "code",
   "execution_count": null,
   "id": "3259b5a0",
   "metadata": {},
   "outputs": [],
   "source": [
    "n = int(input(\"Enter a number\"))\n",
    "i = 1\n",
    "while(i>=n)==0:\n",
    "    i+=1\n",
    "    print(\"Even\")\n",
    "else:\n",
    "    print(\"Odd\")\n",
    "    "
   ]
  },
  {
   "cell_type": "code",
   "execution_count": null,
   "id": "e0734046",
   "metadata": {},
   "outputs": [],
   "source": [
    "n = int(input())\n",
    "a = 0\n",
    "b = 1\n",
    "c=0\n",
    "count = 1\n",
    "while(count <= n):\n",
    "    print(c)\n",
    "    a = b\n",
    "    b = c\n",
    "    c = a + b\n",
    "    count += 1"
   ]
  },
  {
   "cell_type": "code",
   "execution_count": null,
   "id": "d31d3508",
   "metadata": {},
   "outputs": [],
   "source": [
    "n = int(input(\"Enter a number\"))\n",
    "count = 1\n",
    "while(count<=n):\n",
    "    print(\"hello\")\n",
    "\n",
    "    count =+1"
   ]
  },
  {
   "cell_type": "code",
   "execution_count": 4,
   "id": "ba029f3e",
   "metadata": {},
   "outputs": [
    {
     "name": "stdout",
     "output_type": "stream",
     "text": [
      "Enter a number5\n",
      "5 * 1 = 5\n",
      "5 * 2 = 10\n",
      "5 * 3 = 15\n",
      "5 * 4 = 20\n",
      "5 * 5 = 25\n",
      "5 * 6 = 30\n",
      "5 * 7 = 35\n",
      "5 * 8 = 40\n",
      "5 * 9 = 45\n",
      "5 * 10 = 50\n"
     ]
    }
   ],
   "source": [
    "num = int(input(\"Enter a number\"))\n",
    "i = 1\n",
    "while(i<=10):\n",
    "    print(num,\"*\",i,\"=\" ,num*i)\n",
    "    i+=1"
   ]
  },
  {
   "cell_type": "code",
   "execution_count": 30,
   "id": "8e4be25f",
   "metadata": {},
   "outputs": [
    {
     "name": "stdout",
     "output_type": "stream",
     "text": [
      "Enter a number10\n",
      "5.5\n"
     ]
    }
   ],
   "source": [
    "#average of a number\n",
    "n = int(input(\"Enter a number\"))\n",
    "sum = 0\n",
    "i = 0\n",
    "while(i <= n):\n",
    "    sum =sum + i\n",
    "    i+=1\n",
    "avg =sum/n\n",
    "print(avg)"
   ]
  },
  {
   "cell_type": "code",
   "execution_count": null,
   "id": "f291b3ad",
   "metadata": {},
   "outputs": [],
   "source": []
  }
 ],
 "metadata": {
  "kernelspec": {
   "display_name": "Python 3 (ipykernel)",
   "language": "python",
   "name": "python3"
  },
  "language_info": {
   "codemirror_mode": {
    "name": "ipython",
    "version": 3
   },
   "file_extension": ".py",
   "mimetype": "text/x-python",
   "name": "python",
   "nbconvert_exporter": "python",
   "pygments_lexer": "ipython3",
   "version": "3.9.12"
  }
 },
 "nbformat": 4,
 "nbformat_minor": 5
}
