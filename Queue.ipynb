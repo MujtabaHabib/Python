{
 "cells": [
  {
   "cell_type": "code",
   "execution_count": 5,
   "id": "ac822fda",
   "metadata": {},
   "outputs": [
    {
     "name": "stdout",
     "output_type": "stream",
     "text": [
      "The length of Queue:  4\n"
     ]
    }
   ],
   "source": [
    "# Insert a queue\n",
    "class Queue:  \n",
    "  \n",
    "  def __init__(self):  \n",
    "      self.queue = list()  \n",
    "  \n",
    "  def add_element(self,val):  \n",
    "# Insert method to add element  \n",
    "      if val not in self.queue:  \n",
    "          self.queue.insert(0,val)  \n",
    "          return True  \n",
    "      return False  \n",
    "  \n",
    "  def size(self):  \n",
    "      return len(self.queue)  \n",
    "  \n",
    "TheQueue = Queue()  \n",
    "TheQueue.add_element(\"Apple\")  \n",
    "TheQueue.add_element(\"Mango\")  \n",
    "TheQueue.add_element(\"Guava\")  \n",
    "TheQueue.add_element(\"Papaya\")  \n",
    "  \n",
    "print(\"The length of Queue: \",TheQueue.size())  "
   ]
  },
  {
   "cell_type": "code",
   "execution_count": 26,
   "id": "7f5861c1",
   "metadata": {},
   "outputs": [
    {
     "name": "stdout",
     "output_type": "stream",
     "text": [
      "<__main__.Queue object at 0x000001DB6DB8F1F0>\n",
      "January\n",
      "February\n"
     ]
    }
   ],
   "source": [
    "# Remove element from a queue\n",
    "\n",
    "class Queue:\n",
    "    \n",
    "    def __init__(self):\n",
    "        self.queue = list()\n",
    "    \n",
    "    def add_element(self,val):\n",
    "        if val not in self.queue:\n",
    "            self.queue.insert(0,val)\n",
    "            return True\n",
    "        return False\n",
    "    \n",
    "    def remove_element(self):\n",
    "        if len(self.queue)>0:\n",
    "            return self.queue.pop()\n",
    "        return(\"Queue is empty \")\n",
    "    \n",
    "que = Queue()\n",
    "que.add_element(\"January\")\n",
    "que.add_element(\"February\")\n",
    "que.add_element(\"March\")\n",
    "\n",
    "print(que)\n",
    "print(que.remove_element())\n",
    "print(que.remove_element())"
   ]
  },
  {
   "cell_type": "code",
   "execution_count": null,
   "id": "66d33e8c",
   "metadata": {},
   "outputs": [],
   "source": []
  }
 ],
 "metadata": {
  "kernelspec": {
   "display_name": "Python 3 (ipykernel)",
   "language": "python",
   "name": "python3"
  },
  "language_info": {
   "codemirror_mode": {
    "name": "ipython",
    "version": 3
   },
   "file_extension": ".py",
   "mimetype": "text/x-python",
   "name": "python",
   "nbconvert_exporter": "python",
   "pygments_lexer": "ipython3",
   "version": "3.9.12"
  }
 },
 "nbformat": 4,
 "nbformat_minor": 5
}
