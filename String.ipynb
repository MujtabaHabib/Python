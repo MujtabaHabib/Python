{
 "cells": [
  {
   "cell_type": "code",
   "execution_count": null,
   "id": "fe7308ea",
   "metadata": {},
   "outputs": [],
   "source": [
    "y = str(123)\n",
    "x = \"hello \" * 3\n",
    "print(x,y)\n",
    "x = \"Hello\" + \"world\"\n",
    "y = len(x)\n",
    "print(x,y)"
   ]
  },
  {
   "cell_type": "code",
   "execution_count": null,
   "id": "20200185",
   "metadata": {},
   "outputs": [],
   "source": [
    "x = \"hello world\"\n",
    "print(x[:2],x[:-2],x[-2:])\n",
    "print(x[6],x[2:4])\n",
    "print(x[2:-3],x[-4:-2])"
   ]
  },
  {
   "cell_type": "code",
   "execution_count": null,
   "id": "a4cc9e43",
   "metadata": {},
   "outputs": [],
   "source": [
    "mySubject = \"Computer Science\"\n",
    "\n",
    "print(mySubject[0:len(mySubject)])\n",
    "print(mySubject[::2])\n",
    "print(2*mySubject)\n",
    "print(mySubject[-7:-1])\n",
    "print(mySubject[len(mySubject)-1])\n",
    "print(mySubject[::-2])\n",
    "print(mySubject.swapcase())\n",
    "print(mySubject.startswith('Comp'))\n",
    "print(mySubject.isalpha())\n"
   ]
  },
  {
   "cell_type": "code",
   "execution_count": null,
   "id": "75ebe33d",
   "metadata": {},
   "outputs": [],
   "source": [
    "s1 = \"spam\"\n",
    "s2 = \"ni!\"\n",
    "\n",
    "s1[1:3]\n"
   ]
  },
  {
   "cell_type": "code",
   "execution_count": null,
   "id": "a4fb9c9b",
   "metadata": {},
   "outputs": [],
   "source": [
    "s1[2]+s2[:2]"
   ]
  },
  {
   "cell_type": "code",
   "execution_count": null,
   "id": "19f95c0d",
   "metadata": {},
   "outputs": [],
   "source": [
    "s1+s2[-1]"
   ]
  },
  {
   "cell_type": "code",
   "execution_count": null,
   "id": "2c557aeb",
   "metadata": {},
   "outputs": [],
   "source": [
    "s1+s2"
   ]
  },
  {
   "cell_type": "code",
   "execution_count": null,
   "id": "9013072a",
   "metadata": {},
   "outputs": [],
   "source": [
    "s1[:3]+s1[3:]"
   ]
  },
  {
   "cell_type": "code",
   "execution_count": null,
   "id": "ed63b42d",
   "metadata": {},
   "outputs": [],
   "source": [
    "s2[:-1]+s2[-1:]"
   ]
  },
  {
   "cell_type": "code",
   "execution_count": null,
   "id": "daa8c83f",
   "metadata": {},
   "outputs": [],
   "source": [
    "'abracadabra'.count('ab')"
   ]
  },
  {
   "cell_type": "code",
   "execution_count": null,
   "id": "88dc4d60",
   "metadata": {},
   "outputs": [],
   "source": [
    "'Saudhabib'.count('s')"
   ]
  },
  {
   "cell_type": "code",
   "execution_count": null,
   "id": "f0ad10f8",
   "metadata": {},
   "outputs": [],
   "source": [
    "\"abcd\".startswith(\"cd\")"
   ]
  },
  {
   "cell_type": "code",
   "execution_count": null,
   "id": "732bd030",
   "metadata": {},
   "outputs": [],
   "source": [
    "\"abcd\".startswith(\"ab\")"
   ]
  },
  {
   "cell_type": "code",
   "execution_count": null,
   "id": "9c8cabdb",
   "metadata": {},
   "outputs": [],
   "source": [
    "\"abcd\".endswith(\"cd\")"
   ]
  },
  {
   "cell_type": "code",
   "execution_count": null,
   "id": "b8fedc40",
   "metadata": {},
   "outputs": [],
   "source": [
    "\"the sipo app\".title()"
   ]
  },
  {
   "cell_type": "code",
   "execution_count": null,
   "id": "83d5f00b",
   "metadata": {},
   "outputs": [],
   "source": [
    "\"COMPUTEr Science\".title()"
   ]
  },
  {
   "cell_type": "code",
   "execution_count": null,
   "id": "97fc54d4",
   "metadata": {},
   "outputs": [],
   "source": [
    "'computer science'.istitle()"
   ]
  },
  {
   "cell_type": "code",
   "execution_count": null,
   "id": "11519c68",
   "metadata": {},
   "outputs": [],
   "source": [
    "'Computer Science'.istitle()"
   ]
  },
  {
   "cell_type": "code",
   "execution_count": null,
   "id": "822fb626",
   "metadata": {},
   "outputs": [],
   "source": [
    "'abracadabra'.replace('ab','sp')"
   ]
  },
  {
   "cell_type": "code",
   "execution_count": null,
   "id": "b61ed83d",
   "metadata": {},
   "outputs": [],
   "source": [
    "'I work for you'.replace('work','care')"
   ]
  },
  {
   "cell_type": "code",
   "execution_count": null,
   "id": "f962d8eb",
   "metadata": {},
   "outputs": [],
   "source": [
    "'you and I work for you'.replace('you','U')"
   ]
  },
  {
   "cell_type": "code",
   "execution_count": null,
   "id": "abf57eb0",
   "metadata": {},
   "outputs": [],
   "source": [
    "\"*\".join(\"Hello\")"
   ]
  },
  {
   "cell_type": "code",
   "execution_count": null,
   "id": "ec884388",
   "metadata": {},
   "outputs": [],
   "source": [
    "\"$\".join(\"hello\")"
   ]
  },
  {
   "cell_type": "code",
   "execution_count": null,
   "id": "fcf5b00d",
   "metadata": {},
   "outputs": [],
   "source": [
    "\"***\".join(\"Hello\")"
   ]
  },
  {
   "cell_type": "code",
   "execution_count": null,
   "id": "ff17fb6a",
   "metadata": {},
   "outputs": [],
   "source": [
    "\"$$\".join([\"trail\",\"hello\"])"
   ]
  },
  {
   "cell_type": "code",
   "execution_count": null,
   "id": "5760c5f8",
   "metadata": {},
   "outputs": [],
   "source": [
    "\"###\".join((\"trail\",\"hello\",\"new\"))"
   ]
  },
  {
   "cell_type": "code",
   "execution_count": null,
   "id": "17916246",
   "metadata": {},
   "outputs": [],
   "source": [
    "\"###\".join((123,\"hello\",\"new\"))"
   ]
  },
  {
   "cell_type": "code",
   "execution_count": null,
   "id": "5518fae3",
   "metadata": {},
   "outputs": [],
   "source": [
    "\"I Love Python\".split()"
   ]
  },
  {
   "cell_type": "code",
   "execution_count": null,
   "id": "3dd43c74",
   "metadata": {},
   "outputs": [],
   "source": [
    "\"I Love Python\".split(\"~\")"
   ]
  },
  {
   "cell_type": "code",
   "execution_count": null,
   "id": "527c4bb1",
   "metadata": {},
   "outputs": [],
   "source": [
    "\"I Love Python\".split(\"o\")"
   ]
  },
  {
   "cell_type": "code",
   "execution_count": null,
   "id": "2a5bc45e",
   "metadata": {},
   "outputs": [],
   "source": [
    "txt = \"I enjoy working in python\"\n",
    "x = txt.partition(\"working\")"
   ]
  },
  {
   "cell_type": "code",
   "execution_count": null,
   "id": "42f80294",
   "metadata": {},
   "outputs": [],
   "source": [
    "print(x)"
   ]
  },
  {
   "cell_type": "code",
   "execution_count": null,
   "id": "e36a7ae9",
   "metadata": {},
   "outputs": [],
   "source": [
    "\"Hello World\".find(\"wor\")"
   ]
  },
  {
   "cell_type": "code",
   "execution_count": null,
   "id": "bb0ffa6c",
   "metadata": {},
   "outputs": [],
   "source": [
    "\"Hello World\".find(\"Wor\")"
   ]
  },
  {
   "cell_type": "code",
   "execution_count": null,
   "id": "17727cbd",
   "metadata": {},
   "outputs": [],
   "source": [
    "\"123FGH\".isdigit()"
   ]
  },
  {
   "cell_type": "code",
   "execution_count": null,
   "id": "3c590dd9",
   "metadata": {},
   "outputs": [],
   "source": [
    "\"Hello World\".isalpha()"
   ]
  },
  {
   "cell_type": "code",
   "execution_count": null,
   "id": "3e7c3b0b",
   "metadata": {},
   "outputs": [],
   "source": [
    "\"Hello World\".isalnum()"
   ]
  },
  {
   "cell_type": "code",
   "execution_count": null,
   "id": "1a8f1b71",
   "metadata": {},
   "outputs": [],
   "source": [
    "\"Hello World\".find(\"Wor\",1,6)"
   ]
  },
  {
   "cell_type": "code",
   "execution_count": null,
   "id": "5d32c5a7",
   "metadata": {},
   "outputs": [],
   "source": [
    "\"Hello World\".find(\"Wor\",)"
   ]
  },
  {
   "cell_type": "code",
   "execution_count": null,
   "id": "05769520",
   "metadata": {},
   "outputs": [],
   "source": [
    "\"Hello World\".upper().lower()"
   ]
  },
  {
   "cell_type": "code",
   "execution_count": null,
   "id": "fe27aaf8",
   "metadata": {},
   "outputs": [],
   "source": [
    "\"Hello World\".lower().upper()"
   ]
  },
  {
   "cell_type": "code",
   "execution_count": null,
   "id": "528ac305",
   "metadata": {},
   "outputs": [],
   "source": [
    "\"1234\".isdigit()"
   ]
  },
  {
   "cell_type": "code",
   "execution_count": null,
   "id": "c4f73f76",
   "metadata": {},
   "outputs": [],
   "source": [
    "string = 'it goes as - ringa ringa roses'"
   ]
  },
  {
   "cell_type": "code",
   "execution_count": null,
   "id": "4698c6bf",
   "metadata": {},
   "outputs": [],
   "source": [
    "sub = 'ringa'"
   ]
  },
  {
   "cell_type": "code",
   "execution_count": null,
   "id": "78a42d62",
   "metadata": {},
   "outputs": [],
   "source": [
    "string.find(sub)"
   ]
  },
  {
   "cell_type": "code",
   "execution_count": null,
   "id": "2e0443ab",
   "metadata": {},
   "outputs": [],
   "source": [
    "string.find(sub,15,25)"
   ]
  },
  {
   "cell_type": "code",
   "execution_count": null,
   "id": "f1c62569",
   "metadata": {},
   "outputs": [],
   "source": [
    "#wap that inputs a line of text and prints its each word in a seprate line.Also,print the count of words in the line\n",
    "\n",
    "x = input(\"Enter a string \")\n",
    "count = 0\n",
    "for i in x.split():\n",
    "    print(i)\n",
    "    count += 1\n",
    "print(\"Total digit is \",count)"
   ]
  },
  {
   "cell_type": "code",
   "execution_count": null,
   "id": "cf553f24",
   "metadata": {},
   "outputs": [],
   "source": [
    "#wap to input a string and print number of upper and lower-case letters in it.\n",
    "\n",
    "str1 = input(\"Enter a string \")\n",
    "ucase,lcase = 0,0\n",
    "for char in str1:\n",
    "    if char >= \"A\" and char <= \"Z\":\n",
    "        ucase += 1\n",
    "    else:\n",
    "        lcase += 1\n",
    "print(\"Total number of upper case is \",ucase)\n",
    "print(\"Total number of lower case is \",lcase)"
   ]
  },
  {
   "cell_type": "code",
   "execution_count": null,
   "id": "82cf7164",
   "metadata": {},
   "outputs": [],
   "source": [
    "str1 = input(\"Enter a string \")\n",
    "ucase,lcase = 0,0\n",
    "for char in str1:\n",
    "    if char >= \"A\" and char <= \"Z\":\n",
    "        ucase += 1\n",
    "    elif char >= \"a\" and char <= \"z\":\n",
    "        lcase += 1\n",
    "print(\"Total number of upper case is \",ucase)\n",
    "print(\"Total number of lower case is \",lcase)"
   ]
  },
  {
   "cell_type": "code",
   "execution_count": null,
   "id": "b73ed75b",
   "metadata": {},
   "outputs": [],
   "source": [
    "#wap to input a string and print each individual word of it along with its length.\n",
    "\n",
    "strg = input(\"Enter a string\")\n",
    "stlst = strg.split(' ')\n",
    "\n",
    "for i in stlst:\n",
    "    print(i,\"(\",len(i),\")\")\n"
   ]
  },
  {
   "cell_type": "code",
   "execution_count": null,
   "id": "5c62b388",
   "metadata": {},
   "outputs": [],
   "source": [
    "#Consider the following string myAddress:\n",
    "myAddress = \"WAZ-1, New Ganga Nagar, New Delhi\""
   ]
  },
  {
   "cell_type": "code",
   "execution_count": null,
   "id": "8b694cb9",
   "metadata": {},
   "outputs": [],
   "source": [
    "print(myAddress.find(\"New\"))"
   ]
  },
  {
   "cell_type": "code",
   "execution_count": null,
   "id": "799e01b0",
   "metadata": {},
   "outputs": [],
   "source": [
    "print(myAddress.rfind(\"New\"))"
   ]
  },
  {
   "cell_type": "code",
   "execution_count": null,
   "id": "3ec3cb52",
   "metadata": {},
   "outputs": [],
   "source": [
    "print(myAddress.split(','))"
   ]
  },
  {
   "cell_type": "code",
   "execution_count": null,
   "id": "108aeb6d",
   "metadata": {},
   "outputs": [],
   "source": [
    "print(myAddress.split(' '))"
   ]
  },
  {
   "cell_type": "code",
   "execution_count": null,
   "id": "9a57e37f",
   "metadata": {},
   "outputs": [],
   "source": [
    "print(myAddress.replace('New','Old'))"
   ]
  },
  {
   "cell_type": "code",
   "execution_count": null,
   "id": "4a8ee0b1",
   "metadata": {},
   "outputs": [],
   "source": [
    "print(myAddress.partition(','))"
   ]
  },
  {
   "cell_type": "code",
   "execution_count": null,
   "id": "364bcd00",
   "metadata": {},
   "outputs": [],
   "source": [
    "#input a string having some digits.wap to calculate the sum of digits present in this string.\n",
    "\n",
    "str = input(\"Enter a string \")\n",
    "count = 0\n",
    "for i in str:\n",
    "    count += 1\n",
    "print(\"Sum of string's digit is \",count)"
   ]
  },
  {
   "cell_type": "code",
   "execution_count": null,
   "id": "8018148b",
   "metadata": {},
   "outputs": [],
   "source": [
    "#input a string having some digits.wap to calculate the sum of digits present in this string.\n",
    "\n",
    "str = input(\"Enter a string \")\n",
    "count = 0\n",
    "for i in str:\n",
    "    if i.isdigit():\n",
    "        count += int(i)\n",
    "print(\"Sum of string's digit is \",count)"
   ]
  },
  {
   "cell_type": "code",
   "execution_count": null,
   "id": "73ebe005",
   "metadata": {},
   "outputs": [],
   "source": [
    "#wap to calculate the vowel\n",
    "\n",
    "str1 = input(\"Enter a String \")\n",
    "count = 0\n",
    "vowels = [\"a\",\"e\",\"i\",\"o\",\"u\"]\n",
    "for i in str1:\n",
    "    if i in vowels:\n",
    "        count += 1\n",
    "print(\"Sum of all vowels is \",count)"
   ]
  },
  {
   "cell_type": "code",
   "execution_count": null,
   "id": "41c0dede",
   "metadata": {},
   "outputs": [],
   "source": [
    "#wap to calculate the vowel\n",
    "\n",
    "str1 = input(\"Enter a String \")\n",
    "vowels = 0\n",
    "for i in str1:\n",
    "    if(i == 'a' or i == 'e' or i == 'i' or i == 'o' or 'u' or i == 'A' or i == 'E' or i == 'I' or i == 'O' or i == 'U'):\n",
    "        vowels = vowels + 1\n",
    "print(\"Sum of all vowels is \",vowels)"
   ]
  },
  {
   "cell_type": "code",
   "execution_count": null,
   "id": "4b8a238c",
   "metadata": {},
   "outputs": [],
   "source": [
    "#program that reads a line and print its statistics like:\n",
    "\n",
    "line = input(\"Enter a line :\")\n",
    "lowercount = uppercount = 0\n",
    "digitcount =  symcount = 0\n",
    "alphacount = 0\n",
    "for i in line:\n",
    "    if i.islower():\n",
    "        lowercount += 1\n",
    "    elif i.isupper():\n",
    "        uppercount += 1\n",
    "    elif i.isdigit():\n",
    "        digitcount += 1\n",
    "    elif i.isalpha():\n",
    "        alphacount += 1\n",
    "    elif i.isalnum() != True and i != ' ':\n",
    "        symcount += 1\n",
    "\n",
    "print(\"Number of upper case letter is \",uppercount)\n",
    "print(\"Number of lower case letter is \",lowercount)\n",
    "print(\"Number of alphabets is \",alphacount)\n",
    "print(\"Number of digits \",digitcount)\n",
    "print(\"Number of symbols :\",symcount)"
   ]
  },
  {
   "cell_type": "code",
   "execution_count": null,
   "id": "3c369904",
   "metadata": {},
   "outputs": [],
   "source": [
    "#wap to print decimal number and prints out the decimal part of the number\n",
    "\n",
    "strng = input('Enter a string(a decimal number):')\n",
    "t = strng.partition('.')\n",
    "print(\"Befor partition \",s)\n",
    "print(\"After partiton \",t)"
   ]
  },
  {
   "cell_type": "code",
   "execution_count": null,
   "id": "2e9db372",
   "metadata": {},
   "outputs": [],
   "source": [
    "#wap to implement a simple calculator for two input numbers.offer choices through a menu.\n",
    "\n",
    "num1 = int(input(\"Enter first number\"))\n",
    "num2 = int(input(\"Enter Second number\"))\n",
    "ch = 0\n",
    "while ch < 5:\n",
    "    print(\"Enter your choice for calculation\")\n",
    "    print(\"1.Addition\")\n",
    "    print(\"2.Substraction\")\n",
    "    print(\"3.Multiplication\")\n",
    "    print(\"4.Division\")\n",
    "    print(\"5.Exit\")\n",
    "    \n",
    "    ch = int(input(\"Enter your choice\"))\n",
    "    \n",
    "    if ch == 1:\n",
    "        c = num1 + num2\n",
    "        print(\"Sum = \",c)\n",
    "    elif ch == 2:\n",
    "        c = num1 - num2\n",
    "        print(\"Difference= \",c)\n",
    "    elif ch == 3:\n",
    "        c = num1 * num2\n",
    "        print(\"Product= \",c)\n",
    "    elif ch == 4:\n",
    "        c = num1/num2\n",
    "        print(\"Quotient= \",c)\n",
    "    elif ch ==5:\n",
    "        break\n",
    "    else:\n",
    "        Print(\"Invalid Choice\")"
   ]
  },
  {
   "cell_type": "code",
   "execution_count": null,
   "id": "ac47aa3c",
   "metadata": {},
   "outputs": [],
   "source": [
    "#wap to print the following using a single loop(no nested loops)\n",
    "\n",
    "n = 1\n",
    "for i in range(5):\n",
    "    print(n)\n",
    "    n = n * 10+1"
   ]
  },
  {
   "cell_type": "code",
   "execution_count": null,
   "id": "8ac387d2",
   "metadata": {},
   "outputs": [],
   "source": [
    "#wap to make calculator using input\n",
    "num1 = int(input(\"Enter first number= \"))\n",
    "num2 = int(input(\"Enter second number= \"))\n",
    "\n",
    "while True:\n",
    "    op = input(\"Enter the operation you like to perform\")\n",
    "    print(\"Enter your choice for calculation\")\n",
    "    print(\"+ = Addition\")\n",
    "    print(\"- = Substraction\")\n",
    "    print(\"* = Multiplication\")\n",
    "    print(\"/ = Division\")\n",
    "    print(\"5.Exit\")\n",
    "    \n",
    "    if op == '+':\n",
    "        c = num1 + num2\n",
    "        print(\"Sum = \",c)\n",
    "    elif op == '-':\n",
    "        c = num1 - num2\n",
    "        print(\"Difference= \",c)\n",
    "    elif op == '*':\n",
    "        c = num1 * num2\n",
    "        print(\"Product= \",c)\n",
    "    elif op == '/':\n",
    "        c = num1/num2\n",
    "        print(\"Quotient= \",c)\n",
    "    elif op ==5:\n",
    "        break\n",
    "    else:\n",
    "        Print(\"Invalid Choice\")"
   ]
  },
  {
   "cell_type": "code",
   "execution_count": 5,
   "id": "337a81a8",
   "metadata": {},
   "outputs": [
    {
     "name": "stdout",
     "output_type": "stream",
     "text": [
      "Enter your marks85\n",
      "B Grade\n"
     ]
    }
   ],
   "source": [
    "#wap to find the grade of a student when grades are allocated as given in the table below.\n",
    "\n",
    "marks = int(input(\"Enter your marks\"))\n",
    "if marks >= 90:\n",
    "    print(\"A Grade\")\n",
    "elif marks >= 80:\n",
    "    print(\"B Grade\")\n",
    "elif marks >= 70:\n",
    "    print(\"C Grade\")\n",
    "elif marks >= 60:\n",
    "    print(\"D Grade\")\n",
    "elif marks < 60:\n",
    "    print(\"E Grade\")\n",
    "else:\n",
    "    print(\"Thanks for using our Services\")\n"
   ]
  },
  {
   "cell_type": "code",
   "execution_count": 7,
   "id": "7d879e82",
   "metadata": {},
   "outputs": [
    {
     "name": "stdout",
     "output_type": "stream",
     "text": [
      "0 Hello\n",
      "1 Hello\n",
      "2 Hello\n",
      "3 Hello\n",
      "4 Hello\n",
      "5 Hello\n",
      "6 Hello\n",
      "7 Hello\n",
      "8 Hello\n",
      "9 Hello\n"
     ]
    }
   ],
   "source": [
    "#print the output of the following program\n",
    "\n",
    "count = 0\n",
    "while count < 10:\n",
    "    print(count,\"Hello\")\n",
    "    count += 1"
   ]
  },
  {
   "cell_type": "code",
   "execution_count": null,
   "id": "fc44f97c",
   "metadata": {},
   "outputs": [],
   "source": [
    "x = 10\n",
    "y = 0\n",
    "while x>y:\n",
    "    print(x,y)\n",
    "    x = x-1\n",
    "    y = y-1"
   ]
  },
  {
   "cell_type": "code",
   "execution_count": null,
   "id": "d2c4b179",
   "metadata": {},
   "outputs": [],
   "source": []
  }
 ],
 "metadata": {
  "kernelspec": {
   "display_name": "Python 3 (ipykernel)",
   "language": "python",
   "name": "python3"
  },
  "language_info": {
   "codemirror_mode": {
    "name": "ipython",
    "version": 3
   },
   "file_extension": ".py",
   "mimetype": "text/x-python",
   "name": "python",
   "nbconvert_exporter": "python",
   "pygments_lexer": "ipython3",
   "version": "3.9.12"
  }
 },
 "nbformat": 4,
 "nbformat_minor": 5
}
