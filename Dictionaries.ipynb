{
 "cells": [
  {
   "cell_type": "code",
   "execution_count": 1,
   "id": "6b1a94ba",
   "metadata": {},
   "outputs": [],
   "source": [
    "dict1 = {}"
   ]
  },
  {
   "cell_type": "code",
   "execution_count": 2,
   "id": "b4cef42b",
   "metadata": {},
   "outputs": [
    {
     "name": "stdout",
     "output_type": "stream",
     "text": [
      "{}\n",
      "<class 'dict'>\n"
     ]
    }
   ],
   "source": [
    "print(dict1)\n",
    "print(type(dict1))"
   ]
  },
  {
   "cell_type": "code",
   "execution_count": 3,
   "id": "75e40b56",
   "metadata": {},
   "outputs": [
    {
     "name": "stdout",
     "output_type": "stream",
     "text": [
      "{'January': 31, 'February': 28, 'March': 31, 'April': 30}\n",
      "<class 'dict'>\n"
     ]
    }
   ],
   "source": [
    "DaysInMonths = {\"January\" : 31, \"February\" : 28, \"March\" : 31,\"April\" : 30}\n",
    "print(DaysInMonths)\n",
    "print(type(DaysInMonths))"
   ]
  },
  {
   "cell_type": "code",
   "execution_count": 4,
   "id": "7302cd48",
   "metadata": {},
   "outputs": [],
   "source": [
    "BirdCount = {\"Finch\" : 10, \"Myna\" : 13,\"Hornbill\" : 15, \"Peacock\" : 15}"
   ]
  },
  {
   "cell_type": "code",
   "execution_count": 5,
   "id": "e62a7f56",
   "metadata": {},
   "outputs": [
    {
     "name": "stdout",
     "output_type": "stream",
     "text": [
      "{'Finch': 10, 'Myna': 13, 'Hornbill': 15, 'Peacock': 15}\n"
     ]
    }
   ],
   "source": [
    "print(BirdCount)"
   ]
  },
  {
   "cell_type": "code",
   "execution_count": 6,
   "id": "25f3cdfb",
   "metadata": {},
   "outputs": [
    {
     "name": "stdout",
     "output_type": "stream",
     "text": [
      "Enter Roll no :1\n",
      "Enter Marks :15\n",
      "Enter Roll no :2\n",
      "Enter Marks :12\n",
      "Enter Roll no :3\n",
      "Enter Marks :55\n",
      "Enter Roll no :4\n",
      "Enter Marks :51\n",
      "Created Dictionary   {1: 15, 2: 12, 3: 55, 4: 51}\n"
     ]
    }
   ],
   "source": [
    "#wap to read roll numbers and marks of four students and create a dictionary from it having roll numbers as keys.\n",
    "\n",
    "rno = []\n",
    "mks = []\n",
    "\n",
    "for a in range(4):\n",
    "    r = eval(input(\"Enter Roll no :\"))\n",
    "    m = eval(input(\"Enter Marks :\"))\n",
    "    rno.append(r)\n",
    "    mks.append(m)\n",
    "#     print(rno)\n",
    "#     print(mks)\n",
    "d = {rno[0]:mks[0], rno[1]:mks[1], rno[2]:mks[2], rno[3]:mks[3]}\n",
    "print(\"Created Dictionary  \",d)"
   ]
  },
  {
   "cell_type": "code",
   "execution_count": 7,
   "id": "ba39ad17",
   "metadata": {},
   "outputs": [
    {
     "name": "stdout",
     "output_type": "stream",
     "text": [
      "{'vowel1': 'a', 'vowel2': 'e', 'vowel3': 'i', 'vowel4': 'o', 'vowel5': 'u'}\n"
     ]
    }
   ],
   "source": [
    "d = {\"vowel1\" : \"a\",\"vowel2\" : \"e\", \"vowel3\": \"i\",\"vowel4\":\"o\",\"vowel5\":\"u\"}\n",
    "print(d)"
   ]
  },
  {
   "cell_type": "code",
   "execution_count": 8,
   "id": "9404200b",
   "metadata": {},
   "outputs": [
    {
     "data": {
      "text/plain": [
       "{'vowel1': 'a', 'vowel2': 'e', 'vowel3': 'i', 'vowel4': 'o', 'vowel5': 'u'}"
      ]
     },
     "execution_count": 8,
     "metadata": {},
     "output_type": "execute_result"
    }
   ],
   "source": [
    "d"
   ]
  },
  {
   "cell_type": "code",
   "execution_count": 9,
   "id": "a0cce0d9",
   "metadata": {},
   "outputs": [
    {
     "data": {
      "text/plain": [
       "'e'"
      ]
     },
     "execution_count": 9,
     "metadata": {},
     "output_type": "execute_result"
    }
   ],
   "source": [
    "d[\"vowel2\"]"
   ]
  },
  {
   "cell_type": "code",
   "execution_count": 10,
   "id": "acc7402d",
   "metadata": {},
   "outputs": [
    {
     "data": {
      "text/plain": [
       "'a'"
      ]
     },
     "execution_count": 10,
     "metadata": {},
     "output_type": "execute_result"
    }
   ],
   "source": [
    "d['vowel1']"
   ]
  },
  {
   "cell_type": "code",
   "execution_count": 11,
   "id": "67a03059",
   "metadata": {},
   "outputs": [
    {
     "name": "stdout",
     "output_type": "stream",
     "text": [
      "Enter Roll no :1\n",
      "Enter Marks :20\n",
      "Enter Roll no :2\n",
      "Enter Marks :55\n",
      "Enter Roll no :3\n",
      "Enter Marks :40\n",
      "Enter Roll no :4\n",
      "Enter Marks :18\n",
      "Created Dictionary   {1: 20, 2: 55, 3: 40, 4: 18}\n",
      "Roll number 2 scored 55 (<75)\n"
     ]
    }
   ],
   "source": [
    "# Q13.2 Consider the dictionary created in the previous program.\n",
    "# Modify the  previous program to check if the roll number 2 has scored more than 75 marks?\n",
    "rno = []\n",
    "mks = []\n",
    "\n",
    "for a in range(4):\n",
    "    r = eval(input(\"Enter Roll no :\"))\n",
    "    m = eval(input(\"Enter Marks :\"))\n",
    "    rno.append(r)\n",
    "    mks.append(m)\n",
    "#     print(rno)\n",
    "#     print(mks)\n",
    "d = {rno[0]:mks[0], rno[1]:mks[1], rno[2]:mks[2], rno[3]:mks[3]}\n",
    "print(\"Created Dictionary  \",d)\n",
    "\n",
    "if d[2] > 75:\n",
    "    print(\"Roll number 2 scored\", d[2], \"(>75)\")\n",
    "else:\n",
    "    print(\"Roll number 2 scored\", d[2], \"(<75)\")\n",
    "    "
   ]
  },
  {
   "cell_type": "code",
   "execution_count": 12,
   "id": "eb9e9080",
   "metadata": {},
   "outputs": [],
   "source": [
    "d1 = { 5 : \"number\",\\\n",
    "     \"a\" : \"string\",\\\n",
    "     (1,2) : \"tuple\"}"
   ]
  },
  {
   "cell_type": "code",
   "execution_count": 13,
   "id": "1d88a70c",
   "metadata": {},
   "outputs": [
    {
     "data": {
      "text/plain": [
       "{5: 'number', 'a': 'string', (1, 2): 'tuple'}"
      ]
     },
     "execution_count": 13,
     "metadata": {},
     "output_type": "execute_result"
    }
   ],
   "source": [
    "d1"
   ]
  },
  {
   "cell_type": "code",
   "execution_count": 14,
   "id": "71d3955f",
   "metadata": {},
   "outputs": [
    {
     "name": "stdout",
     "output_type": "stream",
     "text": [
      "5 : number\n",
      "a : string\n",
      "(1, 2) : tuple\n"
     ]
    }
   ],
   "source": [
    "for key in d1:\n",
    "    print(key, \":\",d1[key])"
   ]
  },
  {
   "cell_type": "code",
   "execution_count": 15,
   "id": "546969d5",
   "metadata": {},
   "outputs": [],
   "source": [
    "#wap to create a phone dictionary for all your friends and print each key value pair in separate lines.\n",
    "\n",
    "PhoneDict = {\"Madhav\" : 1234567, \"Steven\" : 7654321, \" Dilpreet\" : 6734521,\n",
    "            \"Rabiya\" : 4563217, \"Murughan\" : 3241567, \"Sampree\" : 4673215}"
   ]
  },
  {
   "cell_type": "code",
   "execution_count": 16,
   "id": "87a1d210",
   "metadata": {},
   "outputs": [
    {
     "name": "stdout",
     "output_type": "stream",
     "text": [
      "{'Madhav': 1234567, 'Steven': 7654321, ' Dilpreet': 6734521, 'Rabiya': 4563217, 'Murughan': 3241567, 'Sampree': 4673215}\n"
     ]
    }
   ],
   "source": [
    "print(PhoneDict)"
   ]
  },
  {
   "cell_type": "code",
   "execution_count": 17,
   "id": "ae6065a8",
   "metadata": {},
   "outputs": [
    {
     "name": "stdout",
     "output_type": "stream",
     "text": [
      "Madhav : 1234567\n",
      "Steven : 7654321\n",
      " Dilpreet : 6734521\n",
      "Rabiya : 4563217\n",
      "Murughan : 3241567\n",
      "Sampree : 4673215\n"
     ]
    }
   ],
   "source": [
    "for name in PhoneDict : \n",
    "    print(name, \":\",PhoneDict[name])"
   ]
  },
  {
   "cell_type": "code",
   "execution_count": 18,
   "id": "fdcd4837",
   "metadata": {},
   "outputs": [],
   "source": [
    "Employee1 = dict(name = 'John', salary = 10000, age = 24)"
   ]
  },
  {
   "cell_type": "code",
   "execution_count": 19,
   "id": "e3fd701d",
   "metadata": {},
   "outputs": [
    {
     "name": "stdout",
     "output_type": "stream",
     "text": [
      "{'name': 'John', 'salary': 10000, 'age': 24}\n"
     ]
    }
   ],
   "source": [
    "print(Employee1)"
   ]
  },
  {
   "cell_type": "code",
   "execution_count": 20,
   "id": "29b02449",
   "metadata": {},
   "outputs": [],
   "source": [
    "Employee2 = dict({'name' : 'John','salary' : 1000, 'age': 24})"
   ]
  },
  {
   "cell_type": "code",
   "execution_count": 21,
   "id": "6246cf3b",
   "metadata": {},
   "outputs": [
    {
     "data": {
      "text/plain": [
       "{'name': 'John', 'salary': 1000, 'age': 24}"
      ]
     },
     "execution_count": 21,
     "metadata": {},
     "output_type": "execute_result"
    }
   ],
   "source": [
    "Employee2"
   ]
  },
  {
   "cell_type": "code",
   "execution_count": 22,
   "id": "867fe466",
   "metadata": {},
   "outputs": [
    {
     "name": "stdout",
     "output_type": "stream",
     "text": [
      "{'name': 'John', 'salary': 1000, 'age': 24}\n"
     ]
    }
   ],
   "source": [
    "Employee3 = dict(zip(('name','salary','age'),('John',1000,24)))\n",
    "print(Employee3)"
   ]
  },
  {
   "cell_type": "code",
   "execution_count": 23,
   "id": "10218632",
   "metadata": {},
   "outputs": [],
   "source": [
    "Employee = dict([['name','Johri'],['salary',1000],['age',24]])"
   ]
  },
  {
   "cell_type": "code",
   "execution_count": 24,
   "id": "c13c1eaf",
   "metadata": {},
   "outputs": [
    {
     "data": {
      "text/plain": [
       "{'name': 'Johri', 'salary': 1000, 'age': 24}"
      ]
     },
     "execution_count": 24,
     "metadata": {},
     "output_type": "execute_result"
    }
   ],
   "source": [
    "Employee"
   ]
  },
  {
   "cell_type": "code",
   "execution_count": 25,
   "id": "cf611c22",
   "metadata": {},
   "outputs": [
    {
     "data": {
      "text/plain": [
       "{'name': 'John', 'salary': 1000, 'age': 24}"
      ]
     },
     "execution_count": 25,
     "metadata": {},
     "output_type": "execute_result"
    }
   ],
   "source": [
    "Emp12 = dict((['name','John'],['salary',1000],['age',24]))\n",
    "Emp12"
   ]
  },
  {
   "cell_type": "code",
   "execution_count": 26,
   "id": "3f85d429",
   "metadata": {},
   "outputs": [],
   "source": [
    "Emp13 = dict((('name','John'),('salary',1000),('age',24)))"
   ]
  },
  {
   "cell_type": "code",
   "execution_count": 27,
   "id": "fadfd508",
   "metadata": {},
   "outputs": [
    {
     "data": {
      "text/plain": [
       "{'name': 'John', 'salary': 1000, 'age': 24}"
      ]
     },
     "execution_count": 27,
     "metadata": {},
     "output_type": "execute_result"
    }
   ],
   "source": [
    "Emp13"
   ]
  },
  {
   "cell_type": "code",
   "execution_count": 28,
   "id": "ec4d2350",
   "metadata": {},
   "outputs": [],
   "source": [
    "#wap to create a dictionary namely Numericals from following two lists.\n",
    "\n",
    "keys = ['One','Two','Three']\n",
    "values = [1,2,3]\n",
    "Numericals = dict(zip(keys,values))"
   ]
  },
  {
   "cell_type": "code",
   "execution_count": 29,
   "id": "a488f247",
   "metadata": {},
   "outputs": [
    {
     "data": {
      "text/plain": [
       "{'One': 1, 'Two': 2, 'Three': 3}"
      ]
     },
     "execution_count": 29,
     "metadata": {},
     "output_type": "execute_result"
    }
   ],
   "source": [
    "Numericals"
   ]
  },
  {
   "cell_type": "code",
   "execution_count": 30,
   "id": "026a3118",
   "metadata": {},
   "outputs": [],
   "source": [
    "Employee = {'name' : 'John','salary': 10000,'age': 24}\n",
    "Employee['dept'] = 'Sales'"
   ]
  },
  {
   "cell_type": "code",
   "execution_count": 31,
   "id": "48cf2ad9",
   "metadata": {},
   "outputs": [
    {
     "name": "stdout",
     "output_type": "stream",
     "text": [
      "{'name': 'John', 'salary': 10000, 'age': 24, 'dept': 'Sales'}\n"
     ]
    }
   ],
   "source": [
    "print(Employee)"
   ]
  },
  {
   "cell_type": "code",
   "execution_count": 32,
   "id": "6e72d3e9",
   "metadata": {},
   "outputs": [
    {
     "name": "stdout",
     "output_type": "stream",
     "text": [
      "How many students1\n",
      "Enter Roll No. , Marks :1,25\n",
      "Created dictionary\n",
      "{1: 25}\n",
      "Enter details of the new studens\n",
      "Roll No. , Marks : 2,35\n",
      "More students ? (y/n) :n\n",
      "Dictionary after adding new students\n",
      "{1: 25, 2: 35}\n"
     ]
    }
   ],
   "source": [
    "#wap to add new students 'roll numbers' and marks in the dictionary \n",
    "# M created with roll numbers as the keys and marks as the values.\n",
    "\n",
    "M = {}\n",
    "n = int(input(\"How many students\"))\n",
    "for a in range(n):\n",
    "    r,m = eval(input(\"Enter Roll No. , Marks :\"))\n",
    "    M[r] = m\n",
    "    print(\"Created dictionary\")\n",
    "    print(M)\n",
    "    ans = 'y'\n",
    "    while ans == 'y':\n",
    "        print(\"Enter details of the new studens\")\n",
    "        r,m = eval(input(\"Roll No. , Marks : \"))\n",
    "        M[r] = m\n",
    "        ans = input(\"More students ? (y/n) :\")\n",
    "    print(\"Dictionary after adding new students\")\n",
    "    print(M)"
   ]
  },
  {
   "cell_type": "code",
   "execution_count": 33,
   "id": "33ef4b6b",
   "metadata": {},
   "outputs": [
    {
     "name": "stdout",
     "output_type": "stream",
     "text": [
      "Employees John :\n",
      "Age : 25\n",
      "Salary : 2000\n",
      "Employees Diya :\n",
      "Age : 35\n",
      "Salary : 5000\n"
     ]
    }
   ],
   "source": [
    "# Q\n",
    "\n",
    "Employees = {'John' : {'age' : 25,'salary':2000},'Diya' : {'age' : 35,'salary' : 5000}}\n",
    "for key in Employees: \n",
    "    print(\"Employees\",key,':')\n",
    "    print('Age :',str(Employees[key]['age']))\n",
    "    print('Salary :',str(Employees[key]['salary']))"
   ]
  },
  {
   "cell_type": "code",
   "execution_count": 34,
   "id": "74b6deaf",
   "metadata": {},
   "outputs": [
    {
     "data": {
      "text/plain": [
       "{'name': 'John', 'salary': 20000, 'age': 24}"
      ]
     },
     "execution_count": 34,
     "metadata": {},
     "output_type": "execute_result"
    }
   ],
   "source": [
    "# Updating/Modifying Existing element in a Dictionary\n",
    "Employee = {'name': 'John','salary':10000,'age': 24}\n",
    "Employee['salary'] = 20000\n",
    "Employee"
   ]
  },
  {
   "cell_type": "code",
   "execution_count": 35,
   "id": "dd776dbd",
   "metadata": {},
   "outputs": [
    {
     "name": "stdout",
     "output_type": "stream",
     "text": [
      "{'salary': 1000, 'age': 24, 'name': 'John'}\n"
     ]
    }
   ],
   "source": [
    "emp1= {'salary' : 1000,'age': 24,'name': 'John'}\n",
    "print(emp1)"
   ]
  },
  {
   "cell_type": "code",
   "execution_count": 36,
   "id": "0b9bfd63",
   "metadata": {},
   "outputs": [
    {
     "data": {
      "text/plain": [
       "True"
      ]
     },
     "execution_count": 36,
     "metadata": {},
     "output_type": "execute_result"
    }
   ],
   "source": [
    "'age' in emp1"
   ]
  },
  {
   "cell_type": "code",
   "execution_count": 37,
   "id": "fef8f1f8",
   "metadata": {},
   "outputs": [
    {
     "data": {
      "text/plain": [
       "True"
      ]
     },
     "execution_count": 37,
     "metadata": {},
     "output_type": "execute_result"
    }
   ],
   "source": [
    "'name' in emp1"
   ]
  },
  {
   "cell_type": "code",
   "execution_count": 38,
   "id": "bdee33a5",
   "metadata": {},
   "outputs": [
    {
     "data": {
      "text/plain": [
       "False"
      ]
     },
     "execution_count": 38,
     "metadata": {},
     "output_type": "execute_result"
    }
   ],
   "source": [
    "'John' in emp1"
   ]
  },
  {
   "cell_type": "code",
   "execution_count": 39,
   "id": "d0541e88",
   "metadata": {},
   "outputs": [
    {
     "data": {
      "text/plain": [
       "True"
      ]
     },
     "execution_count": 39,
     "metadata": {},
     "output_type": "execute_result"
    }
   ],
   "source": [
    "'salary' in emp1"
   ]
  },
  {
   "cell_type": "code",
   "execution_count": 40,
   "id": "69a09e03",
   "metadata": {},
   "outputs": [
    {
     "data": {
      "text/plain": [
       "True"
      ]
     },
     "execution_count": 40,
     "metadata": {},
     "output_type": "execute_result"
    }
   ],
   "source": [
    "'John' not in emp1"
   ]
  },
  {
   "cell_type": "code",
   "execution_count": 41,
   "id": "587ba2c9",
   "metadata": {},
   "outputs": [],
   "source": [
    "text = \"This is a sample string\"\n",
    "words = text.split()"
   ]
  },
  {
   "cell_type": "code",
   "execution_count": 42,
   "id": "a1585108",
   "metadata": {},
   "outputs": [
    {
     "name": "stdout",
     "output_type": "stream",
     "text": [
      "['This', 'is', 'a', 'sample', 'string']\n"
     ]
    }
   ],
   "source": [
    "print(words)"
   ]
  },
  {
   "cell_type": "code",
   "execution_count": 43,
   "id": "02d3a561",
   "metadata": {},
   "outputs": [],
   "source": [
    "text = \"one,two,three\"\n",
    "words = text.split(\",\")"
   ]
  },
  {
   "cell_type": "code",
   "execution_count": 44,
   "id": "af9e8da6",
   "metadata": {},
   "outputs": [
    {
     "name": "stdout",
     "output_type": "stream",
     "text": [
      "['one', 'two', 'three']\n"
     ]
    }
   ],
   "source": [
    "print(words)"
   ]
  },
  {
   "cell_type": "code",
   "execution_count": 45,
   "id": "b2ac5194",
   "metadata": {},
   "outputs": [
    {
     "name": "stdout",
     "output_type": "stream",
     "text": [
      "Counting frequencies in list \n",
      " ['This', 'is', 'a', 'super', 'idea', 'This', 'idea', 'will', 'change', 'the', 'idea', 'of', 'learning']\n",
      "{\n",
      " \"This\": 2\n",
      "}\n",
      "Counting frequencies in list \n",
      " ['This', 'is', 'a', 'super', 'idea', 'This', 'idea', 'will', 'change', 'the', 'idea', 'of', 'learning']\n",
      "{\n",
      " \"This\": 2,\n",
      " \"is\": 1\n",
      "}\n",
      "Counting frequencies in list \n",
      " ['This', 'is', 'a', 'super', 'idea', 'This', 'idea', 'will', 'change', 'the', 'idea', 'of', 'learning']\n",
      "{\n",
      " \"This\": 2,\n",
      " \"is\": 1,\n",
      " \"a\": 1\n",
      "}\n",
      "Counting frequencies in list \n",
      " ['This', 'is', 'a', 'super', 'idea', 'This', 'idea', 'will', 'change', 'the', 'idea', 'of', 'learning']\n",
      "{\n",
      " \"This\": 2,\n",
      " \"is\": 1,\n",
      " \"a\": 1,\n",
      " \"super\": 1\n",
      "}\n",
      "Counting frequencies in list \n",
      " ['This', 'is', 'a', 'super', 'idea', 'This', 'idea', 'will', 'change', 'the', 'idea', 'of', 'learning']\n",
      "{\n",
      " \"This\": 2,\n",
      " \"is\": 1,\n",
      " \"a\": 1,\n",
      " \"super\": 1,\n",
      " \"idea\": 3\n",
      "}\n",
      "Counting frequencies in list \n",
      " ['This', 'is', 'a', 'super', 'idea', 'This', 'idea', 'will', 'change', 'the', 'idea', 'of', 'learning']\n",
      "{\n",
      " \"This\": 2,\n",
      " \"is\": 1,\n",
      " \"a\": 1,\n",
      " \"super\": 1,\n",
      " \"idea\": 3\n",
      "}\n",
      "Counting frequencies in list \n",
      " ['This', 'is', 'a', 'super', 'idea', 'This', 'idea', 'will', 'change', 'the', 'idea', 'of', 'learning']\n",
      "{\n",
      " \"This\": 2,\n",
      " \"is\": 1,\n",
      " \"a\": 1,\n",
      " \"super\": 1,\n",
      " \"idea\": 3\n",
      "}\n",
      "Counting frequencies in list \n",
      " ['This', 'is', 'a', 'super', 'idea', 'This', 'idea', 'will', 'change', 'the', 'idea', 'of', 'learning']\n",
      "{\n",
      " \"This\": 2,\n",
      " \"is\": 1,\n",
      " \"a\": 1,\n",
      " \"super\": 1,\n",
      " \"idea\": 3,\n",
      " \"will\": 1\n",
      "}\n",
      "Counting frequencies in list \n",
      " ['This', 'is', 'a', 'super', 'idea', 'This', 'idea', 'will', 'change', 'the', 'idea', 'of', 'learning']\n",
      "{\n",
      " \"This\": 2,\n",
      " \"is\": 1,\n",
      " \"a\": 1,\n",
      " \"super\": 1,\n",
      " \"idea\": 3,\n",
      " \"will\": 1,\n",
      " \"change\": 1\n",
      "}\n",
      "Counting frequencies in list \n",
      " ['This', 'is', 'a', 'super', 'idea', 'This', 'idea', 'will', 'change', 'the', 'idea', 'of', 'learning']\n",
      "{\n",
      " \"This\": 2,\n",
      " \"is\": 1,\n",
      " \"a\": 1,\n",
      " \"super\": 1,\n",
      " \"idea\": 3,\n",
      " \"will\": 1,\n",
      " \"change\": 1,\n",
      " \"the\": 1\n",
      "}\n",
      "Counting frequencies in list \n",
      " ['This', 'is', 'a', 'super', 'idea', 'This', 'idea', 'will', 'change', 'the', 'idea', 'of', 'learning']\n",
      "{\n",
      " \"This\": 2,\n",
      " \"is\": 1,\n",
      " \"a\": 1,\n",
      " \"super\": 1,\n",
      " \"idea\": 3,\n",
      " \"will\": 1,\n",
      " \"change\": 1,\n",
      " \"the\": 1\n",
      "}\n",
      "Counting frequencies in list \n",
      " ['This', 'is', 'a', 'super', 'idea', 'This', 'idea', 'will', 'change', 'the', 'idea', 'of', 'learning']\n",
      "{\n",
      " \"This\": 2,\n",
      " \"is\": 1,\n",
      " \"a\": 1,\n",
      " \"super\": 1,\n",
      " \"idea\": 3,\n",
      " \"will\": 1,\n",
      " \"change\": 1,\n",
      " \"the\": 1,\n",
      " \"of\": 1\n",
      "}\n",
      "Counting frequencies in list \n",
      " ['This', 'is', 'a', 'super', 'idea', 'This', 'idea', 'will', 'change', 'the', 'idea', 'of', 'learning']\n",
      "{\n",
      " \"This\": 2,\n",
      " \"is\": 1,\n",
      " \"a\": 1,\n",
      " \"super\": 1,\n",
      " \"idea\": 3,\n",
      " \"will\": 1,\n",
      " \"change\": 1,\n",
      " \"the\": 1,\n",
      " \"of\": 1,\n",
      " \"learning\": 1\n",
      "}\n"
     ]
    }
   ],
   "source": [
    "#program to count the frequency of a listof elements using a dictionary.\n",
    "\n",
    "import json\n",
    "sentence = \"This is a super idea This \\\n",
    "idea will change the idea of learning\"\n",
    "\n",
    "words = sentence.split()\n",
    "d = {}\n",
    "for one in words:\n",
    "    key = one\n",
    "    if key not in d:\n",
    "        count = words.count(key)\n",
    "        d[key] = count\n",
    "    print(\"Counting frequencies in list \\n\",words)\n",
    "    print(json.dumps(d,indent = 1))"
   ]
  },
  {
   "cell_type": "code",
   "execution_count": 46,
   "id": "6be3646f",
   "metadata": {},
   "outputs": [
    {
     "name": "stdout",
     "output_type": "stream",
     "text": [
      "{'salary': 1000, 'age': 24, 'name': 'John'}\n"
     ]
    }
   ],
   "source": [
    "#Accesing items, key, values - get(), items(), keys(), values()\n",
    "\n",
    "print(emp1)"
   ]
  },
  {
   "cell_type": "code",
   "execution_count": 47,
   "id": "df36c5d0",
   "metadata": {},
   "outputs": [
    {
     "data": {
      "text/plain": [
       "'John'"
      ]
     },
     "execution_count": 47,
     "metadata": {},
     "output_type": "execute_result"
    }
   ],
   "source": [
    "emp1.get('name')"
   ]
  },
  {
   "cell_type": "code",
   "execution_count": 48,
   "id": "d3af0e19",
   "metadata": {},
   "outputs": [],
   "source": [
    "emp1['dept'] = 'sales'"
   ]
  },
  {
   "cell_type": "code",
   "execution_count": 49,
   "id": "12b73cc7",
   "metadata": {},
   "outputs": [
    {
     "data": {
      "text/plain": [
       "{'salary': 1000, 'age': 24, 'name': 'John', 'dept': 'sales'}"
      ]
     },
     "execution_count": 49,
     "metadata": {},
     "output_type": "execute_result"
    }
   ],
   "source": [
    "emp1"
   ]
  },
  {
   "cell_type": "code",
   "execution_count": 50,
   "id": "a72c0fc8",
   "metadata": {},
   "outputs": [
    {
     "data": {
      "text/plain": [
       "dict_items([('salary', 1000), ('age', 24), ('name', 'John'), ('dept', 'sales')])"
      ]
     },
     "execution_count": 50,
     "metadata": {},
     "output_type": "execute_result"
    }
   ],
   "source": [
    "emp1.items()"
   ]
  },
  {
   "cell_type": "code",
   "execution_count": 51,
   "id": "6d3d1d2c",
   "metadata": {},
   "outputs": [
    {
     "data": {
      "text/plain": [
       "dict_keys(['salary', 'age', 'name', 'dept'])"
      ]
     },
     "execution_count": 51,
     "metadata": {},
     "output_type": "execute_result"
    }
   ],
   "source": [
    "# keys - to get all the keys of dictionary\n",
    "emp1.keys()"
   ]
  },
  {
   "cell_type": "code",
   "execution_count": 52,
   "id": "b2634913",
   "metadata": {},
   "outputs": [
    {
     "data": {
      "text/plain": [
       "dict_values([1000, 24, 'John', 'sales'])"
      ]
     },
     "execution_count": 52,
     "metadata": {},
     "output_type": "execute_result"
    }
   ],
   "source": [
    "#values - to get all the values of dictionary\n",
    "emp1.values()"
   ]
  },
  {
   "cell_type": "code",
   "execution_count": 53,
   "id": "d0dd1c6c",
   "metadata": {},
   "outputs": [
    {
     "data": {
      "text/plain": [
       "{11: 'siya', 22: 'Ruby', 26: 'keth', 31: 'Preet', 32: 'Huma'}"
      ]
     },
     "execution_count": 53,
     "metadata": {},
     "output_type": "execute_result"
    }
   ],
   "source": [
    "# Q. 13.13\n",
    "\n",
    "S = {11: 'siya', 22: 'Ruby', 26: 'keth',31: 'Preet',32:'Huma'}\n",
    "S"
   ]
  },
  {
   "cell_type": "code",
   "execution_count": 54,
   "id": "0f09d12a",
   "metadata": {},
   "outputs": [
    {
     "data": {
      "text/plain": [
       "dict_keys([11, 22, 26, 31, 32])"
      ]
     },
     "execution_count": 54,
     "metadata": {},
     "output_type": "execute_result"
    }
   ],
   "source": [
    "S.keys()"
   ]
  },
  {
   "cell_type": "code",
   "execution_count": 55,
   "id": "0734212f",
   "metadata": {},
   "outputs": [
    {
     "data": {
      "text/plain": [
       "dict_values(['siya', 'Ruby', 'keth', 'Preet', 'Huma'])"
      ]
     },
     "execution_count": 55,
     "metadata": {},
     "output_type": "execute_result"
    }
   ],
   "source": [
    "S.values()"
   ]
  },
  {
   "cell_type": "code",
   "execution_count": 56,
   "id": "3ae060d5",
   "metadata": {},
   "outputs": [
    {
     "name": "stdout",
     "output_type": "stream",
     "text": [
      "How many students?1\n",
      "Enter Roll no1\n",
      "Created dictionary\n",
      "{1: 2500}\n"
     ]
    }
   ],
   "source": [
    "L = []\n",
    "n =int(input(\"How many students?\"))\n",
    "for a in range(n):\n",
    "    r = int(input(\"Enter Roll no\"))\n",
    "    L.append(r)\n",
    "S = dict.fromkeys(L,2500)\n",
    "print(\"Created dictionary\")\n",
    "print(S)"
   ]
  },
  {
   "cell_type": "code",
   "execution_count": 57,
   "id": "95351df2",
   "metadata": {},
   "outputs": [
    {
     "name": "stdout",
     "output_type": "stream",
     "text": [
      "{2: 100, 4: 100, 6: 100, 8: 100}\n"
     ]
    }
   ],
   "source": [
    "#Creating Dictionary from keys - the fromkeys() Method\n",
    "\n",
    "nd = dict.fromkeys([2,4,6,8],100)\n",
    "print(nd)"
   ]
  },
  {
   "cell_type": "code",
   "execution_count": 58,
   "id": "0621c4d1",
   "metadata": {},
   "outputs": [],
   "source": [
    "nd1 = dict.fromkeys((3,4,5))"
   ]
  },
  {
   "cell_type": "code",
   "execution_count": 59,
   "id": "ffe85865",
   "metadata": {},
   "outputs": [
    {
     "name": "stdout",
     "output_type": "stream",
     "text": [
      "{3: None, 4: None, 5: None}\n"
     ]
    }
   ],
   "source": [
    "print(nd1)"
   ]
  },
  {
   "cell_type": "code",
   "execution_count": 60,
   "id": "d87e5afa",
   "metadata": {},
   "outputs": [
    {
     "name": "stdout",
     "output_type": "stream",
     "text": [
      "{3: (6, 7, 8), 4: (6, 7, 8), 5: (6, 7, 8)}\n"
     ]
    }
   ],
   "source": [
    "nd1 = dict.fromkeys((3,4,5),(6,7,8))\n",
    "print(nd1)"
   ]
  },
  {
   "cell_type": "code",
   "execution_count": 61,
   "id": "6712e984",
   "metadata": {},
   "outputs": [
    {
     "name": "stdout",
     "output_type": "stream",
     "text": [
      "{1: 350, 2: 423, 3: 411, 4: 300}\n"
     ]
    }
   ],
   "source": [
    "# The setdefault() method\n",
    "\n",
    "Marks = {1:350,2:423,3:411,4:300}\n",
    "print(Marks)"
   ]
  },
  {
   "cell_type": "code",
   "execution_count": 62,
   "id": "477449f4",
   "metadata": {},
   "outputs": [
    {
     "data": {
      "text/plain": [
       "{1: 350, 2: 423, 3: 411, 4: 300, 5: 320}"
      ]
     },
     "execution_count": 62,
     "metadata": {},
     "output_type": "execute_result"
    }
   ],
   "source": [
    "Marks.setdefault(5,320)\n",
    "Marks"
   ]
  },
  {
   "cell_type": "code",
   "execution_count": 63,
   "id": "69c27204",
   "metadata": {},
   "outputs": [
    {
     "data": {
      "text/plain": [
       "320"
      ]
     },
     "execution_count": 63,
     "metadata": {},
     "output_type": "execute_result"
    }
   ],
   "source": [
    "Marks.setdefault(5,340)"
   ]
  },
  {
   "cell_type": "code",
   "execution_count": 64,
   "id": "e685909b",
   "metadata": {},
   "outputs": [
    {
     "data": {
      "text/plain": [
       "{1: 350, 2: 423, 3: 411, 4: 300, 5: 320}"
      ]
     },
     "execution_count": 64,
     "metadata": {},
     "output_type": "execute_result"
    }
   ],
   "source": [
    "Marks"
   ]
  },
  {
   "cell_type": "code",
   "execution_count": 65,
   "id": "5f560afc",
   "metadata": {},
   "outputs": [],
   "source": [
    "Marks.setdefault(6)"
   ]
  },
  {
   "cell_type": "code",
   "execution_count": 66,
   "id": "e5f2afc5",
   "metadata": {},
   "outputs": [
    {
     "data": {
      "text/plain": [
       "{1: 350, 2: 423, 3: 411, 4: 300, 5: 320, 6: None}"
      ]
     },
     "execution_count": 66,
     "metadata": {},
     "output_type": "execute_result"
    }
   ],
   "source": [
    "Marks"
   ]
  },
  {
   "cell_type": "code",
   "execution_count": 67,
   "id": "43fea17a",
   "metadata": {},
   "outputs": [
    {
     "name": "stdout",
     "output_type": "stream",
     "text": [
      "{0: None, 1: None, 2: None, 3: None, 4: None, 5: None, 6: None, 7: None, 8: None, 9: None}\n"
     ]
    }
   ],
   "source": [
    "#wap to create a dictionary with 10 keys to 0.9\n",
    "\n",
    "new_dict = {}\n",
    "for i in range(10):\n",
    "    new_dict.setdefault(i)\n",
    "print(new_dict)"
   ]
  },
  {
   "cell_type": "code",
   "execution_count": 68,
   "id": "5d14f552",
   "metadata": {},
   "outputs": [],
   "source": [
    "stu = {1: 'Ana',2 : 'Neha', 3: 'Avnit', 4: 'Saima'}"
   ]
  },
  {
   "cell_type": "code",
   "execution_count": 69,
   "id": "a77178c8",
   "metadata": {},
   "outputs": [
    {
     "data": {
      "text/plain": [
       "{1: 'Ana', 2: 'Neha', 3: 'Avnit', 4: 'Saima'}"
      ]
     },
     "execution_count": 69,
     "metadata": {},
     "output_type": "execute_result"
    }
   ],
   "source": [
    "stu"
   ]
  },
  {
   "cell_type": "code",
   "execution_count": 70,
   "id": "c977ce1c",
   "metadata": {},
   "outputs": [
    {
     "data": {
      "text/plain": [
       "'Saima'"
      ]
     },
     "execution_count": 70,
     "metadata": {},
     "output_type": "execute_result"
    }
   ],
   "source": [
    "stu.pop(4)"
   ]
  },
  {
   "cell_type": "code",
   "execution_count": 71,
   "id": "3e7b1310",
   "metadata": {},
   "outputs": [
    {
     "data": {
      "text/plain": [
       "{1: 'Ana', 2: 'Neha', 3: 'Avnit'}"
      ]
     },
     "execution_count": 71,
     "metadata": {},
     "output_type": "execute_result"
    }
   ],
   "source": [
    "stu"
   ]
  },
  {
   "cell_type": "code",
   "execution_count": 72,
   "id": "2b893c8a",
   "metadata": {},
   "outputs": [
    {
     "ename": "KeyError",
     "evalue": "8",
     "output_type": "error",
     "traceback": [
      "\u001b[1;31m---------------------------------------------------------------------------\u001b[0m",
      "\u001b[1;31mKeyError\u001b[0m                                  Traceback (most recent call last)",
      "Input \u001b[1;32mIn [72]\u001b[0m, in \u001b[0;36m<cell line: 1>\u001b[1;34m()\u001b[0m\n\u001b[1;32m----> 1\u001b[0m \u001b[43mstu\u001b[49m\u001b[38;5;241;43m.\u001b[39;49m\u001b[43mpop\u001b[49m\u001b[43m(\u001b[49m\u001b[38;5;241;43m8\u001b[39;49m\u001b[43m)\u001b[49m\n",
      "\u001b[1;31mKeyError\u001b[0m: 8"
     ]
    }
   ],
   "source": [
    "stu.pop(8)"
   ]
  },
  {
   "cell_type": "code",
   "execution_count": null,
   "id": "d9f43897",
   "metadata": {},
   "outputs": [],
   "source": [
    "stu.pop(6,\"Not here\")"
   ]
  },
  {
   "cell_type": "code",
   "execution_count": null,
   "id": "8d26c963",
   "metadata": {},
   "outputs": [],
   "source": [
    "stu"
   ]
  },
  {
   "cell_type": "code",
   "execution_count": null,
   "id": "c926a6c0",
   "metadata": {},
   "outputs": [],
   "source": [
    "stu.pop(6,-1)"
   ]
  },
  {
   "cell_type": "code",
   "execution_count": null,
   "id": "85ecb1d4",
   "metadata": {},
   "outputs": [],
   "source": [
    "#The popitem()\n",
    "# <dict>.popitem()\n",
    "\n",
    "stu.popitem()"
   ]
  },
  {
   "cell_type": "code",
   "execution_count": null,
   "id": "2d8fe4b8",
   "metadata": {},
   "outputs": [],
   "source": [
    "stu"
   ]
  },
  {
   "cell_type": "code",
   "execution_count": null,
   "id": "4e51962f",
   "metadata": {},
   "outputs": [],
   "source": [
    "# wap to delete the keys of a dictionary,one by one in lIFO order.\n",
    "\n",
    "Stu = {1:'Neha',2:'Saima',3:'Avnit',4:'Ana',5:'Shaji'}\n",
    "while len(Stu) >= 1:\n",
    "    print(\"Element deleted : \",Stu.popitem())\n",
    "    print(\"All elements of the dictionary got deleted in LIFO order\")"
   ]
  },
  {
   "cell_type": "markdown",
   "id": "78096f2e",
   "metadata": {},
   "source": [
    "# Get Sorted List of keys - the sorted() Functions\n"
   ]
  },
  {
   "cell_type": "code",
   "execution_count": null,
   "id": "07e6549d",
   "metadata": {},
   "outputs": [],
   "source": [
    "Stu = {41: 'Neha',12:'saima',32: 'Avnit',24:'Ana',15:'Shaji'}"
   ]
  },
  {
   "cell_type": "markdown",
   "id": "b61134a0",
   "metadata": {},
   "source": [
    "# using the sorted functions"
   ]
  },
  {
   "cell_type": "code",
   "execution_count": null,
   "id": "89ec73e0",
   "metadata": {},
   "outputs": [],
   "source": [
    "Lst = sorted(Stu)\n",
    "Lst\n",
    "print(Lst)"
   ]
  },
  {
   "cell_type": "code",
   "execution_count": null,
   "id": "4be6354c",
   "metadata": {},
   "outputs": [],
   "source": [
    "Stu"
   ]
  },
  {
   "cell_type": "code",
   "execution_count": null,
   "id": "b26a487c",
   "metadata": {},
   "outputs": [],
   "source": [
    "Stu1 = {41:'Neha',32:'Ana',21:'Niha'}\n",
    "Stu1"
   ]
  },
  {
   "cell_type": "code",
   "execution_count": null,
   "id": "fb407cb1",
   "metadata": {},
   "outputs": [],
   "source": [
    "sorted(Stu1,reverse = True)"
   ]
  },
  {
   "cell_type": "code",
   "execution_count": null,
   "id": "f96638b0",
   "metadata": {},
   "outputs": [],
   "source": [
    "sorted_keys1 = sorted(Stu)\n",
    "sorted_keys2 = sorted(Stu.keys())"
   ]
  },
  {
   "cell_type": "code",
   "execution_count": null,
   "id": "d0d04900",
   "metadata": {},
   "outputs": [],
   "source": [
    "print(sorted_keys1)"
   ]
  },
  {
   "cell_type": "code",
   "execution_count": null,
   "id": "eb7eda84",
   "metadata": {},
   "outputs": [],
   "source": [
    "print(sorted_keys2)"
   ]
  },
  {
   "cell_type": "code",
   "execution_count": null,
   "id": "2147dacf",
   "metadata": {},
   "outputs": [],
   "source": [
    "Stu.values()"
   ]
  },
  {
   "cell_type": "code",
   "execution_count": null,
   "id": "b1cc3835",
   "metadata": {},
   "outputs": [],
   "source": [
    "Stu"
   ]
  },
  {
   "cell_type": "code",
   "execution_count": null,
   "id": "adefdca0",
   "metadata": {},
   "outputs": [],
   "source": [
    "sorted_values = sorted(Stu.values())\n",
    "print(sorted_values)"
   ]
  },
  {
   "cell_type": "code",
   "execution_count": null,
   "id": "f77a3e29",
   "metadata": {},
   "outputs": [],
   "source": [
    "sorted_dict_list = sorted(Stu.items())\n",
    "sorted_dict_list"
   ]
  },
  {
   "cell_type": "code",
   "execution_count": null,
   "id": "957f855a",
   "metadata": {},
   "outputs": [],
   "source": [
    "Stu.items()"
   ]
  },
  {
   "cell_type": "code",
   "execution_count": null,
   "id": "32aa8daa",
   "metadata": {},
   "outputs": [],
   "source": [
    "sorted(Stu.items())"
   ]
  },
  {
   "cell_type": "markdown",
   "id": "9da65ef9",
   "metadata": {},
   "source": [
    "# For the sorted() function to work all the keys should be homogenous"
   ]
  },
  {
   "cell_type": "code",
   "execution_count": null,
   "id": "6de5b2d4",
   "metadata": {},
   "outputs": [],
   "source": [
    "\n",
    "d1 = {(1,2):\"one\",(3,4):\"Two\"}\n",
    "d1"
   ]
  },
  {
   "cell_type": "code",
   "execution_count": null,
   "id": "8aed7e61",
   "metadata": {},
   "outputs": [],
   "source": [
    "sorted(d1)"
   ]
  },
  {
   "cell_type": "code",
   "execution_count": null,
   "id": "7f195e83",
   "metadata": {},
   "outputs": [],
   "source": [
    "d2 = {\"Green\" : 20, \"white\" : 10,\"Gray\":35}"
   ]
  },
  {
   "cell_type": "code",
   "execution_count": null,
   "id": "bc709ba7",
   "metadata": {},
   "outputs": [],
   "source": [
    "d2"
   ]
  },
  {
   "cell_type": "code",
   "execution_count": null,
   "id": "99c8a200",
   "metadata": {
    "scrolled": false
   },
   "outputs": [],
   "source": [
    "sorted(d2)"
   ]
  },
  {
   "cell_type": "markdown",
   "id": "a107ae4c",
   "metadata": {},
   "source": [
    "# Calculating Maximum, Minimum and Sum"
   ]
  },
  {
   "cell_type": "code",
   "execution_count": 85,
   "id": "69dd1937",
   "metadata": {},
   "outputs": [],
   "source": [
    "d1 = {(1,2):'One',(3,4):'Two'}"
   ]
  },
  {
   "cell_type": "code",
   "execution_count": 86,
   "id": "7f725f4e",
   "metadata": {},
   "outputs": [],
   "source": [
    "d3 = {'GreenHouse': 20,'BlueHouse':30,'GrayHouse': 35}"
   ]
  },
  {
   "cell_type": "code",
   "execution_count": 87,
   "id": "740de571",
   "metadata": {},
   "outputs": [
    {
     "name": "stdout",
     "output_type": "stream",
     "text": [
      "{(1, 2): 'One', (3, 4): 'Two'}\n"
     ]
    }
   ],
   "source": [
    "print(d1)"
   ]
  },
  {
   "cell_type": "code",
   "execution_count": 88,
   "id": "47c92846",
   "metadata": {},
   "outputs": [
    {
     "name": "stdout",
     "output_type": "stream",
     "text": [
      "{'GreenHouse': 20, 'BlueHouse': 30, 'GrayHouse': 35}\n"
     ]
    }
   ],
   "source": [
    "print(d3)"
   ]
  },
  {
   "cell_type": "code",
   "execution_count": 89,
   "id": "cc2e672c",
   "metadata": {},
   "outputs": [],
   "source": [
    "d4 = {41:'N',12:'S',32:'A',24:'C'}"
   ]
  },
  {
   "cell_type": "code",
   "execution_count": 90,
   "id": "232d5dbc",
   "metadata": {},
   "outputs": [
    {
     "name": "stdout",
     "output_type": "stream",
     "text": [
      "{41: 'N', 12: 'S', 32: 'A', 24: 'C'}\n"
     ]
    }
   ],
   "source": [
    "print(d4)"
   ]
  },
  {
   "cell_type": "code",
   "execution_count": 91,
   "id": "094d69c1",
   "metadata": {},
   "outputs": [],
   "source": [
    "d5 = {1.5:'N',3.5:'S',3.2:'A',2.4:'C'}"
   ]
  },
  {
   "cell_type": "code",
   "execution_count": 92,
   "id": "a4107260",
   "metadata": {},
   "outputs": [
    {
     "data": {
      "text/plain": [
       "{1.5: 'N', 3.5: 'S', 3.2: 'A', 2.4: 'C'}"
      ]
     },
     "execution_count": 92,
     "metadata": {},
     "output_type": "execute_result"
    }
   ],
   "source": [
    "d5"
   ]
  },
  {
   "cell_type": "code",
   "execution_count": 93,
   "id": "68d2c747",
   "metadata": {},
   "outputs": [
    {
     "data": {
      "text/plain": [
       "((1, 2), 'BlueHouse', 12, 1.5)"
      ]
     },
     "execution_count": 93,
     "metadata": {},
     "output_type": "execute_result"
    }
   ],
   "source": [
    "min(d1),min(d3),min(d4),min(d5)"
   ]
  },
  {
   "cell_type": "code",
   "execution_count": 96,
   "id": "c3c6b559",
   "metadata": {},
   "outputs": [
    {
     "ename": "TypeError",
     "evalue": "unsupported operand type(s) for +: 'int' and 'tuple'",
     "output_type": "error",
     "traceback": [
      "\u001b[1;31m---------------------------------------------------------------------------\u001b[0m",
      "\u001b[1;31mTypeError\u001b[0m                                 Traceback (most recent call last)",
      "Input \u001b[1;32mIn [96]\u001b[0m, in \u001b[0;36m<cell line: 1>\u001b[1;34m()\u001b[0m\n\u001b[1;32m----> 1\u001b[0m \u001b[38;5;28;43msum\u001b[39;49m\u001b[43m(\u001b[49m\u001b[43md1\u001b[49m\u001b[43m)\u001b[49m\n",
      "\u001b[1;31mTypeError\u001b[0m: unsupported operand type(s) for +: 'int' and 'tuple'"
     ]
    }
   ],
   "source": [
    "sum(d1)"
   ]
  },
  {
   "cell_type": "code",
   "execution_count": 95,
   "id": "83815155",
   "metadata": {},
   "outputs": [
    {
     "data": {
      "text/plain": [
       "(109, 10.6)"
      ]
     },
     "execution_count": 95,
     "metadata": {},
     "output_type": "execute_result"
    }
   ],
   "source": [
    "sum(d4),sum(d5)"
   ]
  },
  {
   "cell_type": "markdown",
   "id": "d4304582",
   "metadata": {},
   "source": [
    "# consider the following code fragments.What output will they produce?"
   ]
  },
  {
   "cell_type": "code",
   "execution_count": 103,
   "id": "5400c607",
   "metadata": {},
   "outputs": [
    {
     "name": "stdout",
     "output_type": "stream",
     "text": [
      "33\n"
     ]
    }
   ],
   "source": [
    "aDict = {'Bhavna':1,\"Richard\":2,\"Firoza\":10,\"Arshnoor\":20}\n",
    "temp = 0\n",
    "for value in aDict.values():\n",
    "    temp = temp+ value\n",
    "print(temp)"
   ]
  },
  {
   "cell_type": "code",
   "execution_count": 104,
   "id": "c6d8b2df",
   "metadata": {},
   "outputs": [
    {
     "name": "stdout",
     "output_type": "stream",
     "text": [
      "Richard\n"
     ]
    }
   ],
   "source": [
    "aDict = {'Bhavna':1,\"Richard\":2,\"Firoza\":10,\"Arshnoor\":20}\n",
    "temp=\"    \"\n",
    "for key in aDict:\n",
    "    if temp < key:\n",
    "        temp = key\n",
    "print(temp)"
   ]
  },
  {
   "cell_type": "code",
   "execution_count": 106,
   "id": "4fa1a071",
   "metadata": {},
   "outputs": [
    {
     "name": "stdout",
     "output_type": "stream",
     "text": [
      "{'Bhavna': -1, 'Richard': 2, 'Firoza': 10, 'Arshnoor': 20}\n"
     ]
    }
   ],
   "source": [
    "aDict = {'Bhavna':1,\"Richard\":2,\"Firoza\":10,\"Arshnoor\":20}\n",
    "k = \"Bhavna\"\n",
    "v = -1\n",
    "if k in aDict:\n",
    "    aDict[k] = v\n",
    "print(aDict)"
   ]
  },
  {
   "cell_type": "code",
   "execution_count": null,
   "id": "3263480d",
   "metadata": {},
   "outputs": [],
   "source": []
  }
 ],
 "metadata": {
  "kernelspec": {
   "display_name": "Python 3 (ipykernel)",
   "language": "python",
   "name": "python3"
  },
  "language_info": {
   "codemirror_mode": {
    "name": "ipython",
    "version": 3
   },
   "file_extension": ".py",
   "mimetype": "text/x-python",
   "name": "python",
   "nbconvert_exporter": "python",
   "pygments_lexer": "ipython3",
   "version": "3.9.12"
  }
 },
 "nbformat": 4,
 "nbformat_minor": 5
}
