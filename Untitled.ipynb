{
 "cells": [
  {
   "cell_type": "code",
   "execution_count": 5,
   "id": "fbd7d14a",
   "metadata": {},
   "outputs": [
    {
     "name": "stdout",
     "output_type": "stream",
     "text": [
      "Entert a list[4,2,8,4,9,1,15]\n",
      "[1, 2, 4, 4, 8, 9, 15]\n",
      "Second largest is 9\n"
     ]
    }
   ],
   "source": [
    "#wap to find the second largest \n",
    "\n",
    "lst = eval(input(\"Entert a list\"))\n",
    "lst.sort()\n",
    "print(lst)\n",
    "print(\"Second largest is\",lst[-2])"
   ]
  },
  {
   "cell_type": "code",
   "execution_count": 21,
   "id": "56d39450",
   "metadata": {},
   "outputs": [
    {
     "name": "stdout",
     "output_type": "stream",
     "text": [
      "Enter a list[41,22,81,43,92,13,15]\n",
      "0 digit has 3 in place\n"
     ]
    }
   ],
   "source": [
    "#divide a number which has 3 in ones place\n",
    "\n",
    "lst = eval(input(\"Enter a list\"))\n",
    "length = len(lst)\n",
    "index = 0\n",
    "for i in range(0,length):\n",
    "    if i % 10 == 3:\n",
    "        print(index,\"digit has 3 in place\")\n",
    "        index += 1\n",
    "        break\n",
    "else:\n",
    "    print(\"digit doesnt has 3 in place\")"
   ]
  },
  {
   "cell_type": "code",
   "execution_count": 23,
   "id": "d084e45f",
   "metadata": {},
   "outputs": [
    {
     "name": "stdout",
     "output_type": "stream",
     "text": [
      "Enter a list[41,22,81,43,92,13,15]\n"
     ]
    },
    {
     "ename": "TypeError",
     "evalue": "cannot unpack non-iterable int object",
     "output_type": "error",
     "traceback": [
      "\u001b[1;31m---------------------------------------------------------------------------\u001b[0m",
      "\u001b[1;31mTypeError\u001b[0m                                 Traceback (most recent call last)",
      "Input \u001b[1;32mIn [23]\u001b[0m, in \u001b[0;36m<cell line: 3>\u001b[1;34m()\u001b[0m\n\u001b[0;32m      1\u001b[0m lst \u001b[38;5;241m=\u001b[39m \u001b[38;5;28meval\u001b[39m(\u001b[38;5;28minput\u001b[39m(\u001b[38;5;124m\"\u001b[39m\u001b[38;5;124mEnter a list\u001b[39m\u001b[38;5;124m\"\u001b[39m))\n\u001b[0;32m      2\u001b[0m length \u001b[38;5;241m=\u001b[39m \u001b[38;5;28mlen\u001b[39m(lst)\n\u001b[1;32m----> 3\u001b[0m x,y \u001b[38;5;241m=\u001b[39m \u001b[38;5;241m0\u001b[39m\n\u001b[0;32m      4\u001b[0m \u001b[38;5;28;01mfor\u001b[39;00m i \u001b[38;5;129;01min\u001b[39;00m \u001b[38;5;28mrange\u001b[39m(\u001b[38;5;241m0\u001b[39m,length):\n\u001b[0;32m      5\u001b[0m     temp \u001b[38;5;241m=\u001b[39m lst[i]\n",
      "\u001b[1;31mTypeError\u001b[0m: cannot unpack non-iterable int object"
     ]
    }
   ],
   "source": [
    "lst = eval(input(\"Enter a list\"))\n",
    "length = len(lst)\n",
    "x,y = 0\n",
    "for i in range(0,length):\n",
    "    temp = lst[i]\n",
    "    list[i] = y\n",
    "    y = temp\n",
    "    \n",
    "    i += 1\n",
    "    print(\"lst\")"
   ]
  },
  {
   "cell_type": "code",
   "execution_count": null,
   "id": "705f4a6d",
   "metadata": {},
   "outputs": [],
   "source": []
  }
 ],
 "metadata": {
  "kernelspec": {
   "display_name": "Python 3 (ipykernel)",
   "language": "python",
   "name": "python3"
  },
  "language_info": {
   "codemirror_mode": {
    "name": "ipython",
    "version": 3
   },
   "file_extension": ".py",
   "mimetype": "text/x-python",
   "name": "python",
   "nbconvert_exporter": "python",
   "pygments_lexer": "ipython3",
   "version": "3.9.12"
  }
 },
 "nbformat": 4,
 "nbformat_minor": 5
}
