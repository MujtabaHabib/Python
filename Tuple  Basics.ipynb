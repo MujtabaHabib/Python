{
 "cells": [
  {
   "cell_type": "code",
   "execution_count": 1,
   "id": "ec55c48e",
   "metadata": {},
   "outputs": [],
   "source": [
    "t = (1)"
   ]
  },
  {
   "cell_type": "code",
   "execution_count": 2,
   "id": "5c93dee6",
   "metadata": {},
   "outputs": [
    {
     "data": {
      "text/plain": [
       "1"
      ]
     },
     "execution_count": 2,
     "metadata": {},
     "output_type": "execute_result"
    }
   ],
   "source": [
    "t"
   ]
  },
  {
   "cell_type": "code",
   "execution_count": 3,
   "id": "817e74bc",
   "metadata": {},
   "outputs": [],
   "source": [
    "t = 3,"
   ]
  },
  {
   "cell_type": "code",
   "execution_count": 4,
   "id": "38c78c68",
   "metadata": {},
   "outputs": [
    {
     "data": {
      "text/plain": [
       "(3,)"
      ]
     },
     "execution_count": 4,
     "metadata": {},
     "output_type": "execute_result"
    }
   ],
   "source": [
    "t"
   ]
  },
  {
   "cell_type": "code",
   "execution_count": 5,
   "id": "4d656078",
   "metadata": {},
   "outputs": [],
   "source": [
    "t2 = (4,)"
   ]
  },
  {
   "cell_type": "code",
   "execution_count": 6,
   "id": "28489295",
   "metadata": {},
   "outputs": [
    {
     "data": {
      "text/plain": [
       "(4,)"
      ]
     },
     "execution_count": 6,
     "metadata": {},
     "output_type": "execute_result"
    }
   ],
   "source": [
    "t2"
   ]
  },
  {
   "cell_type": "code",
   "execution_count": 12,
   "id": "edcabfa5",
   "metadata": {},
   "outputs": [],
   "source": [
    "t1 = (1,2,(3,4))"
   ]
  },
  {
   "cell_type": "code",
   "execution_count": 13,
   "id": "1cd78892",
   "metadata": {},
   "outputs": [
    {
     "data": {
      "text/plain": [
       "(1, 2, (3, 4))"
      ]
     },
     "execution_count": 13,
     "metadata": {},
     "output_type": "execute_result"
    }
   ],
   "source": [
    "t1"
   ]
  },
  {
   "cell_type": "code",
   "execution_count": 16,
   "id": "206de796",
   "metadata": {},
   "outputs": [
    {
     "data": {
      "text/plain": [
       "('h', 'e', 'l', 'l', 'o')"
      ]
     },
     "execution_count": 16,
     "metadata": {},
     "output_type": "execute_result"
    }
   ],
   "source": [
    "t3 = tuple('hello')\n",
    "t3"
   ]
  },
  {
   "cell_type": "code",
   "execution_count": 17,
   "id": "06ca0f58",
   "metadata": {},
   "outputs": [],
   "source": [
    "L = ['w','e','r','t','y']"
   ]
  },
  {
   "cell_type": "code",
   "execution_count": 19,
   "id": "a062055e",
   "metadata": {},
   "outputs": [
    {
     "data": {
      "text/plain": [
       "('w', 'e', 'r', 't', 'y')"
      ]
     },
     "execution_count": 19,
     "metadata": {},
     "output_type": "execute_result"
    }
   ],
   "source": [
    "t2 = tuple(L)\n",
    "t2"
   ]
  },
  {
   "cell_type": "code",
   "execution_count": 21,
   "id": "8f5661ce",
   "metadata": {},
   "outputs": [
    {
     "name": "stdout",
     "output_type": "stream",
     "text": [
      "Enter tuple to be added:(2,4,\"a\",\"hjkl\",[3,4])\n",
      "Tupele you entered  (2, 4, 'a', 'hjkl', [3, 4])\n"
     ]
    }
   ],
   "source": [
    "k = eval(input(\"Enter tuple to be added:\"))\n",
    "print(\"Tupele you entered \",k)"
   ]
  },
  {
   "cell_type": "code",
   "execution_count": 27,
   "id": "770869f5",
   "metadata": {},
   "outputs": [
    {
     "data": {
      "text/plain": [
       "[3, 4]"
      ]
     },
     "execution_count": 27,
     "metadata": {},
     "output_type": "execute_result"
    }
   ],
   "source": [
    "k[4]"
   ]
  },
  {
   "cell_type": "code",
   "execution_count": 36,
   "id": "544114cf",
   "metadata": {},
   "outputs": [
    {
     "name": "stdout",
     "output_type": "stream",
     "text": [
      "P\n",
      "y\n",
      "t\n",
      "h\n",
      "o\n",
      "n\n"
     ]
    }
   ],
   "source": [
    "T = ('P','y','t','h','o','n')\n",
    "for a in T:\n",
    "    print(a)"
   ]
  },
  {
   "cell_type": "code",
   "execution_count": 38,
   "id": "6a03fb18",
   "metadata": {},
   "outputs": [
    {
     "data": {
      "text/plain": [
       "(1, 3, 5, 6, 7, 8)"
      ]
     },
     "execution_count": 38,
     "metadata": {},
     "output_type": "execute_result"
    }
   ],
   "source": [
    "tp1 = (1,3,5)\n",
    "tp2 = (6,7,8)\n",
    "tp1 + tp2"
   ]
  },
  {
   "cell_type": "code",
   "execution_count": 40,
   "id": "f7d2d69b",
   "metadata": {},
   "outputs": [],
   "source": [
    "t = (1,2,'A','B')\n",
    "w,x,y,z = t"
   ]
  },
  {
   "cell_type": "code",
   "execution_count": 41,
   "id": "55cee24b",
   "metadata": {},
   "outputs": [
    {
     "data": {
      "text/plain": [
       "1"
      ]
     },
     "execution_count": 41,
     "metadata": {},
     "output_type": "execute_result"
    }
   ],
   "source": [
    "w"
   ]
  },
  {
   "cell_type": "code",
   "execution_count": 42,
   "id": "2bee4dbd",
   "metadata": {},
   "outputs": [
    {
     "data": {
      "text/plain": [
       "2"
      ]
     },
     "execution_count": 42,
     "metadata": {},
     "output_type": "execute_result"
    }
   ],
   "source": [
    "x"
   ]
  },
  {
   "cell_type": "code",
   "execution_count": 43,
   "id": "f388b18c",
   "metadata": {},
   "outputs": [
    {
     "data": {
      "text/plain": [
       "'B'"
      ]
     },
     "execution_count": 43,
     "metadata": {},
     "output_type": "execute_result"
    }
   ],
   "source": [
    "z"
   ]
  },
  {
   "cell_type": "code",
   "execution_count": 44,
   "id": "88a165f2",
   "metadata": {},
   "outputs": [
    {
     "data": {
      "text/plain": [
       "'A'"
      ]
     },
     "execution_count": 44,
     "metadata": {},
     "output_type": "execute_result"
    }
   ],
   "source": [
    "y"
   ]
  },
  {
   "cell_type": "code",
   "execution_count": 47,
   "id": "671d1e2a",
   "metadata": {},
   "outputs": [],
   "source": [
    "#what would be the output of the following code\n",
    "\n",
    "ntpl = (\"Hello\",\"Nita\",\"How's\",\"life?\")"
   ]
  },
  {
   "cell_type": "code",
   "execution_count": 48,
   "id": "b96efca1",
   "metadata": {},
   "outputs": [],
   "source": [
    "(a,b,c,d) = ntpl"
   ]
  },
  {
   "cell_type": "code",
   "execution_count": 49,
   "id": "a8b48111",
   "metadata": {},
   "outputs": [
    {
     "name": "stdout",
     "output_type": "stream",
     "text": [
      "a is : Hello\n"
     ]
    }
   ],
   "source": [
    "print(\"a is :\",a)"
   ]
  },
  {
   "cell_type": "code",
   "execution_count": 50,
   "id": "12e0dc95",
   "metadata": {},
   "outputs": [
    {
     "name": "stdout",
     "output_type": "stream",
     "text": [
      "b is : Nita\n"
     ]
    }
   ],
   "source": [
    "print(\"b is :\",b)"
   ]
  },
  {
   "cell_type": "code",
   "execution_count": 51,
   "id": "743bffde",
   "metadata": {},
   "outputs": [
    {
     "name": "stdout",
     "output_type": "stream",
     "text": [
      "c is : How's\n"
     ]
    }
   ],
   "source": [
    "print(\"c is :\",c)"
   ]
  },
  {
   "cell_type": "code",
   "execution_count": 53,
   "id": "3c078b28",
   "metadata": {},
   "outputs": [
    {
     "name": "stdout",
     "output_type": "stream",
     "text": [
      "d is : life?\n"
     ]
    }
   ],
   "source": [
    "print(\"d is :\",d)"
   ]
  },
  {
   "cell_type": "code",
   "execution_count": 55,
   "id": "792a44af",
   "metadata": {},
   "outputs": [
    {
     "name": "stdout",
     "output_type": "stream",
     "text": [
      "Hi Nita\n"
     ]
    }
   ],
   "source": [
    "ntpl = (a,b,c,d)\n",
    "print(ntpl[0][0] + ntpl[1][1],ntpl[1] )"
   ]
  },
  {
   "cell_type": "code",
   "execution_count": 57,
   "id": "7887c55a",
   "metadata": {},
   "outputs": [
    {
     "data": {
      "text/plain": [
       "'H'"
      ]
     },
     "execution_count": 57,
     "metadata": {},
     "output_type": "execute_result"
    }
   ],
   "source": [
    "ntpl[0][0]"
   ]
  },
  {
   "cell_type": "code",
   "execution_count": 59,
   "id": "caa14923",
   "metadata": {},
   "outputs": [
    {
     "data": {
      "text/plain": [
       "'i'"
      ]
     },
     "execution_count": 59,
     "metadata": {},
     "output_type": "execute_result"
    }
   ],
   "source": [
    "ntpl[1][1]"
   ]
  },
  {
   "cell_type": "code",
   "execution_count": 60,
   "id": "cc2dc6d7",
   "metadata": {},
   "outputs": [
    {
     "data": {
      "text/plain": [
       "'Nita'"
      ]
     },
     "execution_count": 60,
     "metadata": {},
     "output_type": "execute_result"
    }
   ],
   "source": [
    "ntpl[1]"
   ]
  },
  {
   "cell_type": "code",
   "execution_count": 61,
   "id": "f2988267",
   "metadata": {},
   "outputs": [],
   "source": [
    "#slicing\n",
    "\n",
    "tpl = (10,12,14,20,22,24,30,32,34)"
   ]
  },
  {
   "cell_type": "code",
   "execution_count": 62,
   "id": "f02b9226",
   "metadata": {},
   "outputs": [
    {
     "data": {
      "text/plain": [
       "(20, 22, 24, 30, 32, 34)"
      ]
     },
     "execution_count": 62,
     "metadata": {},
     "output_type": "execute_result"
    }
   ],
   "source": [
    "tpl[3:30]"
   ]
  },
  {
   "cell_type": "code",
   "execution_count": 63,
   "id": "f2c78dbe",
   "metadata": {},
   "outputs": [
    {
     "data": {
      "text/plain": [
       "(10, 14, 22, 30, 34)"
      ]
     },
     "execution_count": 63,
     "metadata": {},
     "output_type": "execute_result"
    }
   ],
   "source": [
    "tpl[0:10:2]"
   ]
  },
  {
   "cell_type": "code",
   "execution_count": 64,
   "id": "d524c105",
   "metadata": {},
   "outputs": [
    {
     "data": {
      "text/plain": [
       "(14, 24, 34)"
      ]
     },
     "execution_count": 64,
     "metadata": {},
     "output_type": "execute_result"
    }
   ],
   "source": [
    "tpl[2:10:3]"
   ]
  },
  {
   "cell_type": "code",
   "execution_count": 65,
   "id": "1461da4f",
   "metadata": {},
   "outputs": [
    {
     "data": {
      "text/plain": [
       "(10, 20, 30)"
      ]
     },
     "execution_count": 65,
     "metadata": {},
     "output_type": "execute_result"
    }
   ],
   "source": [
    "tpl[::3]"
   ]
  },
  {
   "cell_type": "code",
   "execution_count": 68,
   "id": "647293bc",
   "metadata": {},
   "outputs": [
    {
     "data": {
      "text/plain": [
       "(5, 7, 8)"
      ]
     },
     "execution_count": 68,
     "metadata": {},
     "output_type": "execute_result"
    }
   ],
   "source": [
    "Tp = (2,4,5,7,8,9,11,12,34)\n",
    "Tp[2:5]"
   ]
  },
  {
   "cell_type": "code",
   "execution_count": 69,
   "id": "d98bc5ef",
   "metadata": {},
   "outputs": [
    {
     "data": {
      "text/plain": [
       "(5, 7, 8, 5, 7, 8, 5, 7, 8)"
      ]
     },
     "execution_count": 69,
     "metadata": {},
     "output_type": "execute_result"
    }
   ],
   "source": [
    "Tp[2:5]*3"
   ]
  },
  {
   "cell_type": "code",
   "execution_count": 70,
   "id": "6e6012cb",
   "metadata": {},
   "outputs": [
    {
     "data": {
      "text/plain": [
       "(5, 7, 8, 3, 4)"
      ]
     },
     "execution_count": 70,
     "metadata": {},
     "output_type": "execute_result"
    }
   ],
   "source": [
    "Tp[2:5]+(3,4)"
   ]
  },
  {
   "cell_type": "code",
   "execution_count": 71,
   "id": "6b084545",
   "metadata": {},
   "outputs": [
    {
     "data": {
      "text/plain": [
       "34"
      ]
     },
     "execution_count": 71,
     "metadata": {},
     "output_type": "execute_result"
    }
   ],
   "source": [
    "max(Tp)"
   ]
  },
  {
   "cell_type": "code",
   "execution_count": 75,
   "id": "d64fc088",
   "metadata": {},
   "outputs": [],
   "source": [
    "tp12 = (\"Karan\",\"Zubin\",\"Zara\",\"Ana\")\n"
   ]
  },
  {
   "cell_type": "code",
   "execution_count": 76,
   "id": "3de5b49b",
   "metadata": {},
   "outputs": [
    {
     "data": {
      "text/plain": [
       "'Zubin'"
      ]
     },
     "execution_count": 76,
     "metadata": {},
     "output_type": "execute_result"
    }
   ],
   "source": [
    "max(tp12)"
   ]
  },
  {
   "cell_type": "code",
   "execution_count": 77,
   "id": "5a39d9af",
   "metadata": {},
   "outputs": [],
   "source": [
    "ab = (1,2.5,\"1\",[3,4],(3,4))"
   ]
  },
  {
   "cell_type": "code",
   "execution_count": 78,
   "id": "cf7caa54",
   "metadata": {},
   "outputs": [
    {
     "ename": "TypeError",
     "evalue": "'>' not supported between instances of 'str' and 'float'",
     "output_type": "error",
     "traceback": [
      "\u001b[1;31m---------------------------------------------------------------------------\u001b[0m",
      "\u001b[1;31mTypeError\u001b[0m                                 Traceback (most recent call last)",
      "Input \u001b[1;32mIn [78]\u001b[0m, in \u001b[0;36m<cell line: 1>\u001b[1;34m()\u001b[0m\n\u001b[1;32m----> 1\u001b[0m \u001b[38;5;28;43mmax\u001b[39;49m\u001b[43m(\u001b[49m\u001b[43mab\u001b[49m\u001b[43m)\u001b[49m\n",
      "\u001b[1;31mTypeError\u001b[0m: '>' not supported between instances of 'str' and 'float'"
     ]
    }
   ],
   "source": [
    "max(ab)"
   ]
  },
  {
   "cell_type": "code",
   "execution_count": 80,
   "id": "b9661676",
   "metadata": {},
   "outputs": [
    {
     "data": {
      "text/plain": [
       "136"
      ]
     },
     "execution_count": 80,
     "metadata": {},
     "output_type": "execute_result"
    }
   ],
   "source": [
    "val = (27,34,35,40)\n",
    "sum(val)"
   ]
  },
  {
   "cell_type": "code",
   "execution_count": 81,
   "id": "0a93348c",
   "metadata": {},
   "outputs": [
    {
     "data": {
      "text/plain": [
       "2"
      ]
     },
     "execution_count": 81,
     "metadata": {},
     "output_type": "execute_result"
    }
   ],
   "source": [
    "t1 = [3,4,5,6.0]\n",
    "t1.index(5)"
   ]
  },
  {
   "cell_type": "code",
   "execution_count": 1,
   "id": "fd401999",
   "metadata": {},
   "outputs": [
    {
     "name": "stdout",
     "output_type": "stream",
     "text": [
      "Enter a tuple :23,22,11,9,10,15\n",
      "minimum element is  9 is at index  3\n"
     ]
    }
   ],
   "source": [
    "#wap to print the index of the minimum element of the tuple\n",
    "\n",
    "tup = eval(input(\"Enter a tuple :\"))\n",
    "mn = min(tup)\n",
    "print(\"minimum element is \",mn,\\\n",
    "     \"is at index \",tup.index(mn))\n"
   ]
  },
  {
   "cell_type": "code",
   "execution_count": 10,
   "id": "741f0534",
   "metadata": {},
   "outputs": [
    {
     "name": "stdout",
     "output_type": "stream",
     "text": [
      "Enter a tuple :23,22,11,9,10,15\n",
      "6\n",
      "Tuple contains different elements\n"
     ]
    }
   ],
   "source": [
    "#wap to input a tuple and check if it contains the all element as same\n",
    "\n",
    "tup = eval(input(\"Enter a tuple :\"))\n",
    "ln = len(tup)\n",
    "print(ln)\n",
    "num = tup.count(tup[0])\n",
    "if num == ln:\n",
    "    print(\"Tuple contains all the same elements\")\n",
    "else:\n",
    "    print(\"Tuple contains different elements\")"
   ]
  },
  {
   "cell_type": "code",
   "execution_count": 14,
   "id": "b87d6ff4",
   "metadata": {},
   "outputs": [
    {
     "name": "stdout",
     "output_type": "stream",
     "text": [
      "Enter a tuple :23,22,11,9,10,15\n",
      "1\n"
     ]
    }
   ],
   "source": [
    "tup = eval(input(\"Enter a tuple :\"))\n",
    "num = tup.count(tup[0])\n",
    "print(num)"
   ]
  },
  {
   "cell_type": "code",
   "execution_count": null,
   "id": "39c5a93d",
   "metadata": {},
   "outputs": [],
   "source": []
  }
 ],
 "metadata": {
  "kernelspec": {
   "display_name": "Python 3 (ipykernel)",
   "language": "python",
   "name": "python3"
  },
  "language_info": {
   "codemirror_mode": {
    "name": "ipython",
    "version": 3
   },
   "file_extension": ".py",
   "mimetype": "text/x-python",
   "name": "python",
   "nbconvert_exporter": "python",
   "pygments_lexer": "ipython3",
   "version": "3.9.12"
  }
 },
 "nbformat": 4,
 "nbformat_minor": 5
}
