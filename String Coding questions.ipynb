{
 "cells": [
  {
   "cell_type": "code",
   "execution_count": 3,
   "id": "bca29493",
   "metadata": {},
   "outputs": [
    {
     "name": "stdout",
     "output_type": "stream",
     "text": [
      "Enter a list[23,25,16,11,26,13, 15, 16]\n",
      "Original list : [23, 25, 16, 11, 26, 13, 15, 16]\n",
      "Replicated list : [23, 25, 16, 11, 26, 13, 15, 16, 23, 25, 16, 11, 26, 13, 15, 16]\n",
      "Sorted list in ascending order : [11, 11, 13, 13, 15, 15, 16, 16, 16, 16, 23, 23, 25, 25, 26, 26]\n",
      "Sorted in descending order : [26, 26, 25, 25, 23, 23, 16, 16, 16, 16, 15, 15, 13, 13, 11, 11]\n"
     ]
    }
   ],
   "source": [
    "#wap that inputs a list,replicates it twice and then prints the sorted list in ascending and descending orders.\n",
    "\n",
    "val = eval(input(\"Enter a list\"))\n",
    "print(\"Original list :\",val)\n",
    "val = val * 2\n",
    "print(\"Replicated list :\",val)\n",
    "val.sort()\n",
    "print(\"Sorted list in ascending order :\",val)\n",
    "val.sort(reverse = True)\n",
    "print(\"Sorted in descending order :\",val)"
   ]
  },
  {
   "cell_type": "code",
   "execution_count": 2,
   "id": "e2f0d7cf",
   "metadata": {},
   "outputs": [
    {
     "name": "stdout",
     "output_type": "stream",
     "text": [
      "Enter list :[23,25,16,11,26,13, 15, 16]\n",
      "\n",
      "Given list is : [23, 25, 16, 11, 26, 13, 15, 16]\n",
      "The minimum element of the given list is :\n",
      "11 at index 3\n"
     ]
    }
   ],
   "source": [
    "#wap to find the minimum element from a list of element along with its index in the list\n",
    "lst = eval(input(\"Enter list :\"))\n",
    "length = len(lst)\n",
    "min_ele = lst[0]\n",
    "min_index = 0\n",
    "for i in range(1,length):\n",
    "    if lst[i] <min_ele:\n",
    "        min_ele = lst[i]\n",
    "        min_index = i\n",
    "print()\n",
    "print(\"Given list is :\",lst)\n",
    "print(\"The minimum element of the given list is :\")\n",
    "print(min_ele,\"at index\",min_index)"
   ]
  },
  {
   "cell_type": "code",
   "execution_count": 8,
   "id": "11ff655e",
   "metadata": {},
   "outputs": [
    {
     "name": "stdout",
     "output_type": "stream",
     "text": [
      "Enter lst :[23,25,16,11,26,13, 15, 16]\n",
      "Given list is : [23, 25, 16, 11, 26, 13, 15, 16]\n",
      "The mean of the given list is : 18.125\n"
     ]
    }
   ],
   "source": [
    "#wap to calculate the mean of a given list of numbers\n",
    "lst = eval(input(\"Enter lst :\"))\n",
    "length = len(lst)\n",
    "mean = sum = 0\n",
    "for i in range(0,length):\n",
    "    sum += lst[i]\n",
    "    mean = sum/length\n",
    "print(\"Given list is :\",lst)\n",
    "print(\"The mean of the given list is :\",mean)"
   ]
  },
  {
   "cell_type": "code",
   "execution_count": null,
   "id": "f42540f7",
   "metadata": {},
   "outputs": [],
   "source": []
  }
 ],
 "metadata": {
  "kernelspec": {
   "display_name": "Python 3 (ipykernel)",
   "language": "python",
   "name": "python3"
  },
  "language_info": {
   "codemirror_mode": {
    "name": "ipython",
    "version": 3
   },
   "file_extension": ".py",
   "mimetype": "text/x-python",
   "name": "python",
   "nbconvert_exporter": "python",
   "pygments_lexer": "ipython3",
   "version": "3.9.12"
  }
 },
 "nbformat": 4,
 "nbformat_minor": 5
}
