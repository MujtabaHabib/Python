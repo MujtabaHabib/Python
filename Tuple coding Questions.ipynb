{
 "cells": [
  {
   "cell_type": "code",
   "execution_count": null,
   "id": "df89eae7",
   "metadata": {},
   "outputs": [],
   "source": [
    "#modify the element of list and even element is twice and odd element is thrice its element\n",
    "lst = eval(input(\"Enter a list\"))\n",
    "length = len(lst)\n",
    "print(lst, \"and its length is\", length)\n",
    "for i in range(0,length):\n",
    "    if lst[i] % 2 == 0:\n",
    "        lst[i] =  lst[i] * 3\n",
    "    else:\n",
    "        lst[i] = lst[i] * 2\n",
    "    print(lst[i])\n",
    "    \n",
    "    "
   ]
  },
  {
   "cell_type": "code",
   "execution_count": null,
   "id": "f2620579",
   "metadata": {},
   "outputs": [],
   "source": [
    "#swap two elements in the index\n",
    "\n",
    "lst = eval(input(\"Enter a list\"))\n",
    "length = len(lst)\n",
    "# print(lst,\"and its length is \",length)\n",
    "for i in range(0,length):\n",
    "    lst[x],lst[y]  = lst[y],lst[x]\n",
    "    \n",
    "print(lst)"
   ]
  },
  {
   "cell_type": "code",
   "execution_count": null,
   "id": "da7ff693",
   "metadata": {},
   "outputs": [],
   "source": [
    "#wap to print the index of the minimum element of the tuple\n",
    "\n",
    "tup = eval(input(\"Enter a tuple :\"))\n",
    "mn = min(tup)\n",
    "print(\"minimum element is \",mn,\\\n",
    "     \"is at index \",tup.index(mn) )"
   ]
  },
  {
   "cell_type": "code",
   "execution_count": null,
   "id": "01cc87c4",
   "metadata": {},
   "outputs": [],
   "source": [
    "#Q7.Predict the output\n",
    "\n",
    "tuple1 = ('python') * 3 \n",
    "print(type(tuple1))"
   ]
  },
  {
   "cell_type": "code",
   "execution_count": null,
   "id": "2b4f1f38",
   "metadata": {},
   "outputs": [],
   "source": [
    "Q9.What will be the following code produce?\n",
    "\n",
    "Tup1 = (1,) * 3\n",
    "Tup1 [0] = 2\n",
    "print(Tup1)"
   ]
  },
  {
   "cell_type": "code",
   "execution_count": null,
   "id": "402a47cd",
   "metadata": {},
   "outputs": [],
   "source": [
    "Tup2 = (1,) * 3\n",
    "print(Tup2)"
   ]
  },
  {
   "cell_type": "raw",
   "id": "18e2d0a3",
   "metadata": {},
   "source": [
    "### Q10. What will be the output of following code snippet?"
   ]
  },
  {
   "cell_type": "code",
   "execution_count": null,
   "id": "5571b86a",
   "metadata": {},
   "outputs": [],
   "source": [
    "Tup1 = ((1,2),)* 7\n",
    "print(len(Tup1[3:8]))"
   ]
  },
  {
   "cell_type": "code",
   "execution_count": null,
   "id": "6c24a24c",
   "metadata": {},
   "outputs": [],
   "source": [
    "#Q6. Replace all four elements of list with all four elements of tuple\n",
    "\n",
    "T = (1,2,\"a\",\"b\")\n",
    "L = [\"hello\",\"there\",\"are\",\"some\",\"numbers\",\"coming\",\"from\",\"tuple\"]\n",
    "print(\"Before unpacking the list \")\n",
    "print(L)\n",
    "print(\"After unpacking the list\")\n",
    "L[0],L[1],L[2],L[3] =T \n",
    "print(L)"
   ]
  },
  {
   "cell_type": "code",
   "execution_count": null,
   "id": "2dfb72f1",
   "metadata": {},
   "outputs": [],
   "source": [
    "# Q1.Consider the following tuples,tuples1,tuple2:\n",
    "\n",
    "tuple1 = (23,1,45,67,45,9,55,45)\n",
    "tuple2 = (100,200)\n"
   ]
  },
  {
   "cell_type": "code",
   "execution_count": null,
   "id": "3ccce1ac",
   "metadata": {},
   "outputs": [],
   "source": [
    "# find the output of the following code\n",
    "\n",
    "print(tuple1.index(45))\n",
    "print(tuple1.count(45))\n",
    "print(tuple1 + tuple2)\n",
    "print(len(tuple2))\n",
    "print(max(tuple1))\n",
    "print(min(tuple1))\n",
    "print(sum(tuple2))\n",
    "print(sorted(tuple1))\n",
    "print(tuple1)"
   ]
  },
  {
   "cell_type": "code",
   "execution_count": null,
   "id": "0a355589",
   "metadata": {},
   "outputs": [],
   "source": [
    "#Q16. wap to check if a tuple contains any duplicate elements\n",
    "\n",
    "tup = eval(input(\"Enter a Tuple : \"))\n",
    "for el in tup:\n",
    "    if tup.count(el) > 1:\n",
    "        print(\"Contains duplicate element\")\n",
    "        break"
   ]
  },
  {
   "cell_type": "code",
   "execution_count": 1,
   "id": "c7043585",
   "metadata": {},
   "outputs": [
    {
     "name": "stdout",
     "output_type": "stream",
     "text": [
      "Enter a Tuple : (6,7,12,13,5,11,13,8,13)\n"
     ]
    }
   ],
   "source": [
    "###### Q17. wap to check if the minimum element of a tuple lies at the middle position of the tuple.\n",
    "\n",
    "tup = eval(input(\"Enter a Tuple : \"))\n",
    "ln = len(tup)\n",
    "lies = False\n",
    "mn = min(tup)\n",
    "if ln % 2 == 0:\n",
    "    half = ln//2\n",
    "    if mn == tup[half] or mn == tup[half-1]:\n",
    "        lies = True\n",
    "    else:\n",
    "        half = ln//2\n",
    "        if mn == tup[half] :\n",
    "            lies = True\n",
    "        if lies == True:\n",
    "            print(\"Minimum lies at tuple's middle.\")\n",
    "        else:\n",
    "            print(\"Minimum doen't lies at tuple's middle.\")"
   ]
  },
  {
   "cell_type": "code",
   "execution_count": 3,
   "id": "276cdccb",
   "metadata": {},
   "outputs": [
    {
     "name": "stdout",
     "output_type": "stream",
     "text": [
      "Enter a Tuple : (6,7,12,13,5,11,13,8,13)\n",
      "Length of tup is : 9\n",
      "First half is not sorted\n"
     ]
    }
   ],
   "source": [
    "#wap to check if the elements in the first half of a tuple are sorted in ascending order or not.\n",
    "\n",
    "tup = eval(input(\"Enter a Tuple : \"))\n",
    "ln = len(tup)\n",
    "print(\"Length of tup is :\",ln)\n",
    "mid = ln//2\n",
    "if ln%2 == 1:\n",
    "    mid = mid+ 1\n",
    "    half = tup[:mid]\n",
    "if sorted(half) == list(tup[:mid]):\n",
    "    print(\"First half is sorted\")\n",
    "else:\n",
    "    print(\"First half is not sorted\")"
   ]
  },
  {
   "cell_type": "code",
   "execution_count": 4,
   "id": "ff653bcf",
   "metadata": {},
   "outputs": [
    {
     "name": "stdout",
     "output_type": "stream",
     "text": [
      "Enter a tuple : (6,7,12,13,5,11,13,8,13)\n",
      "Tuple is not sorted in descending order\n"
     ]
    }
   ],
   "source": [
    "#wap to check if all the elements of a tuple are descending order or not.\n",
    "\n",
    "tup = eval(input(\"Enter a tuple : \"))\n",
    "if sorted(tup, reverse = True) == list(tup):\n",
    "    print(\"Tuple is sorted in descending order\")\n",
    "else:\n",
    "    print(\"Tuple is not sorted in descending order\")"
   ]
  },
  {
   "cell_type": "code",
   "execution_count": 24,
   "id": "1e022ca9",
   "metadata": {},
   "outputs": [
    {
     "name": "stdout",
     "output_type": "stream",
     "text": [
      "How many students?2\n",
      "Enter name of the students 1 :saud\n",
      "Enter name of the students 2 :habib\n",
      "['habib']\n",
      "Enter name to be searched forsaud\n",
      "It is not available\n"
     ]
    }
   ],
   "source": [
    "#wap to input names of n students and store them in a tuple.\n",
    "\n",
    "lst = []\n",
    "n = int(input(\"How many students?\"))\n",
    "for i in range(1,n+1):\n",
    "    name = input(\"Enter name of the students \" + str(i) + \" :\" )\n",
    "lst.append(name)\n",
    "print(lst)\n",
    "ntuple = tuple(lst)\n",
    "nm = input(\"Enter name to be searched for \")\n",
    "if nm in ntuple:\n",
    "    print(\"name is available in the list\")\n",
    "else:\n",
    "    print(\"It is not available\")"
   ]
  },
  {
   "cell_type": "code",
   "execution_count": 25,
   "id": "537fa8ee",
   "metadata": {},
   "outputs": [
    {
     "name": "stdout",
     "output_type": "stream",
     "text": [
      "how many students?2\n",
      "Enter email id of the student 1 :Mujtabahabib001@gmail.com\n",
      "Enter email id of the student 2 :Mujtabahabib002@gmail.com\n",
      "student email ids : \n",
      "('Mujtabahabib001@gmail.com', 'Mujtabahabib002@gmail.com')\n",
      "User name tuple :\n",
      "('Mujtabahabib001', 'Mujtabahabib002')\n",
      "Domain name tuple :\n",
      "('gmail.com', 'gmail.com')\n"
     ]
    }
   ],
   "source": [
    "# Q1. wap to read email ID's of n number of students and store them in a tuple.\n",
    "# create two new tuples,one to store only the usernames form the email IDs \n",
    "# and second to store domain names from the email ids,print all three tuples at the end of the program.\n",
    "\n",
    "lst = []\n",
    "n = int(input(\"how many students?\"))\n",
    "for i in range(1,n+1):\n",
    "    email = input(\"Enter email id of the student \" + str(i) + \" :\" )\n",
    "    lst.append(email)\n",
    "    etuple = tuple(lst)\n",
    "lst1 = []\n",
    "lst2 = []\n",
    "for i in range(n) :\n",
    "    email = etuple[i].split('@')\n",
    "    lst1.append(email[0])\n",
    "    lst2.append(email[1])\n",
    "unameTup = tuple(lst1)\n",
    "dnameTup = tuple(lst2)\n",
    "print(\"student email ids : \")\n",
    "print(etuple)\n",
    "print(\"User name tuple :\")\n",
    "print(unameTup)\n",
    "print(\"Domain name tuple :\")\n",
    "print(dnameTup)\n"
   ]
  },
  {
   "cell_type": "code",
   "execution_count": 5,
   "id": "bf08d957",
   "metadata": {},
   "outputs": [
    {
     "name": "stdout",
     "output_type": "stream",
     "text": [
      "Enter a tuple(6,7,12,13,5,11,13,8,13)\n",
      "minimum element in the tuple is  5\n"
     ]
    }
   ],
   "source": [
    "#wap to find the minimum in the tuple\n",
    "\n",
    "tup = eval(input(\"Enter a tuple\"))\n",
    "ln = len(tup)\n",
    "min_ele = tup[0]\n",
    "for i in range(1,ln):\n",
    "    if tup[i] < min_ele:\n",
    "        min_ele  = tup[i]\n",
    "print(\"minimum element in the tuple is \",min_ele)"
   ]
  },
  {
   "cell_type": "code",
   "execution_count": 17,
   "id": "c0fafd24",
   "metadata": {},
   "outputs": [
    {
     "name": "stdout",
     "output_type": "stream",
     "text": [
      "Enter a Tuple : (6,7,12,13,5,11,13,8,13)\n",
      "Maximum element is  13\n"
     ]
    }
   ],
   "source": [
    "#wap to find the maximum in the tuple\n",
    "\n",
    "tup = eval(input(\"Enter a Tuple : \"))\n",
    "length = len(tup)\n",
    "mxm_ele = tup[0]\n",
    "for i in range(1,length):\n",
    "    if tup[i] > mxm_ele:\n",
    "        mxm_ele = tup[i]\n",
    "print(\"Maximum element is \",mxm_ele)"
   ]
  },
  {
   "cell_type": "code",
   "execution_count": 24,
   "id": "0fa32e63",
   "metadata": {},
   "outputs": [
    {
     "name": "stdout",
     "output_type": "stream",
     "text": [
      "Enter a tuple[4,2,8,4,9,1,15]\n",
      "The sum of a tuple is : 43\n",
      "The average of a tuple is  6.142857142857143\n"
     ]
    }
   ],
   "source": [
    "#Average in a tuple.\n",
    "tup = eval(input(\"Enter a tuple\"))\n",
    "length = len(tup)\n",
    "sum = 0\n",
    "for i in tup:\n",
    "    sum = sum + i\n",
    "print(\"The sum of a tuple is :\",sum)\n",
    "avg = sum/length\n",
    "print(\"The average of a tuple is \",avg)"
   ]
  },
  {
   "cell_type": "code",
   "execution_count": 4,
   "id": "b96a51e3",
   "metadata": {},
   "outputs": [
    {
     "name": "stdout",
     "output_type": "stream",
     "text": [
      "('a', 'b')\n"
     ]
    }
   ],
   "source": [
    "#Objective type Questions.\n",
    "\n",
    "tp1=(\"a\",\"b\")\n",
    "print(tp1)"
   ]
  },
  {
   "cell_type": "code",
   "execution_count": null,
   "id": "a45565e5",
   "metadata": {},
   "outputs": [],
   "source": []
  }
 ],
 "metadata": {
  "kernelspec": {
   "display_name": "Python 3 (ipykernel)",
   "language": "python",
   "name": "python3"
  },
  "language_info": {
   "codemirror_mode": {
    "name": "ipython",
    "version": 3
   },
   "file_extension": ".py",
   "mimetype": "text/x-python",
   "name": "python",
   "nbconvert_exporter": "python",
   "pygments_lexer": "ipython3",
   "version": "3.9.12"
  }
 },
 "nbformat": 4,
 "nbformat_minor": 5
}
