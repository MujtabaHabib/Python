{
 "cells": [
  {
   "cell_type": "code",
   "execution_count": null,
   "id": "114c78d4",
   "metadata": {},
   "outputs": [],
   "source": [
    "#wap to input your friends names and their Phone numbers and store them in the dictionary as the key-value pair.\n",
    "\n",
    "\n",
    "n = int(input(\"How many friends? \"))\n",
    "fd = {}\n",
    "for i in range(n):\n",
    "    print(\"Enter details of your friends \")\n",
    "    name = input(\"Enter your name \")\n",
    "    ph = int(input(\"Enter your phone number \"))\n",
    "    fd[name] =ph\n",
    "    print(\"Friends dictionary is \",fd)\n",
    "ch = 0\n",
    "while ch != 7:\n",
    "    print(\"Menu\")\n",
    "    print(\"1. Display all friends \")\n",
    "    print(\"2. Add new friends \")\n",
    "    print(\"3. Delete a friend \")\n",
    "    print(\"4. Update phone number and existing friend \")\n",
    "    print(\"5. Search for a friend \")\n",
    "    print(\"6. Sort of names \")\n",
    "    print(\"7. Exit \")\n",
    "\n",
    "    ch = int(input(\"Enter your choice \"))\n",
    "    if ch ==1:\n",
    "        print(fd)\n",
    "    elif ch ==2:\n",
    "        print(\"Enter details of new friends \")\n",
    "        name= input(\"Enter your name \")\n",
    "        ph = int(input(\"Enter your phone number \"))\n",
    "    elif ch ==3:\n",
    "        nm = (\"Enter Friends name to be deleted \")\n",
    "        res = fd.pop(nm, -1)\n",
    "        if res != -1:\n",
    "            print(res, \"deleted\")\n",
    "        else:  \n",
    "            print(\"No such friend\")\n",
    "    elif ch ==4:\n",
    "            name = input(\"Friends name\")\n",
    "            ph = int(input(\"Enter friends number\"))\n",
    "            fd[name] = ph\n",
    "    elif ch ==5:\n",
    "            name = input(\"Friends name\")\n",
    "            if name in fd:\n",
    "                print(name,\"Exists in dictionary\")\n",
    "            else:\n",
    "                print(name,\"Doesn't exists in dictionary\")\n",
    "    elif ch == 6:\n",
    "            lst = sorted(fd)\n",
    "            print(\"{\",end = \" \")\n",
    "            for a in lst:\n",
    "                  print(a, \":\",fd[a],end = \" \")\n",
    "                  print(\"}\")\n",
    "    elif ch == 7:\n",
    "        break\n",
    "    else:\n",
    "        print(\"Valid choices are 1.\")"
   ]
  },
  {
   "cell_type": "code",
   "execution_count": null,
   "id": "fabd74b4",
   "metadata": {},
   "outputs": [],
   "source": []
  }
 ],
 "metadata": {
  "kernelspec": {
   "display_name": "Python 3 (ipykernel)",
   "language": "python",
   "name": "python3"
  },
  "language_info": {
   "codemirror_mode": {
    "name": "ipython",
    "version": 3
   },
   "file_extension": ".py",
   "mimetype": "text/x-python",
   "name": "python",
   "nbconvert_exporter": "python",
   "pygments_lexer": "ipython3",
   "version": "3.9.12"
  }
 },
 "nbformat": 4,
 "nbformat_minor": 5
}
