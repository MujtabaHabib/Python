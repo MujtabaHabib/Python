{
 "cells": [
  {
   "cell_type": "code",
   "execution_count": null,
   "id": "de2e306a",
   "metadata": {},
   "outputs": [],
   "source": [
    "# Simple Interest question\n",
    "\n",
    "def calculateSI(p,r,t):\n",
    "\n",
    "    si = (p*r*t)/100\n",
    "    print(si)\n",
    "\n",
    "calculateSI(5,7,10)"
   ]
  },
  {
   "cell_type": "code",
   "execution_count": null,
   "id": "80430b31",
   "metadata": {},
   "outputs": [],
   "source": [
    "def SI(p,r,t):\n",
    "    S = (p * r * t)/100\n",
    "    print(S)\n",
    "    \n",
    "a = 1000\n",
    "b = 5\n",
    "c = 3\n",
    "SI(a,b,c)"
   ]
  },
  {
   "cell_type": "code",
   "execution_count": null,
   "id": "0ce49cec",
   "metadata": {},
   "outputs": [],
   "source": [
    "def SI(p,r,t= 3):\n",
    "    SI= (p * r * t)/100\n",
    "    print(SI)\n",
    "    \n",
    "a = 1000\n",
    "b = 5\n",
    "c = 2\n",
    "SI(a,b,c)"
   ]
  },
  {
   "cell_type": "code",
   "execution_count": null,
   "id": "cf6f825b",
   "metadata": {},
   "outputs": [],
   "source": [
    "def SI(p,r,t):\n",
    "    SI = (p*r*t)/100\n",
    "    print(SI)\n",
    "    \n",
    "SI(p = 1000, r=5,t =2 )"
   ]
  },
  {
   "cell_type": "code",
   "execution_count": null,
   "id": "370084b2",
   "metadata": {},
   "outputs": [],
   "source": [
    "def SI(p,r,t):\n",
    "    SI = (p*r*t)/100\n",
    "    print(SI)\n",
    "    \n",
    "SI(r = 3,t = 2,p = 1000)"
   ]
  },
  {
   "cell_type": "code",
   "execution_count": null,
   "id": "cf75f480",
   "metadata": {},
   "outputs": [],
   "source": [
    "def cal(n1,n2):\n",
    "    add = n1 + n2\n",
    "    subtract = n1 - n2\n",
    "    multiply = n1 * n2\n",
    "    divide = n2/n1 \n",
    "    return \n",
    "\n",
    "a = int(input(\"Enter value\"))\n",
    "b = int(input(\"Enter value\"))\n",
    "cal(a,b)"
   ]
  },
  {
   "cell_type": "code",
   "execution_count": 2,
   "id": "bff8f201",
   "metadata": {},
   "outputs": [
    {
     "name": "stdout",
     "output_type": "stream",
     "text": [
      "Select operation to perform\n",
      "1.Add\n",
      "2.Substract\n",
      "3.Multiply\n",
      "4.Divide\n",
      "Enter your choice2\n",
      "Enter first number10\n",
      "Enter second number15\n",
      "substraction of  10 - 15 = -5\n"
     ]
    }
   ],
   "source": [
    "def add(x,y):\n",
    "    return x+y\n",
    "\n",
    "def substract(x,y):\n",
    "    return x-y\n",
    "\n",
    "def multiply(x,y):\n",
    "    return x*y\n",
    "    \n",
    "def divide(x,y):\n",
    "    return x/y\n",
    "\n",
    "print(\"Select operation to perform\")\n",
    "print(\"1.Add\")\n",
    "print(\"2.Substract\")\n",
    "print(\"3.Multiply\")\n",
    "print(\"4.Divide\")\n",
    "\n",
    "ch = int(input(\"Enter your choice\"))\n",
    "num1 = int(input(\"Enter first number\"))\n",
    "num2 = int(input(\"Enter second number\"))\n",
    "if ch == 1:\n",
    "    print(\"sum of \",num1, \"+\", num2 ,\"=\" ,add(num1, num2))\n",
    "        \n",
    "elif ch ==2:\n",
    "    print(\"substraction of \",num1, \"-\",num2, \"=\",substract(num1,num2))\n",
    "        \n",
    "elif ch ==3:\n",
    "    print(\"multiplication of \",num1, \"*\",num2 ,\"=\",multiply(num1,num2))\n",
    "elif ch == 4:\n",
    "    print(\"Division of \",num1, \"/\",num2, \"=\",divide(num1,num2))\n",
    "else:\n",
    "    print(\"Invalid output\")"
   ]
  },
  {
   "cell_type": "code",
   "execution_count": 4,
   "id": "8dd8a297",
   "metadata": {},
   "outputs": [
    {
     "name": "stdout",
     "output_type": "stream",
     "text": [
      "95\n",
      "15\n",
      "95\n"
     ]
    }
   ],
   "source": [
    "def state1():\n",
    "    tigers = 15\n",
    "    print(tigers)\n",
    "    \n",
    "tigers = 95\n",
    "print(tigers)\n",
    "state1()\n",
    "print(tigers)"
   ]
  },
  {
   "cell_type": "code",
   "execution_count": 6,
   "id": "26adc9ea",
   "metadata": {},
   "outputs": [
    {
     "name": "stdout",
     "output_type": "stream",
     "text": [
      "95\n",
      "15\n",
      "15\n"
     ]
    }
   ],
   "source": [
    "def state1():\n",
    "    global tigers\n",
    "    tigers = 15\n",
    "    print(tigers)\n",
    "    \n",
    "tigers = 95\n",
    "print(tigers)\n",
    "state1()\n",
    "print(tigers)"
   ]
  },
  {
   "cell_type": "code",
   "execution_count": 9,
   "id": "80e582e6",
   "metadata": {},
   "outputs": [
    {
     "name": "stdout",
     "output_type": "stream",
     "text": [
      "48\n",
      "None 36\n"
     ]
    }
   ],
   "source": [
    "# pg 141 Q 8\n",
    "\n",
    "# Q what will be the following code print\n",
    "\n",
    "def addEm(x,y,z):\n",
    "    print(x+y+z)\n",
    "    \n",
    "def prod(x,y,z):\n",
    "    return x*y*z\n",
    "\n",
    "a = addEm(6,26,16)\n",
    "b = prod(2,3,6)\n",
    "print(a,b)"
   ]
  },
  {
   "cell_type": "code",
   "execution_count": 12,
   "id": "ab8beea2",
   "metadata": {},
   "outputs": [
    {
     "name": "stdout",
     "output_type": "stream",
     "text": [
      " SCHOOLbbbbCOM\n"
     ]
    }
   ],
   "source": [
    "# pg 144. Q 17,18,19\n",
    "# Q. Find and write the output of the following code.\n",
    "\n",
    "def fun(s):\n",
    "    k = len(s)\n",
    "    m=\" \"\n",
    "    for i in range(0,k):\n",
    "        if(s[i].isupper()):\n",
    "            m = m+s[i].lower()\n",
    "        elif s[i].isalpha():\n",
    "            m = m+s[i].upper()\n",
    "        else:\n",
    "            m = m+ 'bb'\n",
    "    print(m)\n",
    "fun('school2@com')"
   ]
  },
  {
   "cell_type": "code",
   "execution_count": 16,
   "id": "b8c7fb0e",
   "metadata": {},
   "outputs": [
    {
     "name": "stdout",
     "output_type": "stream",
     "text": [
      "250 # 150\n",
      "250 # 100\n",
      "130 # 100\n"
     ]
    }
   ],
   "source": [
    "# Q18. Find and write the output of the following code\n",
    "\n",
    "def Change(P,Q = 30):\n",
    "    P = P+Q\n",
    "    Q = P-Q\n",
    "    print(P,\"#\",Q)\n",
    "    return(P)\n",
    "\n",
    "R = 150\n",
    "S = 100\n",
    "R = Change(R,S)\n",
    "print(R,\"#\",S)\n",
    "S = Change(S)"
   ]
  },
  {
   "cell_type": "code",
   "execution_count": 18,
   "id": "b48729e8",
   "metadata": {},
   "outputs": [
    {
     "name": "stdout",
     "output_type": "stream",
     "text": [
      "3 3\n",
      "3 2\n",
      "5 3\n"
     ]
    }
   ],
   "source": [
    "# Q19. Predict the output of the following code\n",
    "\n",
    "def check(n1 = 1,n2 = 2):\n",
    "    n1 = n1+n2\n",
    "    n2 += 1\n",
    "    print(n1,n2)\n",
    "check()\n",
    "check(2,1)\n",
    "check(3)"
   ]
  },
  {
   "cell_type": "code",
   "execution_count": 22,
   "id": "fce6238b",
   "metadata": {},
   "outputs": [
    {
     "name": "stdout",
     "output_type": "stream",
     "text": [
      "1\n"
     ]
    },
    {
     "ename": "TypeError",
     "evalue": "f() takes 0 positional arguments but 1 was given",
     "output_type": "error",
     "traceback": [
      "\u001b[1;31m---------------------------------------------------------------------------\u001b[0m",
      "\u001b[1;31mTypeError\u001b[0m                                 Traceback (most recent call last)",
      "Input \u001b[1;32mIn [22]\u001b[0m, in \u001b[0;36m<cell line: 5>\u001b[1;34m()\u001b[0m\n\u001b[0;32m      3\u001b[0m     a \u001b[38;5;241m=\u001b[39m \u001b[38;5;241m10\u001b[39m\n\u001b[0;32m      4\u001b[0m \u001b[38;5;28mprint\u001b[39m(a)\n\u001b[1;32m----> 5\u001b[0m \u001b[43mf\u001b[49m\u001b[43m(\u001b[49m\u001b[43ma\u001b[49m\u001b[43m)\u001b[49m\n",
      "\u001b[1;31mTypeError\u001b[0m: f() takes 0 positional arguments but 1 was given"
     ]
    }
   ],
   "source": [
    "# Q20.what will be the output of the following code.\n",
    "a = 1\n",
    "def f():\n",
    "    a = 10\n",
    "print(a)\n",
    "f(a)"
   ]
  },
  {
   "cell_type": "code",
   "execution_count": 24,
   "id": "cb6ce459",
   "metadata": {},
   "outputs": [
    {
     "name": "stdout",
     "output_type": "stream",
     "text": [
      "1\n",
      "1\n",
      "1\n"
     ]
    }
   ],
   "source": [
    "# What will be the output of the following code\n",
    "num = 1\n",
    "def myfunc():\n",
    "    return num\n",
    "print(num)\n",
    "print(myfunc())\n",
    "print(num)\n"
   ]
  },
  {
   "cell_type": "code",
   "execution_count": 26,
   "id": "fc9dcd76",
   "metadata": {},
   "outputs": [
    {
     "name": "stdout",
     "output_type": "stream",
     "text": [
      "1\n",
      "10\n",
      "1\n"
     ]
    }
   ],
   "source": [
    "num = 1\n",
    "def myfunc():\n",
    "    num = 10\n",
    "    return num\n",
    "print(num)\n",
    "print(myfunc())\n",
    "print(num)"
   ]
  },
  {
   "cell_type": "code",
   "execution_count": 28,
   "id": "44191d80",
   "metadata": {},
   "outputs": [
    {
     "name": "stdout",
     "output_type": "stream",
     "text": [
      "1\n",
      "10\n",
      "10\n"
     ]
    }
   ],
   "source": [
    "num = 1\n",
    "def myfunc():\n",
    "    global num\n",
    "    num = 10\n",
    "    return num\n",
    "print(num)\n",
    "print(myfunc())\n",
    "print(num)"
   ]
  },
  {
   "cell_type": "code",
   "execution_count": 31,
   "id": "20b292ad",
   "metadata": {},
   "outputs": [
    {
     "name": "stdout",
     "output_type": "stream",
     "text": [
      "Hello\n",
      "there!\n"
     ]
    }
   ],
   "source": [
    "def display():\n",
    "    print(\"Hello\", end = ' ')\n",
    "display()\n",
    "print(\"there!\")"
   ]
  },
  {
   "cell_type": "code",
   "execution_count": null,
   "id": "511db4e5",
   "metadata": {},
   "outputs": [],
   "source": []
  }
 ],
 "metadata": {
  "kernelspec": {
   "display_name": "Python 3 (ipykernel)",
   "language": "python",
   "name": "python3"
  },
  "language_info": {
   "codemirror_mode": {
    "name": "ipython",
    "version": 3
   },
   "file_extension": ".py",
   "mimetype": "text/x-python",
   "name": "python",
   "nbconvert_exporter": "python",
   "pygments_lexer": "ipython3",
   "version": "3.9.12"
  }
 },
 "nbformat": 4,
 "nbformat_minor": 5
}
