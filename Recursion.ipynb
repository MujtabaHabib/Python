{
 "cells": [
  {
   "cell_type": "code",
   "execution_count": null,
   "id": "7965fff2",
   "metadata": {},
   "outputs": [],
   "source": [
    "# Recursion = A function which is calling itself again and again\n",
    "\n",
    "def fact(n):\n",
    "    if n ==1:\n",
    "        return 1\n",
    "    else:\n",
    "        return n*fact(n-1)\n",
    "    \n",
    "a= int(input(\"Enter a number\"))\n",
    "F = fact(a)\n",
    "print(\"Factorial =\",F)"
   ]
  },
  {
   "cell_type": "code",
   "execution_count": null,
   "id": "a7fd00f2",
   "metadata": {},
   "outputs": [],
   "source": [
    "def fact(n):\n",
    "    if n==1:\n",
    "        return 1\n",
    "    else:\n",
    "        return n+fact(n-1)\n",
    "        \n",
    "a = int(input(\"Enter number\"))\n",
    "F = fact(a)\n",
    "print(\"Factorial =\",F)"
   ]
  },
  {
   "cell_type": "code",
   "execution_count": null,
   "id": "bb0e3d35",
   "metadata": {},
   "outputs": [],
   "source": [
    "# Predict the output codes\n",
    "\n",
    "def codo(n):\n",
    "    if n==0:\n",
    "        print(\"Finally\")\n",
    "    else:\n",
    "        print(n)\n",
    "        codo(n-3)\n",
    "codo(15) "
   ]
  },
  {
   "cell_type": "code",
   "execution_count": null,
   "id": "a51df1cd",
   "metadata": {},
   "outputs": [],
   "source": [
    "\n",
    "def codo(n):\n",
    "    if n==0:\n",
    "        print(\"Finally\")\n",
    "    else:\n",
    "        print(n)\n",
    "        codo(n-2)\n",
    "# codo(15) code will go into infinte loop"
   ]
  },
  {
   "cell_type": "code",
   "execution_count": null,
   "id": "8b07d301",
   "metadata": {},
   "outputs": [],
   "source": [
    "def codo(n):\n",
    "    if n==0:\n",
    "        print(\"Finally\")\n",
    "    else:\n",
    "        print(n)\n",
    "        codo(n-3)\n",
    "# codo(10) code will go into infinite loop"
   ]
  },
  {
   "cell_type": "code",
   "execution_count": null,
   "id": "339f1e9c",
   "metadata": {},
   "outputs": [],
   "source": [
    "def codo(n):\n",
    "    if n==0:\n",
    "        print(\"Finally\")\n",
    "    else:\n",
    "        print(n)\n",
    "        codo(n-2)\n",
    "codo(10)"
   ]
  },
  {
   "cell_type": "code",
   "execution_count": null,
   "id": "d8102501",
   "metadata": {},
   "outputs": [],
   "source": [
    "def codo(n):\n",
    "    if n<=1:\n",
    "        print(\"Finally\")\n",
    "    else:\n",
    "        print(n)\n",
    "        codo(n-3)\n",
    "codo(10)"
   ]
  },
  {
   "cell_type": "code",
   "execution_count": null,
   "id": "ce5ca2ea",
   "metadata": {},
   "outputs": [],
   "source": [
    "#predict the output of the following code\n",
    "\n",
    "def express(x,n):\n",
    "    if n==0:\n",
    "            return 1\n",
    "    elif n%2 ==0:\n",
    "            print(x,n)\n",
    "            return express(x*x,n/2)\n",
    "    else:\n",
    "            print(x,n)\n",
    "            return x*express(x,n-1)\n",
    "express(2,5)"
   ]
  },
  {
   "cell_type": "code",
   "execution_count": null,
   "id": "f6dc329a",
   "metadata": {},
   "outputs": [],
   "source": [
    "# Consider following question that uses python\n",
    "\n",
    "def check(n):\n",
    "    if n<=1:\n",
    "        return True\n",
    "    elif n%2 ==0:\n",
    "        return check(n/2)\n",
    "    else:\n",
    "        return check(n/1)\n",
    "\n",
    "check(8)"
   ]
  },
  {
   "cell_type": "code",
   "execution_count": null,
   "id": "55d803bc",
   "metadata": {},
   "outputs": [],
   "source": [
    "#Identify the base case(s) in the following recursive function:\n",
    "\n",
    "def function1(n):\n",
    "    if n ==0:\n",
    "        return 5\n",
    "    elif n ==1:\n",
    "        return 8\n",
    "    elif n>0:\n",
    "        return function1(n-1)+function1(n-2)\n",
    "    else:\n",
    "        return -1\n",
    "\n",
    "function1(5)    "
   ]
  },
  {
   "cell_type": "code",
   "execution_count": null,
   "id": "5edcf54f",
   "metadata": {},
   "outputs": [],
   "source": [
    "# Q9.Pg 284...\n",
    "\n",
    "def compute(x,y):\n",
    "    if x>1:\n",
    "        if x%y ==0:\n",
    "            print(y, end= ' ')\n",
    "#             print(x,y)\n",
    "            compute(int(x/y),y)\n",
    "        else:\n",
    "            compute(x,y+1)\n",
    "#             print(x,y)\n",
    "compute(84,2)"
   ]
  },
  {
   "cell_type": "code",
   "execution_count": null,
   "id": "1d9ff76a",
   "metadata": {},
   "outputs": [],
   "source": [
    "def skip_prod(n):\n",
    "    if n <= 0:\n",
    "        return 1\n",
    "    else:\n",
    "        return n* skip_prod(n-2)\n",
    "3*skip_prod(5)"
   ]
  },
  {
   "cell_type": "code",
   "execution_count": null,
   "id": "e451efe9",
   "metadata": {},
   "outputs": [],
   "source": [
    "# Q11.figure out the error in the following recursive code of factorial\n",
    "\n",
    "def factorial(n):\n",
    "    if n==0:\n",
    "        return 1\n",
    "    else:\n",
    "         return n*factorial(n-1)\n",
    "print(factorial(4))"
   ]
  },
  {
   "cell_type": "code",
   "execution_count": 18,
   "id": "5612fd44",
   "metadata": {},
   "outputs": [
    {
     "name": "stdout",
     "output_type": "stream",
     "text": [
      "1\n",
      "2\n",
      "3\n",
      "4\n"
     ]
    }
   ],
   "source": [
    "# Q13.\n",
    "\n",
    "def Out_upto(n):\n",
    "    if n==0:\n",
    "        return \n",
    "    else:\n",
    "#          print(n)\n",
    "         Out_upto(n-1)\n",
    "         print(n)\n",
    "Out_upto(4)"
   ]
  },
  {
   "cell_type": "code",
   "execution_count": 17,
   "id": "fdd478d9",
   "metadata": {},
   "outputs": [
    {
     "name": "stdout",
     "output_type": "stream",
     "text": [
      "1\n",
      "1\n",
      "1\n",
      "1\n"
     ]
    }
   ],
   "source": [
    "# Q12.\n",
    "def Out_upto(n):\n",
    "    i =1\n",
    "    if n==0:\n",
    "        return\n",
    "    else:\n",
    "        print(i)\n",
    "        i += 1\n",
    "#         print(n)\n",
    "    Out_upto(n-1)\n",
    "Out_upto(4)"
   ]
  },
  {
   "cell_type": "code",
   "execution_count": 23,
   "id": "755f2491",
   "metadata": {},
   "outputs": [
    {
     "name": "stdout",
     "output_type": "stream",
     "text": [
      "Enter value of n : 2\n",
      "5\n"
     ]
    }
   ],
   "source": [
    "#write recursive code to compute and print sum of squares of n numbers.Values of n is passed as parameter\n",
    "\n",
    "def sqsum(n):\n",
    "    if n==1:\n",
    "        return 1\n",
    "    return n * n+sqsum(n-1)\n",
    "n = int(input(\"Enter value of n : \"))\n",
    "print(sqsum(n))"
   ]
  },
  {
   "cell_type": "code",
   "execution_count": 26,
   "id": "1415a844",
   "metadata": {},
   "outputs": [
    {
     "name": "stdout",
     "output_type": "stream",
     "text": [
      "Enter first number5\n",
      "Enter second number4\n",
      "GCD of  5 and 4 is: 1\n"
     ]
    }
   ],
   "source": [
    "# Q14. Write recursive code to compute greatest common divisor of two numbers.\n",
    "\n",
    "def gcd(a,b):\n",
    "    if (b==0):\n",
    "        return a\n",
    "    else:\n",
    "        return gcd(b,a%b)\n",
    "n1 = int(input(\"Enter first number\"))\n",
    "n2 = int(input(\"Enter second number\"))\n",
    "d = gcd(n1,n2)\n",
    "print(\"GCD of \",n1,\"and\",n2,\"is:\",d)\n"
   ]
  },
  {
   "cell_type": "code",
   "execution_count": 9,
   "id": "229e5ffe",
   "metadata": {},
   "outputs": [
    {
     "data": {
      "text/plain": [
       "120"
      ]
     },
     "execution_count": 9,
     "metadata": {},
     "output_type": "execute_result"
    }
   ],
   "source": [
    "def fact(n):\n",
    "\n",
    "    if(n<=1):\n",
    "        return 1\n",
    "    else:\n",
    "        return n*fact(n-1)\n",
    "fact(5)"
   ]
  },
  {
   "cell_type": "code",
   "execution_count": null,
   "id": "98ba930d",
   "metadata": {},
   "outputs": [],
   "source": []
  },
  {
   "cell_type": "code",
   "execution_count": null,
   "id": "c490dc2d",
   "metadata": {},
   "outputs": [],
   "source": []
  },
  {
   "cell_type": "code",
   "execution_count": null,
   "id": "48acadf0",
   "metadata": {},
   "outputs": [],
   "source": []
  },
  {
   "cell_type": "code",
   "execution_count": null,
   "id": "b3f087d0",
   "metadata": {},
   "outputs": [],
   "source": []
  }
 ],
 "metadata": {
  "kernelspec": {
   "display_name": "Python 3 (ipykernel)",
   "language": "python",
   "name": "python3"
  },
  "language_info": {
   "codemirror_mode": {
    "name": "ipython",
    "version": 3
   },
   "file_extension": ".py",
   "mimetype": "text/x-python",
   "name": "python",
   "nbconvert_exporter": "python",
   "pygments_lexer": "ipython3",
   "version": "3.9.12"
  }
 },
 "nbformat": 4,
 "nbformat_minor": 5
}
