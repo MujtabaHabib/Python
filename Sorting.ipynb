{
 "cells": [
  {
   "cell_type": "code",
   "execution_count": 6,
   "id": "872e0975",
   "metadata": {},
   "outputs": [
    {
     "name": "stdout",
     "output_type": "stream",
     "text": [
      "original list is  [15, 6, 13, 22, 3, 52, 2]\n",
      "7\n",
      "list after sorting [2, 3, 6, 13, 15, 22, 52]\n"
     ]
    }
   ],
   "source": [
    "#Bubble sort\n",
    "\n",
    "aList = [15,6,13,22,3,52,2]\n",
    "print(\"original list is \",aList)\n",
    "lg = len(aList)\n",
    "print(lg)\n",
    "for i in range(lg):\n",
    "    for j in range(0,lg-i-1):\n",
    "        if aList[j]>aList[j+1]:\n",
    "            aList[j],aList[j+1]= aList[j+1],aList[j]\n",
    "print(\"list after sorting\",aList)\n",
    "            "
   ]
  },
  {
   "cell_type": "code",
   "execution_count": 12,
   "id": "27b6027e",
   "metadata": {},
   "outputs": [
    {
     "name": "stdout",
     "output_type": "stream",
     "text": [
      "5\n",
      "Sorted Array is \n",
      "1 2 4 5 8 "
     ]
    }
   ],
   "source": [
    "#Bubble sort gfg\n",
    "\n",
    "def bubbleSort(arr):\n",
    "    n = len(arr)\n",
    "    print(n)\n",
    "    for i in range(n):\n",
    "        for j in range(0,n-i-1):\n",
    "            if arr[j] > arr[j+1]:\n",
    "                arr[j],arr[j+1]= arr[j+1],arr[j]\n",
    "\n",
    "arr = [5,1,4,2,8]\n",
    "bubbleSort(arr)\n",
    "print(\"Sorted Array is \",)\n",
    "for i in range(len(arr)):\n",
    "    print(arr[i],end=\" \")"
   ]
  },
  {
   "cell_type": "code",
   "execution_count": null,
   "id": "77122f47",
   "metadata": {},
   "outputs": [],
   "source": []
  },
  {
   "cell_type": "code",
   "execution_count": null,
   "id": "fd6692a2",
   "metadata": {},
   "outputs": [],
   "source": []
  },
  {
   "cell_type": "code",
   "execution_count": 1,
   "id": "fd6cbb12",
   "metadata": {},
   "outputs": [
    {
     "name": "stdout",
     "output_type": "stream",
     "text": [
      "Sorted array\n",
      "11 25 12 22 64 Sorted array\n",
      "11 12 25 22 64 Sorted array\n",
      "11 12 22 25 64 Sorted array\n",
      "11 12 22 25 64 Sorted array\n",
      "11 12 22 25 64 "
     ]
    }
   ],
   "source": [
    "#Selection Sort\n",
    "\n",
    "A= [64,25,12,22,11]\n",
    "\n",
    "for i in range(len(A)):\n",
    "    min_idx = i\n",
    "    for j in range(i+1,len(A)):\n",
    "        if A[min_idx] > A[j]:\n",
    "            min_idx = j\n",
    "            \n",
    "    A[i],A[min_idx] = A[min_idx],A[i]\n",
    "    print(\"Sorted array\")\n",
    "    for i in range(len(A)):\n",
    "        print(\"%d\" %A[i],end=\" \")"
   ]
  },
  {
   "cell_type": "code",
   "execution_count": 2,
   "id": "02c6334f",
   "metadata": {},
   "outputs": [
    {
     "name": "stdout",
     "output_type": "stream",
     "text": [
      "Descending order\n",
      "64 12 22 11 25 Descending order\n",
      "64 25 22 11 12 Descending order\n",
      "64 25 22 11 12 Descending order\n",
      "64 25 22 12 11 Descending order\n",
      "64 25 22 12 11 "
     ]
    }
   ],
   "source": [
    "#Selection sort in descending order\n",
    "\n",
    "A = [25,12,22,11,64]\n",
    "\n",
    "for i in range(len(A)):\n",
    "    min_idx = i\n",
    "    for j in range(i+1,len(A)):\n",
    "        if A[min_idx]< A[j]:\n",
    "            min_idx = j\n",
    "    \n",
    "    A[i],A[min_idx] =A[min_idx],A[i]\n",
    "    print(\"Descending order\")\n",
    "    for i in range(len(A)):\n",
    "        print(\"%d\" %A[i],end=\" \")"
   ]
  },
  {
   "cell_type": "code",
   "execution_count": 5,
   "id": "945b3b75",
   "metadata": {},
   "outputs": [
    {
     "name": "stdout",
     "output_type": "stream",
     "text": [
      "Enter Search item:32\n",
      "32 Found at index 5\n"
     ]
    }
   ],
   "source": [
    "#Recursive function to implement binary search algorithm\n",
    "\n",
    "def binarySearch(ar,key,low,high):\n",
    "    if low>high:\n",
    "        return -999\n",
    "    mid = int((low+high)/2)\n",
    "    \n",
    "    if key == ar[mid]:\n",
    "        return mid\n",
    "    \n",
    "    elif key<ar[mid]:\n",
    "        high = mid-1\n",
    "        \n",
    "        return binarySearch(ar,key,low,high)\n",
    "    else:\n",
    "        low = mid+1\n",
    "        return binarySearch(ar,key,low,high)\n",
    "    \n",
    "ary = [ 12,15,21,25,28,32,33,36,43,45]\n",
    "item = int(input(\"Enter Search item:\"))\n",
    "res = binarySearch(ary,item,0,len(ary)-1)\n",
    "if res>= 0:\n",
    "    print(item,\"Found at index\", res)\n",
    "else:\n",
    "    print(\"Sorry!\",item,\"Not Found in array\")"
   ]
  },
  {
   "cell_type": "code",
   "execution_count": 8,
   "id": "4971bcce",
   "metadata": {},
   "outputs": [
    {
     "name": "stdout",
     "output_type": "stream",
     "text": [
      "Enter last term required :8\n",
      "0, 1, 1, 2, 3, 5, 8, 13, ...\n"
     ]
    }
   ],
   "source": [
    "# Q6.6 Program using a recursive function to print fibonacci series to nth term\n",
    "\n",
    "\n",
    "def fib(n):\n",
    "    if n ==1:\n",
    "        return 0\n",
    "    elif n ==2:\n",
    "        return 1\n",
    "    else:\n",
    "        return fib(n-1) + fib(n-2)\n",
    "    \n",
    "n = int(input(\"Enter last term required :\"))\n",
    "for i in range(1,n+1):\n",
    "    print(fib(i), end = ', ')\n",
    "print(\"...\")"
   ]
  },
  {
   "cell_type": "code",
   "execution_count": 1,
   "id": "d4372f6b",
   "metadata": {},
   "outputs": [
    {
     "name": "stdout",
     "output_type": "stream",
     "text": [
      "Sorted array is: \n",
      "1 5 6 9 10 12 \n"
     ]
    }
   ],
   "source": [
    "#merge sort\n",
    "def mergeSort(array):\n",
    "    if len(array) > 1:\n",
    "\n",
    "        #  r is the point where the array is divided into two subarrays\n",
    "        r = len(array)//2\n",
    "        L = array[:r]\n",
    "        M = array[r:]\n",
    "\n",
    "        # Sort the two halves\n",
    "        mergeSort(L)\n",
    "        mergeSort(M)\n",
    "\n",
    "        i = j = k = 0\n",
    "\n",
    "        # Until we reach either end of either L or M, pick larger among\n",
    "        # elements L and M and place them in the correct position at A[p..r]\n",
    "        while i < len(L) and j < len(M):\n",
    "            if L[i] < M[j]:\n",
    "                array[k] = L[i]\n",
    "                i += 1\n",
    "            else:\n",
    "                array[k] = M[j]\n",
    "                j += 1\n",
    "            k += 1\n",
    "\n",
    "        # When we run out of elements in either L or M,\n",
    "        # pick up the remaining elements and put in A[p..r]\n",
    "        while i < len(L):\n",
    "            array[k] = L[i]\n",
    "            i += 1\n",
    "            k += 1\n",
    "\n",
    "        while j < len(M):\n",
    "            array[k] = M[j]\n",
    "            j += 1\n",
    "            k += 1\n",
    "\n",
    "\n",
    "# Print the array\n",
    "def printList(array):\n",
    "    for i in range(len(array)):\n",
    "        print(array[i], end=\" \")\n",
    "    print()\n",
    "\n",
    "\n",
    "# Driver program\n",
    "if __name__ == '__main__':\n",
    "    array = [6, 5, 12, 10, 9, 1]\n",
    "\n",
    "    mergeSort(array)\n",
    "\n",
    "    print(\"Sorted array is: \")\n",
    "    printList(array)"
   ]
  },
  {
   "cell_type": "code",
   "execution_count": 8,
   "id": "478318db",
   "metadata": {},
   "outputs": [
    {
     "ename": "TypeError",
     "evalue": "'>' not supported between instances of 'list' and 'int'",
     "output_type": "error",
     "traceback": [
      "\u001b[1;31m---------------------------------------------------------------------------\u001b[0m",
      "\u001b[1;31mTypeError\u001b[0m                                 Traceback (most recent call last)",
      "Input \u001b[1;32mIn [8]\u001b[0m, in \u001b[0;36m<cell line: 35>\u001b[1;34m()\u001b[0m\n\u001b[0;32m     29\u001b[0m             k \u001b[38;5;241m+\u001b[39m\u001b[38;5;241m=\u001b[39m \u001b[38;5;241m1\u001b[39m\n\u001b[0;32m     34\u001b[0m array \u001b[38;5;241m=\u001b[39m [\u001b[38;5;241m6\u001b[39m,\u001b[38;5;241m5\u001b[39m,\u001b[38;5;241m12\u001b[39m,\u001b[38;5;241m10\u001b[39m,\u001b[38;5;241m9\u001b[39m,\u001b[38;5;241m1\u001b[39m]\n\u001b[1;32m---> 35\u001b[0m \u001b[43mmergeSort\u001b[49m\u001b[43m(\u001b[49m\u001b[43marray\u001b[49m\u001b[43m)\u001b[49m\n\u001b[0;32m     36\u001b[0m \u001b[38;5;28mprint\u001b[39m(\u001b[38;5;124m\"\u001b[39m\u001b[38;5;124mSorted array is\u001b[39m\u001b[38;5;124m\"\u001b[39m)\n\u001b[0;32m     37\u001b[0m \u001b[38;5;28mprint\u001b[39m(array)\n",
      "Input \u001b[1;32mIn [8]\u001b[0m, in \u001b[0;36mmergeSort\u001b[1;34m(array)\u001b[0m\n\u001b[0;32m      1\u001b[0m \u001b[38;5;28;01mdef\u001b[39;00m \u001b[38;5;21mmergeSort\u001b[39m(array):\n\u001b[1;32m----> 2\u001b[0m     \u001b[38;5;28;01mif\u001b[39;00m \u001b[43marray\u001b[49m\u001b[38;5;241;43m>\u001b[39;49m\u001b[38;5;241;43m1\u001b[39;49m:\n\u001b[0;32m      3\u001b[0m         r \u001b[38;5;241m=\u001b[39m \u001b[38;5;28mlen\u001b[39m(array)\u001b[38;5;241m/\u001b[39m\u001b[38;5;241m/\u001b[39m\u001b[38;5;241m2\u001b[39m\n\u001b[0;32m      4\u001b[0m         L \u001b[38;5;241m=\u001b[39m array[:r]\n",
      "\u001b[1;31mTypeError\u001b[0m: '>' not supported between instances of 'list' and 'int'"
     ]
    }
   ],
   "source": [
    "def mergeSort(array):\n",
    "    if array>1:\n",
    "        r = len(array)//2\n",
    "        L = array[:r]\n",
    "        M = array[r:]\n",
    "        \n",
    "        mergeSort(L)\n",
    "        mergeSort(M)\n",
    "\n",
    "        i = j= k =0\n",
    "        while i< len(L) and j < len(M):\n",
    "            if L[i] < M[j]:\n",
    "                array[K] = L[i]\n",
    "                i += 1\n",
    "            \n",
    "            else:\n",
    "                array[k]=M[j]\n",
    "                j+=1\n",
    "            k+=1\n",
    "            \n",
    "        while i < len(L):\n",
    "            arr[k] = L[i]\n",
    "            i += 1\n",
    "            k += 1\n",
    " \n",
    "        while j < len(M):\n",
    "            arr[k] = M[j]\n",
    "            j += 1\n",
    "            k += 1\n",
    "  \n",
    "\n",
    "def printList(arr):\n",
    "    for i in range()\n",
    "\n",
    "\n",
    "\n",
    "array = [6,5,12,10,9,1]\n",
    "mergeSort(array)\n",
    "print(\"Sorted array is\")\n",
    "print(array)"
   ]
  },
  {
   "cell_type": "code",
   "execution_count": null,
   "id": "688b8c04",
   "metadata": {},
   "outputs": [],
   "source": []
  }
 ],
 "metadata": {
  "kernelspec": {
   "display_name": "Python 3 (ipykernel)",
   "language": "python",
   "name": "python3"
  },
  "language_info": {
   "codemirror_mode": {
    "name": "ipython",
    "version": 3
   },
   "file_extension": ".py",
   "mimetype": "text/x-python",
   "name": "python",
   "nbconvert_exporter": "python",
   "pygments_lexer": "ipython3",
   "version": "3.9.12"
  }
 },
 "nbformat": 4,
 "nbformat_minor": 5
}
