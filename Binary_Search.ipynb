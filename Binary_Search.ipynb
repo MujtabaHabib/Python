{
 "cells": [
  {
   "cell_type": "code",
   "execution_count": null,
   "id": "e8e87c68",
   "metadata": {},
   "outputs": [],
   "source": [
    "#Array is stored in Ascending order.\n",
    "\n",
    "def Bsearch(AR,ITEM):\n",
    "    beg = 0\n",
    "    last = len(AR)-1\n",
    "    while (beg<=last):\n",
    "        mid = (beg+last)/2\n",
    "        if(ITEM == AR[mid]):\n",
    "            return mid\n",
    "        elif (ITEM > AR[mid]):\n",
    "            beg = mid+1\n",
    "        else:\n",
    "            last = mid-1\n",
    "    else:\n",
    "        return False\n",
    "N = int(input(\"Enter desired linear-list size(max.50)...\"))\n",
    "print(\"\\nEnter elements for Linear List in ASCENDING ORDER\\n\")\n",
    "AR =[0]* N\n",
    "for i in range(N):\n",
    "        AR[i] = int(input(\"Element\" + str(i)+\" :\"))\n",
    "        \n",
    "ITEM = int(input(\"Enter element to be searched for.. \"))\n",
    "index = Bsearch(AR,ITEM)\n",
    "        \n",
    "if index:\n",
    "        print(\"\\n Element found at index :\", index,\",Postion :\",(index + 1))\n",
    "else:\n",
    "        print(\"\\n Sorry!! Given element could not be found . \\n\")"
   ]
  },
  {
   "cell_type": "code",
   "execution_count": 3,
   "id": "b0f5333d",
   "metadata": {},
   "outputs": [
    {
     "name": "stdout",
     "output_type": "stream",
     "text": [
      "Enter search item25\n",
      "25 Found at index 3\n"
     ]
    }
   ],
   "source": [
    "def binsearch(ar,key):\n",
    "    low = 0\n",
    "    high = len(ar)-1\n",
    "    while low<= high:\n",
    "        mid = int((low + high)/2)\n",
    "        if key == ar[mid]:\n",
    "            return mid\n",
    "        elif key < ar[mid]:\n",
    "            high = mid -1\n",
    "        else:\n",
    "            low = mid + 1\n",
    "    else:\n",
    "        return -999\n",
    "    \n",
    "ar = [12,15,21,25,28,32,33,36,43,45]\n",
    "item = int(input(\"Enter search item\"))\n",
    "res = binsearch(ar,item)\n",
    "if res >= 0:\n",
    "    print(item,\"Found at index\",res)\n",
    "else:\n",
    "    print(\"Sorry!\",item,\"NOT FOUND in array\")"
   ]
  },
  {
   "cell_type": "code",
   "execution_count": 2,
   "id": "3ba7c5c7",
   "metadata": {},
   "outputs": [
    {
     "name": "stdout",
     "output_type": "stream",
     "text": [
      "Element is present at Index 3\n"
     ]
    }
   ],
   "source": [
    "#LinearSearch Example \n",
    "\n",
    "def linearSearch(array,n,x):\n",
    "    for i in range(0,n):\n",
    "        if(array[i]==x):\n",
    "            return i\n",
    "    return -1\n",
    "\n",
    "array = [24,41,31,11,9]\n",
    "x = 11\n",
    "n = len(array)\n",
    "result = linearSearch(array,n,x)\n",
    "if(result == -1):\n",
    "    print(\"Element not found\")\n",
    "else:\n",
    "    print(\"Element is present at Index\",result)"
   ]
  },
  {
   "cell_type": "code",
   "execution_count": 13,
   "id": "e12c1850",
   "metadata": {},
   "outputs": [
    {
     "name": "stdout",
     "output_type": "stream",
     "text": [
      "7\n"
     ]
    }
   ],
   "source": [
    "#Binary Search\n",
    "\n",
    "def binarySearch(array,x,low,high):\n",
    "    while low<=high:\n",
    "        \n",
    "        mid = low+(high-low)//2\n",
    "        \n",
    "        if array[mid] == x:\n",
    "            \n",
    "            return mid\n",
    "        \n",
    "        elif array[mid]<x:\n",
    "            \n",
    "            low = mid+1\n",
    "            \n",
    "        else:\n",
    "            high = mid-1\n",
    "            \n",
    "    return-1\n",
    "\n",
    "array = [2, 4, 5, 17, 14, 7, 11, 22]\n",
    "x = 22\n",
    "result = binarySearch(array,x,0,len(array)-1)\n",
    "\n",
    "if result != -1:\n",
    "    print(str(result))\n",
    "else:\n",
    "    print(\"Not found\")"
   ]
  },
  {
   "cell_type": "code",
   "execution_count": null,
   "id": "adc498ce",
   "metadata": {},
   "outputs": [],
   "source": []
  }
 ],
 "metadata": {
  "kernelspec": {
   "display_name": "Python 3 (ipykernel)",
   "language": "python",
   "name": "python3"
  },
  "language_info": {
   "codemirror_mode": {
    "name": "ipython",
    "version": 3
   },
   "file_extension": ".py",
   "mimetype": "text/x-python",
   "name": "python",
   "nbconvert_exporter": "python",
   "pygments_lexer": "ipython3",
   "version": "3.9.12"
  }
 },
 "nbformat": 4,
 "nbformat_minor": 5
}
