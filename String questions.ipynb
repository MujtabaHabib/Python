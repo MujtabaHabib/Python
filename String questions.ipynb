{
 "cells": [
  {
   "cell_type": "code",
   "execution_count": null,
   "id": "e05decba",
   "metadata": {},
   "outputs": [],
   "source": [
    "#wap to implement a simple calculator for two input numbers.offer choices through a menu.\n",
    "\n",
    "num1 = int(input(\"Enter first number\"))\n",
    "num2 = int(input(\"Enter Second number\"))\n",
    "ch = 0\n",
    "while ch < 5:\n",
    "    print(\"Enter your choice for calculation\")\n",
    "    print(\"1.Addition\")\n",
    "    print(\"2.Substraction\")\n",
    "    print(\"3.Multiplication\")\n",
    "    print(\"4.Division\")\n",
    "    print(\"5.Exit\")\n",
    "    \n",
    "    ch = int(input(\"Enter your choice = \"))\n",
    "    \n",
    "    if ch == 1:\n",
    "        c = num1 + num2\n",
    "        print(\"Sum = \",c)\n",
    "        print()\n",
    "    elif ch == 2:\n",
    "        c = num1 - num2\n",
    "        print(\"Difference= \",c)\n",
    "        print()\n",
    "    elif ch == 3:\n",
    "        c = num1 * num2\n",
    "        print(\"Product= \",c)\n",
    "        print()\n",
    "    elif ch == 4:\n",
    "        c = num1/num2\n",
    "        print(\"Quotient= \",c)\n",
    "        print()\n",
    "    elif ch ==5:\n",
    "        break\n",
    "    else:\n",
    "        Print(\"Invalid Choice\")"
   ]
  },
  {
   "cell_type": "code",
   "execution_count": null,
   "id": "3a78714e",
   "metadata": {},
   "outputs": [],
   "source": [
    "x = 10\n",
    "y = 0\n",
    "while x>y:\n",
    "    print(x,y)\n",
    "    x = x-1\n",
    "    y = y+1"
   ]
  },
  {
   "cell_type": "code",
   "execution_count": null,
   "id": "1b44a404",
   "metadata": {},
   "outputs": [],
   "source": [
    "keepgoing = True\n",
    "x = 100\n",
    "while keepgoing:\n",
    "    print(x)\n",
    "    x = x-10\n",
    "    if x<50:\n",
    "        keepgoing = False"
   ]
  },
  {
   "cell_type": "code",
   "execution_count": null,
   "id": "0e7e9b65",
   "metadata": {},
   "outputs": [],
   "source": [
    "for x in [1,2,3,4,5]:\n",
    "    print(x)"
   ]
  },
  {
   "cell_type": "code",
   "execution_count": null,
   "id": "6a5abb11",
   "metadata": {},
   "outputs": [],
   "source": [
    "for q in range(100,50,-10):\n",
    "    print(q)"
   ]
  },
  {
   "cell_type": "code",
   "execution_count": null,
   "id": "e90bd2bd",
   "metadata": {},
   "outputs": [],
   "source": [
    "for p in range(1,10):\n",
    "    print(p)"
   ]
  },
  {
   "cell_type": "code",
   "execution_count": 2,
   "id": "2e013b23",
   "metadata": {},
   "outputs": [
    {
     "name": "stdout",
     "output_type": "stream",
     "text": [
      "-500\n",
      "-400\n",
      "-300\n",
      "-200\n",
      "-100\n",
      "0\n",
      "100\n",
      "200\n",
      "300\n",
      "400\n"
     ]
    }
   ],
   "source": [
    "for z in range(-500,500,100):\n",
    "    print(z)"
   ]
  },
  {
   "cell_type": "code",
   "execution_count": 1,
   "id": "704e02b8",
   "metadata": {},
   "outputs": [],
   "source": [
    "x = 10\n",
    "y = 5\n",
    "for i in range(x-y * 2):\n",
    "    print(\"%\",i)"
   ]
  },
  {
   "cell_type": "code",
   "execution_count": 3,
   "id": "dd0ba1d5",
   "metadata": {},
   "outputs": [
    {
     "name": "stdout",
     "output_type": "stream",
     "text": [
      "0 0 0\n",
      "0 1 1\n",
      "0 2 2\n",
      "0 3 3\n",
      "1 0 1\n",
      "1 1 2\n",
      "1 2 3\n",
      "1 3 4\n",
      "2 0 2\n",
      "2 1 3\n",
      "2 2 4\n",
      "2 3 5\n"
     ]
    }
   ],
   "source": [
    "for x in range(3):\n",
    "    for y in range(4):\n",
    "        print(x,y,x+y)"
   ]
  },
  {
   "cell_type": "code",
   "execution_count": 4,
   "id": "b76022af",
   "metadata": {},
   "outputs": [
    {
     "name": "stdout",
     "output_type": "stream",
     "text": [
      "1\n",
      "2\n",
      "3\n",
      "4\n",
      "5\n",
      "6\n",
      "7\n",
      "8\n",
      "9\n",
      "10\n",
      "11\n",
      "12\n",
      "13\n",
      "14\n",
      "15\n",
      "16\n",
      "17\n",
      "18\n",
      "19\n",
      "20\n",
      "21\n",
      "22\n",
      "23\n",
      "24\n",
      "25\n",
      "26\n",
      "27\n",
      "28\n",
      "29\n",
      "30\n",
      "31\n",
      "32\n",
      "33\n",
      "34\n",
      "35\n",
      "36\n",
      "37\n",
      "38\n",
      "39\n",
      "40\n",
      "41\n",
      "42\n",
      "43\n",
      "44\n",
      "45\n",
      "46\n",
      "47\n",
      "48\n",
      "49\n",
      "50\n"
     ]
    }
   ],
   "source": [
    "c = 0\n",
    "for x in range(10):\n",
    "    for y in range(5):\n",
    "        c += 1\n",
    "        print(c)"
   ]
  },
  {
   "cell_type": "code",
   "execution_count": 9,
   "id": "1c62b476",
   "metadata": {},
   "outputs": [
    {
     "name": "stdout",
     "output_type": "stream",
     "text": [
      "o+o+ooo++oooo+oooo++"
     ]
    }
   ],
   "source": [
    "for i in range(4):\n",
    "    for j in range(5):\n",
    "        if i + 1 == j or j+1 == 4:\n",
    "            print(\"+\",end = '')\n",
    "        else:\n",
    "            print(\"o\",end = '')"
   ]
  },
  {
   "cell_type": "code",
   "execution_count": 11,
   "id": "0990f042",
   "metadata": {},
   "outputs": [
    {
     "name": "stdout",
     "output_type": "stream",
     "text": [
      "5\n",
      "10\n",
      "15\n",
      "20\n",
      "25\n",
      "30\n",
      "35\n",
      "40\n",
      "45\n",
      "50\n"
     ]
    }
   ],
   "source": [
    "c = 0\n",
    "for x in range(10):\n",
    "    for y in range(5):\n",
    "        c += 1\n",
    "    print(c)"
   ]
  },
  {
   "cell_type": "code",
   "execution_count": 12,
   "id": "277147ab",
   "metadata": {},
   "outputs": [
    {
     "name": "stdout",
     "output_type": "stream",
     "text": [
      "%\n",
      "* \n",
      "* * \n",
      "* * * \n",
      "%%\n",
      "* \n",
      "* * \n",
      "* * * \n",
      "%%%\n",
      "* \n",
      "* * \n",
      "* * * \n"
     ]
    }
   ],
   "source": [
    "x= [1,2,3]\n",
    "counter = 0\n",
    "while counter < len(x):\n",
    "    print(x[counter] * '%')\n",
    "    for y in x:\n",
    "        print(y * '* ')\n",
    "    counter +=1"
   ]
  },
  {
   "cell_type": "code",
   "execution_count": 13,
   "id": "126df341",
   "metadata": {},
   "outputs": [
    {
     "name": "stdout",
     "output_type": "stream",
     "text": [
      "L\n",
      "A\n",
      "M\n",
      "P\n"
     ]
    }
   ],
   "source": [
    "for x in 'lamp':\n",
    "    print(str.upper(x))\n",
    "    "
   ]
  },
  {
   "cell_type": "code",
   "execution_count": 15,
   "id": "5d6050d1",
   "metadata": {},
   "outputs": [
    {
     "name": "stdout",
     "output_type": "stream",
     "text": [
      "o t\n",
      "n w\n",
      "e o\n"
     ]
    }
   ],
   "source": [
    "x = 'one'\n",
    "y = 'two'\n",
    "counter = 0\n",
    "while counter <len(x):\n",
    "    print(x[counter],y[counter])\n",
    "    counter += 1"
   ]
  },
  {
   "cell_type": "code",
   "execution_count": 16,
   "id": "911ce0f7",
   "metadata": {},
   "outputs": [
    {
     "name": "stdout",
     "output_type": "stream",
     "text": [
      "apple\n",
      "pear\n",
      "peach\n"
     ]
    }
   ],
   "source": [
    "x = \"apple,pear,peach\"\n",
    "y = x.split(\",\")\n",
    "for z in y:\n",
    "    print(z)"
   ]
  },
  {
   "cell_type": "code",
   "execution_count": 17,
   "id": "54c999df",
   "metadata": {},
   "outputs": [
    {
     "name": "stdout",
     "output_type": "stream",
     "text": [
      "apple\n",
      "PEAR\n",
      "PEACH\n",
      "grapefruit\n"
     ]
    }
   ],
   "source": [
    "x = 'apple,pear,peach,grapefruit'\n",
    "y = x.split(',')\n",
    "for z in y:\n",
    "    if z < 'm':\n",
    "        print(str.lower(z))p0\n",
    "    else:\n",
    "        print(str.upper(z))"
   ]
  },
  {
   "cell_type": "code",
   "execution_count": 19,
   "id": "69621453",
   "metadata": {},
   "outputs": [
    {
     "name": "stdout",
     "output_type": "stream",
     "text": [
      "Jayes\n",
      "Finished\n",
      "Ramya\n",
      "Finished\n",
      "Taruna\n",
      "Got it!\n"
     ]
    }
   ],
   "source": [
    "for Name in ['Jayes','Ramya','Taruna','Suraj']:\n",
    "    print(Name)\n",
    "    if Name[0] == 'T':\n",
    "        break\n",
    "    else:\n",
    "        print(\"Finished\")\n",
    "print('Got it!')"
   ]
  },
  {
   "cell_type": "code",
   "execution_count": 21,
   "id": "8e333201",
   "metadata": {},
   "outputs": [
    {
     "name": "stdout",
     "output_type": "stream",
     "text": [
      "6 4\n",
      "7 5\n",
      "8 6\n",
      "9 7\n",
      "10 8\n"
     ]
    }
   ],
   "source": [
    "m = 3\n",
    "n = 5\n",
    "while n < 10:\n",
    "    m = n-1\n",
    "    n = 2 * n -m\n",
    "    print(n,m)"
   ]
  },
  {
   "cell_type": "code",
   "execution_count": 30,
   "id": "ab96b923",
   "metadata": {},
   "outputs": [
    {
     "name": "stdout",
     "output_type": "stream",
     "text": [
      "Freezing\n",
      "<class 'str'>\n"
     ]
    }
   ],
   "source": [
    "if n%2 == 0:\n",
    "    print(\"Freezing\")\n",
    "    print(type(\"Freezing\"))"
   ]
  },
  {
   "cell_type": "code",
   "execution_count": 33,
   "id": "c48a1568",
   "metadata": {},
   "outputs": [],
   "source": [
    "L = ['Hiya','Zoya','Preet']\n",
    "n = len(L)\n",
    "if 'Donald' in L[1:n]:\n",
    "    print(type(L))"
   ]
  },
  {
   "cell_type": "code",
   "execution_count": 36,
   "id": "6f301df1",
   "metadata": {},
   "outputs": [
    {
     "name": "stdout",
     "output_type": "stream",
     "text": [
      "<class 'str'>\n",
      "<class 'type'>\n"
     ]
    }
   ],
   "source": [
    "L = ['Hiya','Zoya','Preet']\n",
    "print(type(L[0]+L[1]))"
   ]
  },
  {
   "cell_type": "code",
   "execution_count": 47,
   "id": "677b8b8f",
   "metadata": {},
   "outputs": [
    {
     "data": {
      "text/plain": [
       "[1, 3, 5, 6, 8, 9]"
      ]
     },
     "execution_count": 47,
     "metadata": {},
     "output_type": "execute_result"
    }
   ],
   "source": [
    "str = [1,3,5,6,8,9]\n",
    "str"
   ]
  },
  {
   "cell_type": "code",
   "execution_count": 48,
   "id": "3ad6bc75",
   "metadata": {},
   "outputs": [
    {
     "name": "stdout",
     "output_type": "stream",
     "text": [
      "[1, 3, 5, 6, 8, 9]\n"
     ]
    }
   ],
   "source": [
    "print(str)"
   ]
  },
  {
   "cell_type": "code",
   "execution_count": 49,
   "id": "fd7c75be",
   "metadata": {},
   "outputs": [],
   "source": [
    "str1 = str.remove(1)"
   ]
  },
  {
   "cell_type": "code",
   "execution_count": 50,
   "id": "c97d60be",
   "metadata": {},
   "outputs": [
    {
     "name": "stdout",
     "output_type": "stream",
     "text": [
      "[3, 5, 6, 8, 9]\n"
     ]
    }
   ],
   "source": [
    "print(str)"
   ]
  },
  {
   "cell_type": "code",
   "execution_count": 52,
   "id": "ee1961d2",
   "metadata": {},
   "outputs": [],
   "source": [
    "str2 = str.pop(-1)"
   ]
  },
  {
   "cell_type": "code",
   "execution_count": 53,
   "id": "65300192",
   "metadata": {},
   "outputs": [
    {
     "data": {
      "text/plain": [
       "9"
      ]
     },
     "execution_count": 53,
     "metadata": {},
     "output_type": "execute_result"
    }
   ],
   "source": [
    "str2"
   ]
  },
  {
   "cell_type": "code",
   "execution_count": 54,
   "id": "c490206c",
   "metadata": {},
   "outputs": [
    {
     "name": "stdout",
     "output_type": "stream",
     "text": [
      "[3, 5, 6, 8]\n"
     ]
    }
   ],
   "source": [
    "print(str)"
   ]
  },
  {
   "cell_type": "code",
   "execution_count": 55,
   "id": "dcb93ce6",
   "metadata": {},
   "outputs": [],
   "source": [
    "str3 = str.append('5')"
   ]
  },
  {
   "cell_type": "code",
   "execution_count": 58,
   "id": "5a4942c2",
   "metadata": {},
   "outputs": [
    {
     "name": "stdout",
     "output_type": "stream",
     "text": [
      "[3, 5, 6, 8, '5']\n"
     ]
    }
   ],
   "source": [
    "print(str)"
   ]
  },
  {
   "cell_type": "code",
   "execution_count": 60,
   "id": "c8883006",
   "metadata": {},
   "outputs": [],
   "source": [
    "str4 = str.insert(0,'5')"
   ]
  },
  {
   "cell_type": "code",
   "execution_count": 62,
   "id": "aae3e7d7",
   "metadata": {},
   "outputs": [
    {
     "name": "stdout",
     "output_type": "stream",
     "text": [
      "['5', 3, 5, 6, 8, '5']\n"
     ]
    }
   ],
   "source": [
    "print(str)"
   ]
  },
  {
   "cell_type": "code",
   "execution_count": 64,
   "id": "6ea33c95",
   "metadata": {},
   "outputs": [
    {
     "name": "stdout",
     "output_type": "stream",
     "text": [
      "[9, 4]\n"
     ]
    }
   ],
   "source": [
    "str5 = [9,4]\n",
    "print(str5)"
   ]
  },
  {
   "cell_type": "code",
   "execution_count": 65,
   "id": "cee29e2a",
   "metadata": {},
   "outputs": [],
   "source": [
    "str6 = str.extend(str5)"
   ]
  },
  {
   "cell_type": "code",
   "execution_count": 67,
   "id": "778606e3",
   "metadata": {},
   "outputs": [
    {
     "name": "stdout",
     "output_type": "stream",
     "text": [
      "['5', 3, 5, 6, 8, '5', 9, 4]\n"
     ]
    }
   ],
   "source": [
    "print(str)"
   ]
  },
  {
   "cell_type": "code",
   "execution_count": 69,
   "id": "12e64f7c",
   "metadata": {},
   "outputs": [
    {
     "name": "stdout",
     "output_type": "stream",
     "text": [
      "['i', 'python']\n"
     ]
    }
   ],
   "source": [
    "str = ['i','python']\n",
    "print(str)"
   ]
  },
  {
   "cell_type": "code",
   "execution_count": 70,
   "id": "f74a2a0b",
   "metadata": {},
   "outputs": [
    {
     "name": "stdout",
     "output_type": "stream",
     "text": [
      "['like']\n"
     ]
    }
   ],
   "source": [
    "str2 = ['like']\n",
    "print(str2)"
   ]
  },
  {
   "cell_type": "code",
   "execution_count": 71,
   "id": "9ea87c6a",
   "metadata": {},
   "outputs": [],
   "source": [
    "str3 = str.insert(1,str2)"
   ]
  },
  {
   "cell_type": "code",
   "execution_count": 72,
   "id": "75e02f3f",
   "metadata": {},
   "outputs": [
    {
     "data": {
      "text/plain": [
       "['i', ['like'], 'python']"
      ]
     },
     "execution_count": 72,
     "metadata": {},
     "output_type": "execute_result"
    }
   ],
   "source": [
    "str"
   ]
  },
  {
   "cell_type": "code",
   "execution_count": 74,
   "id": "9c72e70b",
   "metadata": {},
   "outputs": [],
   "source": [
    "str4 = str.insert(1,str2)"
   ]
  },
  {
   "cell_type": "code",
   "execution_count": 75,
   "id": "e183d002",
   "metadata": {},
   "outputs": [
    {
     "data": {
      "text/plain": [
       "['i', ['like'], ['like'], 'python']"
      ]
     },
     "execution_count": 75,
     "metadata": {},
     "output_type": "execute_result"
    }
   ],
   "source": [
    "str"
   ]
  },
  {
   "cell_type": "code",
   "execution_count": 76,
   "id": "ad106065",
   "metadata": {},
   "outputs": [
    {
     "data": {
      "text/plain": [
       "['like']"
      ]
     },
     "execution_count": 76,
     "metadata": {},
     "output_type": "execute_result"
    }
   ],
   "source": [
    "str.pop(1)"
   ]
  },
  {
   "cell_type": "code",
   "execution_count": 77,
   "id": "7cab8d0f",
   "metadata": {},
   "outputs": [
    {
     "name": "stdout",
     "output_type": "stream",
     "text": [
      "['i', ['like'], 'python']\n"
     ]
    }
   ],
   "source": [
    "print(str)"
   ]
  },
  {
   "cell_type": "code",
   "execution_count": 78,
   "id": "121a8f68",
   "metadata": {},
   "outputs": [],
   "source": [
    "str5 = str.insert(1,'like')"
   ]
  },
  {
   "cell_type": "code",
   "execution_count": 81,
   "id": "e35f28cd",
   "metadata": {},
   "outputs": [
    {
     "name": "stdout",
     "output_type": "stream",
     "text": [
      "['i', 'like', ['like'], 'python']\n"
     ]
    }
   ],
   "source": [
    "print(str)"
   ]
  },
  {
   "cell_type": "code",
   "execution_count": 82,
   "id": "e6e88d05",
   "metadata": {},
   "outputs": [
    {
     "data": {
      "text/plain": [
       "['like']"
      ]
     },
     "execution_count": 82,
     "metadata": {},
     "output_type": "execute_result"
    }
   ],
   "source": [
    "str.pop(2)"
   ]
  },
  {
   "cell_type": "code",
   "execution_count": 83,
   "id": "8d40a747",
   "metadata": {},
   "outputs": [
    {
     "name": "stdout",
     "output_type": "stream",
     "text": [
      "['i', 'like', 'python']\n"
     ]
    }
   ],
   "source": [
    "print(str)"
   ]
  },
  {
   "cell_type": "code",
   "execution_count": 84,
   "id": "28a2f7af",
   "metadata": {},
   "outputs": [
    {
     "name": "stdout",
     "output_type": "stream",
     "text": [
      "[1, 3, 5, 7, 9]\n"
     ]
    }
   ],
   "source": [
    "L1 = [1,3,5,7,9]\n",
    "print(L1)"
   ]
  },
  {
   "cell_type": "code",
   "execution_count": 86,
   "id": "ee259277",
   "metadata": {},
   "outputs": [
    {
     "name": "stdout",
     "output_type": "stream",
     "text": [
      "False\n",
      "[1, 3, 5, 7, 9]\n"
     ]
    }
   ],
   "source": [
    "print(L1 == L1.reverse())\n",
    "print(L1)"
   ]
  },
  {
   "cell_type": "code",
   "execution_count": 95,
   "id": "dc284659",
   "metadata": {},
   "outputs": [
    {
     "name": "stdout",
     "output_type": "stream",
     "text": [
      "['p', 'r', 'o', 'b', 'l', 'e', 'm']\n"
     ]
    }
   ],
   "source": [
    "#Predict the output\n",
    "my_list = ['p','r','o','b','l','e','m']\n",
    "print(my_list)"
   ]
  },
  {
   "cell_type": "code",
   "execution_count": 96,
   "id": "acf235e6",
   "metadata": {},
   "outputs": [
    {
     "name": "stdout",
     "output_type": "stream",
     "text": [
      "['p', 'r', 'b', 'l', 'e', 'm']\n"
     ]
    }
   ],
   "source": [
    "my_list[2:3] = []\n",
    "print(my_list)"
   ]
  },
  {
   "cell_type": "code",
   "execution_count": 97,
   "id": "8f89a7e5",
   "metadata": {},
   "outputs": [
    {
     "name": "stdout",
     "output_type": "stream",
     "text": [
      "['p', 'r', 'm']\n"
     ]
    }
   ],
   "source": [
    "my_list[2:5] = []\n",
    "print(my_list)"
   ]
  },
  {
   "cell_type": "code",
   "execution_count": 101,
   "id": "faaff953",
   "metadata": {},
   "outputs": [
    {
     "name": "stdout",
     "output_type": "stream",
     "text": [
      "[13, 18, 11, 16, 13, 18, 13]\n"
     ]
    }
   ],
   "source": [
    "#Predict the output\n",
    "List1 = [13,18,11,16,13,18,13]\n",
    "print(List1)"
   ]
  },
  {
   "cell_type": "code",
   "execution_count": 102,
   "id": "f1a6da0c",
   "metadata": {},
   "outputs": [
    {
     "name": "stdout",
     "output_type": "stream",
     "text": [
      "1\n"
     ]
    }
   ],
   "source": [
    "print(List1.index(18))"
   ]
  },
  {
   "cell_type": "code",
   "execution_count": 104,
   "id": "6f04635e",
   "metadata": {},
   "outputs": [
    {
     "name": "stdout",
     "output_type": "stream",
     "text": [
      "2\n"
     ]
    }
   ],
   "source": [
    "print(List1.count(18))"
   ]
  },
  {
   "cell_type": "code",
   "execution_count": 107,
   "id": "7e5113e3",
   "metadata": {},
   "outputs": [
    {
     "name": "stdout",
     "output_type": "stream",
     "text": [
      "[13, 18, 11, 16, 13, 18, 13, 2, 2]\n"
     ]
    }
   ],
   "source": [
    "List1.append(List1.count(18))\n",
    "print(List1)"
   ]
  },
  {
   "cell_type": "code",
   "execution_count": 1,
   "id": "0b3aedc3",
   "metadata": {},
   "outputs": [],
   "source": [
    "L = [], L[-1], [1,2,1,2],[1,3,5,2,4,6], [20,30,40], [30,40,50], [50,60,70], smiles[-1], listA = list(listB), [0,1,2],"
   ]
  },
  {
   "cell_type": "code",
   "execution_count": 12,
   "id": "e8766a55",
   "metadata": {},
   "outputs": [
    {
     "ename": "NameError",
     "evalue": "name 'a' is not defined",
     "output_type": "error",
     "traceback": [
      "\u001b[1;31m---------------------------------------------------------------------------\u001b[0m",
      "\u001b[1;31mNameError\u001b[0m                                 Traceback (most recent call last)",
      "Input \u001b[1;32mIn [12]\u001b[0m, in \u001b[0;36m<cell line: 1>\u001b[1;34m()\u001b[0m\n\u001b[1;32m----> 1\u001b[0m list1 \u001b[38;5;241m=\u001b[39m \u001b[38;5;28mlist\u001b[39m(), [\u001b[38;5;124m'\u001b[39m\u001b[38;5;124mh\u001b[39m\u001b[38;5;124m'\u001b[39m,\u001b[38;5;124m'\u001b[39m\u001b[38;5;124me\u001b[39m\u001b[38;5;124m'\u001b[39m,\u001b[38;5;124m'\u001b[39m\u001b[38;5;124ml\u001b[39m\u001b[38;5;124m'\u001b[39m,\u001b[38;5;124m'\u001b[39m\u001b[38;5;124ml\u001b[39m\u001b[38;5;124m'\u001b[39m,\u001b[38;5;124m'\u001b[39m\u001b[38;5;124mo\u001b[39m\u001b[38;5;124m'\u001b[39m], \u001b[43ma\u001b[49m, \u001b[38;5;241m10\u001b[39m,\u001b[38;5;28mlen\u001b[39m(),append(),extend()\n",
      "\u001b[1;31mNameError\u001b[0m: name 'a' is not defined"
     ]
    }
   ],
   "source": [
    "list1 = list(), ['h','e','l','l','o'], a, 10,len(),append(),extend(),sorted(),pop(),remove(),index(),copy()"
   ]
  },
  {
   "cell_type": "code",
   "execution_count": 11,
   "id": "bc968a99",
   "metadata": {},
   "outputs": [
    {
     "name": "stdout",
     "output_type": "stream",
     "text": [
      "a\n"
     ]
    }
   ],
   "source": [
    "names = ['hassan','balwant','Sean','Dia']\n",
    "print(names[-1][-1])"
   ]
  },
  {
   "cell_type": "code",
   "execution_count": 9,
   "id": "fb77a0a6",
   "metadata": {},
   "outputs": [
    {
     "name": "stdout",
     "output_type": "stream",
     "text": [
      "10\n"
     ]
    }
   ],
   "source": [
    "print(len(l))"
   ]
  },
  {
   "cell_type": "code",
   "execution_count": 13,
   "id": "25772930",
   "metadata": {},
   "outputs": [],
   "source": [
    "list1 = list()"
   ]
  },
  {
   "cell_type": "markdown",
   "id": "3b266eff",
   "metadata": {},
   "source": [
    "type(list1)"
   ]
  },
  {
   "cell_type": "code",
   "execution_count": 17,
   "id": "2ab38110",
   "metadata": {},
   "outputs": [
    {
     "name": "stdout",
     "output_type": "stream",
     "text": [
      "[10, 12, 26, 32, 65, 80]\n"
     ]
    }
   ],
   "source": [
    "# Q1.What will be the output of the following statements\n",
    "\n",
    "list1 = [12,32,65,26,80,10]\n",
    "list1.sort()\n",
    "print(list1)"
   ]
  },
  {
   "cell_type": "code",
   "execution_count": 20,
   "id": "ecf35fd5",
   "metadata": {},
   "outputs": [
    {
     "name": "stdout",
     "output_type": "stream",
     "text": [
      "[12, 32, 65, 26, 80, 10]\n"
     ]
    }
   ],
   "source": [
    "list1 = [12,32,65,26,80,10]\n",
    "sorted(list1)\n",
    "print(list1)"
   ]
  },
  {
   "cell_type": "code",
   "execution_count": 28,
   "id": "9166fd88",
   "metadata": {},
   "outputs": [
    {
     "data": {
      "text/plain": [
       "[1, 2, 3, 4, 5, 6, 7, 8, 9, 10]"
      ]
     },
     "execution_count": 28,
     "metadata": {},
     "output_type": "execute_result"
    }
   ],
   "source": [
    "list1 = [1,2,3,4,5,6,7,8,9,10]\n",
    "list1[::-2]\n",
    "list1[:3] + list1[3:]\n"
   ]
  },
  {
   "cell_type": "code",
   "execution_count": 30,
   "id": "d690dc96",
   "metadata": {},
   "outputs": [
    {
     "name": "stdout",
     "output_type": "stream",
     "text": [
      "5\n"
     ]
    }
   ],
   "source": [
    "list1= [1,2,3,4,5]\n",
    "print(list1[len(list1)-1])"
   ]
  },
  {
   "cell_type": "code",
   "execution_count": 35,
   "id": "480f78f1",
   "metadata": {},
   "outputs": [
    {
     "name": "stdout",
     "output_type": "stream",
     "text": [
      "[1, 2, 3]\n"
     ]
    }
   ],
   "source": [
    "# Q4.what will be the output of the following code\n",
    "\n",
    "myList = [1,2,3,4,5,6,7,8,9,10]\n",
    "del myList[3:]\n",
    "print(myList)"
   ]
  },
  {
   "cell_type": "code",
   "execution_count": 37,
   "id": "8c710b25",
   "metadata": {},
   "outputs": [
    {
     "name": "stdout",
     "output_type": "stream",
     "text": [
      "[6, 7, 8, 9, 10]\n"
     ]
    }
   ],
   "source": [
    "myList = [1,2,3,4,5,6,7,8,9,10]\n",
    "del myList[:5]\n",
    "print(myList)"
   ]
  },
  {
   "cell_type": "code",
   "execution_count": 39,
   "id": "68fab5af",
   "metadata": {},
   "outputs": [
    {
     "name": "stdout",
     "output_type": "stream",
     "text": [
      "[2, 4, 6, 8, 10]\n"
     ]
    }
   ],
   "source": [
    "myList = [1,2,3,4,5,6,7,8,9,10]\n",
    "del myList[::2]\n",
    "print(myList)"
   ]
  },
  {
   "cell_type": "code",
   "execution_count": 42,
   "id": "4dbb0c49",
   "metadata": {},
   "outputs": [
    {
     "name": "stdout",
     "output_type": "stream",
     "text": [
      "['These', ['are', 'a'], ['few', 'words'], 'that', 'we', 'will', 'use']\n"
     ]
    }
   ],
   "source": [
    "# Q8. What does each of the following expression evaluate to? Suppose that L is list\n",
    "\n",
    "L = [\"These\",[\"are\",\"a\"],[\"few\",\"words\"],\"that\",\"we\",\"will\",\"use\"]"
   ]
  },
  {
   "cell_type": "code",
   "execution_count": 43,
   "id": "e074a7b1",
   "metadata": {},
   "outputs": [
    {
     "data": {
      "text/plain": [
       "7"
      ]
     },
     "execution_count": 43,
     "metadata": {},
     "output_type": "execute_result"
    }
   ],
   "source": [
    "len(L)"
   ]
  },
  {
   "cell_type": "code",
   "execution_count": 44,
   "id": "7c3c98fe",
   "metadata": {},
   "outputs": [
    {
     "data": {
      "text/plain": [
       "['that', ['are', 'a']]"
      ]
     },
     "execution_count": 44,
     "metadata": {},
     "output_type": "execute_result"
    }
   ],
   "source": [
    "L[3:4]+ L[1:2]"
   ]
  },
  {
   "cell_type": "code",
   "execution_count": 45,
   "id": "13c25ae7",
   "metadata": {},
   "outputs": [
    {
     "data": {
      "text/plain": [
       "False"
      ]
     },
     "execution_count": 45,
     "metadata": {},
     "output_type": "execute_result"
    }
   ],
   "source": [
    "\"few\" in L[2:3]"
   ]
  },
  {
   "cell_type": "code",
   "execution_count": 47,
   "id": "f3311cdb",
   "metadata": {},
   "outputs": [
    {
     "data": {
      "text/plain": [
       "True"
      ]
     },
     "execution_count": 47,
     "metadata": {},
     "output_type": "execute_result"
    }
   ],
   "source": [
    "\"few\" in L[2:3] [0]"
   ]
  },
  {
   "cell_type": "code",
   "execution_count": 48,
   "id": "2ba864ae",
   "metadata": {},
   "outputs": [
    {
     "data": {
      "text/plain": [
       "True"
      ]
     },
     "execution_count": 48,
     "metadata": {},
     "output_type": "execute_result"
    }
   ],
   "source": [
    "\"few\" in L[2]"
   ]
  },
  {
   "cell_type": "code",
   "execution_count": 49,
   "id": "ddda259e",
   "metadata": {},
   "outputs": [
    {
     "data": {
      "text/plain": [
       "['words']"
      ]
     },
     "execution_count": 49,
     "metadata": {},
     "output_type": "execute_result"
    }
   ],
   "source": [
    "L[2][1:]"
   ]
  },
  {
   "cell_type": "code",
   "execution_count": 50,
   "id": "7603d513",
   "metadata": {},
   "outputs": [
    {
     "data": {
      "text/plain": [
       "['are', 'a', 'few', 'words']"
      ]
     },
     "execution_count": 50,
     "metadata": {},
     "output_type": "execute_result"
    }
   ],
   "source": [
    "L[1] + L[2]"
   ]
  },
  {
   "cell_type": "code",
   "execution_count": 8,
   "id": "65ac9823",
   "metadata": {},
   "outputs": [
    {
     "ename": "TypeError",
     "evalue": "str.join() takes exactly one argument (2 given)",
     "output_type": "error",
     "traceback": [
      "\u001b[1;31m---------------------------------------------------------------------------\u001b[0m",
      "\u001b[1;31mTypeError\u001b[0m                                 Traceback (most recent call last)",
      "Input \u001b[1;32mIn [8]\u001b[0m, in \u001b[0;36m<cell line: 1>\u001b[1;34m()\u001b[0m\n\u001b[1;32m----> 1\u001b[0m \u001b[38;5;28mprint\u001b[39m(\u001b[38;5;124;43m\"\u001b[39;49m\u001b[38;5;124;43m$$\u001b[39;49m\u001b[38;5;124;43m\"\u001b[39;49m\u001b[38;5;241;43m.\u001b[39;49m\u001b[43mjoin\u001b[49m\u001b[43m(\u001b[49m\u001b[38;5;124;43m\"\u001b[39;49m\u001b[38;5;124;43mhello\u001b[39;49m\u001b[38;5;124;43m\"\u001b[39;49m\u001b[43m,\u001b[49m\u001b[38;5;124;43m\"\u001b[39;49m\u001b[38;5;124;43mstring\u001b[39;49m\u001b[38;5;124;43m\"\u001b[39;49m\u001b[43m)\u001b[49m)\n",
      "\u001b[1;31mTypeError\u001b[0m: str.join() takes exactly one argument (2 given)"
     ]
    }
   ],
   "source": []
  },
  {
   "cell_type": "code",
   "execution_count": null,
   "id": "c7164242",
   "metadata": {},
   "outputs": [],
   "source": []
  }
 ],
 "metadata": {
  "kernelspec": {
   "display_name": "Python 3 (ipykernel)",
   "language": "python",
   "name": "python3"
  },
  "language_info": {
   "codemirror_mode": {
    "name": "ipython",
    "version": 3
   },
   "file_extension": ".py",
   "mimetype": "text/x-python",
   "name": "python",
   "nbconvert_exporter": "python",
   "pygments_lexer": "ipython3",
   "version": "3.9.12"
  }
 },
 "nbformat": 4,
 "nbformat_minor": 5
}
