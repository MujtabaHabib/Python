{
 "cells": [
  {
   "cell_type": "code",
   "execution_count": 1,
   "id": "dc855673",
   "metadata": {},
   "outputs": [
    {
     "name": "stdout",
     "output_type": "stream",
     "text": [
      "hello world\n"
     ]
    }
   ],
   "source": [
    "def greet():\n",
    "    print(\"hello world\")\n",
    "greet()"
   ]
  },
  {
   "cell_type": "code",
   "execution_count": 2,
   "id": "f99306aa",
   "metadata": {},
   "outputs": [
    {
     "name": "stdout",
     "output_type": "stream",
     "text": [
      "Hello saud\n",
      "How do you do\n"
     ]
    }
   ],
   "source": [
    "def greet(name):\n",
    "    print(\"Hello\",name)\n",
    "    print(\"How do you do\")\n",
    "greet(\"saud\")"
   ]
  },
  {
   "cell_type": "code",
   "execution_count": 3,
   "id": "b8bd72a2",
   "metadata": {},
   "outputs": [
    {
     "name": "stdout",
     "output_type": "stream",
     "text": [
      "The sum of two number is  9.7\n"
     ]
    }
   ],
   "source": [
    "def add_numbers(n1,n2):\n",
    "    result = n1+ n2\n",
    "    print(\"The sum of two number is \",result)\n",
    "    \n",
    "number1= 5.3\n",
    "number2= 4.4\n",
    "add_numbers(number1,number2)\n"
   ]
  },
  {
   "cell_type": "code",
   "execution_count": null,
   "id": "8d6e3215",
   "metadata": {},
   "outputs": [],
   "source": [
    "def add_numbers(n1,n2):\n",
    "    result = n1 + n2\n",
    "    return result\n",
    "\n",
    "number1 = int(input(\"Enter 1st number\"))\n",
    "number2 = int(input(\"Enter 2nd number\"))\n",
    "result = add_numbers(number1,number2)\n",
    "print(\"The sum of two number is \",result)"
   ]
  },
  {
   "cell_type": "code",
   "execution_count": null,
   "id": "f37be084",
   "metadata": {},
   "outputs": [],
   "source": []
  }
 ],
 "metadata": {
  "kernelspec": {
   "display_name": "Python 3 (ipykernel)",
   "language": "python",
   "name": "python3"
  },
  "language_info": {
   "codemirror_mode": {
    "name": "ipython",
    "version": 3
   },
   "file_extension": ".py",
   "mimetype": "text/x-python",
   "name": "python",
   "nbconvert_exporter": "python",
   "pygments_lexer": "ipython3",
   "version": "3.9.12"
  }
 },
 "nbformat": 4,
 "nbformat_minor": 5
}
