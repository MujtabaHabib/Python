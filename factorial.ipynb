{
 "cells": [
  {
   "cell_type": "code",
   "execution_count": 6,
   "id": "52a75ed4",
   "metadata": {},
   "outputs": [],
   "source": [
    "def fact(n):\n",
    "    if n == 0:\n",
    "        return 1\n",
    "    return n * fact(n-1)\n"
   ]
  },
  {
   "cell_type": "code",
   "execution_count": 7,
   "id": "f6169517",
   "metadata": {},
   "outputs": [],
   "source": [
    "def fact1(n):\n",
    "    if n == 0:\n",
    "        return 1\n",
    "    smallOutput = fact(n-1)\n",
    "    return n * smallOutput"
   ]
  },
  {
   "cell_type": "code",
   "execution_count": 10,
   "id": "daf6eaae",
   "metadata": {},
   "outputs": [],
   "source": [
    "def sum_n(n):\n",
    "    if n == 0:\n",
    "        return 0\n",
    "    smallOutput = sum_n(n - 1)\n",
    "    output = smallOutput + n\n",
    "    return output"
   ]
  },
  {
   "cell_type": "code",
   "execution_count": 16,
   "id": "59b8ffd7",
   "metadata": {},
   "outputs": [
    {
     "name": "stdout",
     "output_type": "stream",
     "text": [
      "4\n",
      "10\n",
      "24\n"
     ]
    }
   ],
   "source": [
    "n = int(input())\n",
    "print(sum_n(n))\n",
    "print(fact1(n))\n"
   ]
  },
  {
   "cell_type": "code",
   "execution_count": null,
   "id": "53a96962",
   "metadata": {},
   "outputs": [],
   "source": [
    "n = int(input())\n",
    "def print_1_to_n(n):\n",
    "    if n == 0:\n",
    "        return 0\n",
    "    print_1_to_n(n - 1)\n",
    "    print(n)\n",
    "print_1_to_n(n)"
   ]
  },
  {
   "cell_type": "code",
   "execution_count": null,
   "id": "28dcf3d0",
   "metadata": {},
   "outputs": [],
   "source": [
    "yos = int(input(\"Year of Service \"))\n",
    "salary = int(input(\"Salary \"))\n",
    "\n",
    "if yos>5:\n",
    "    bonus = (salary*5)/100\n",
    "    print(\"Bonus is \",bonus)\n",
    "    total_sal = salary + bonus\n",
    "    print(\"total Salary is\",total_sal)\n",
    "else:\n",
    "    print(\"your Year of Service is less than 5\")"
   ]
  },
  {
   "cell_type": "code",
   "execution_count": null,
   "id": "cd5f4848",
   "metadata": {},
   "outputs": [],
   "source": [
    "int(input(a))\n",
    "if(a>b>c):\n",
    "    print(a)\n",
    "elif(b>c>a):\n",
    "    print(b)\n",
    "else:\n",
    "    print(c)"
   ]
  },
  {
   "cell_type": "code",
   "execution_count": null,
   "id": "c5dff769",
   "metadata": {},
   "outputs": [],
   "source": []
  }
 ],
 "metadata": {
  "kernelspec": {
   "display_name": "Python 3 (ipykernel)",
   "language": "python",
   "name": "python3"
  },
  "language_info": {
   "codemirror_mode": {
    "name": "ipython",
    "version": 3
   },
   "file_extension": ".py",
   "mimetype": "text/x-python",
   "name": "python",
   "nbconvert_exporter": "python",
   "pygments_lexer": "ipython3",
   "version": "3.9.12"
  }
 },
 "nbformat": 4,
 "nbformat_minor": 5
}
