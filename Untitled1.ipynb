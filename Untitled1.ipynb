{
 "cells": [
  {
   "cell_type": "code",
   "execution_count": null,
   "id": "5f815aed",
   "metadata": {},
   "outputs": [
    {
     "name": "stdout",
     "output_type": "stream",
     "text": [
      "Select operation to perform\n",
      "1.Add\n",
      "2.Substract\n",
      "3.Multiply\n",
      "4.Divide\n",
      "Enter your choice1\n",
      "Enter your choice10\n"
     ]
    }
   ],
   "source": [
    "def add(x,y):\n",
    "    return x+y\n",
    "\n",
    "def substract(x,y):\n",
    "    return x-y\n",
    "\n",
    "def multiply(x,y):\n",
    "    return x*y\n",
    "    \n",
    "def divide(x,y):\n",
    "    return x/y\n",
    "\n",
    "print(\"Select operation to perform\")\n",
    "print(\"1.Add\")\n",
    "print(\"2.Substract\")\n",
    "print(\"3.Multiply\")\n",
    "print(\"4.Divide\")\n",
    "\n",
    "while True:\n",
    "    ch = input(\"Enter your choice\")\n",
    "    \n",
    "    if ch == 1:\n",
    "            print(num1, \"+\", num2 ,\"=\" ,add(num1, num2))\n",
    "        \n",
    "    if ch ==2:\n",
    "            print(num1, \"-\",num2, \"=\",substract(num1,num2))\n",
    "        \n",
    "    if ch ==3:\n",
    "            print(num1, \"*\",num2 ,\"=\",multiply(num1,num2))\n",
    "    if ch == 4:\n",
    "            print(num1, \"/\",num2, \"=\",divide(num1,num2))"
   ]
  },
  {
   "cell_type": "code",
   "execution_count": null,
   "id": "85928e25",
   "metadata": {},
   "outputs": [],
   "source": []
  }
 ],
 "metadata": {
  "kernelspec": {
   "display_name": "Python 3 (ipykernel)",
   "language": "python",
   "name": "python3"
  },
  "language_info": {
   "codemirror_mode": {
    "name": "ipython",
    "version": 3
   },
   "file_extension": ".py",
   "mimetype": "text/x-python",
   "name": "python",
   "nbconvert_exporter": "python",
   "pygments_lexer": "ipython3",
   "version": "3.9.12"
  }
 },
 "nbformat": 4,
 "nbformat_minor": 5
}
