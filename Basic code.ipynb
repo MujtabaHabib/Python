{
 "cells": [
  {
   "cell_type": "code",
   "execution_count": 1,
   "id": "825b663c",
   "metadata": {},
   "outputs": [
    {
     "name": "stdout",
     "output_type": "stream",
     "text": [
      "Enter a number10\n",
      "0\n",
      "1\n"
     ]
    }
   ],
   "source": [
    "n = int(input(\"Enter a number\"))\n",
    "a = 0\n",
    "b = 1\n",
    "print(a)\n",
    "print(b)\n",
    "while(n<0):\n",
    "    for i in range(3,n+1,1):\n",
    "        c = a+b\n",
    "        print(c)\n",
    "        a = b\n",
    "        b = c"
   ]
  },
  {
   "cell_type": "code",
   "execution_count": 2,
   "id": "038c5996",
   "metadata": {},
   "outputs": [
    {
     "name": "stdout",
     "output_type": "stream",
     "text": [
      "15\n",
      "Fibonacci series is:  0 1 0 1 1 2 3 5 8 13 21 34 55 89 144 "
     ]
    }
   ],
   "source": [
    "n = int(input())\n",
    "a = 0\n",
    "b = 1\n",
    "sum = 0\n",
    "count = 1\n",
    "print(\"Fibonacci series is: \", end = \" \")\n",
    "while(count <= n):\n",
    "  count += 1\n",
    "  print(a, end=\" \")\n",
    "  a = b\n",
    "  b = sum\n",
    "  sum = a + b"
   ]
  },
  {
   "cell_type": "code",
   "execution_count": null,
   "id": "fcb63c21",
   "metadata": {},
   "outputs": [],
   "source": [
    "#find the sum of any number\n",
    "n = int(input(\"Enter a number\"))\n",
    "count = 0\n",
    "for i in range(1,n+1,1):\n",
    "\n",
    "    if(n%i==0):\n",
    "        count = count+i\n",
    "        print(i)\n",
    "print(\"The sum of divisible number is \",count)"
   ]
  },
  {
   "cell_type": "code",
   "execution_count": null,
   "id": "281f9398",
   "metadata": {},
   "outputs": [],
   "source": [
    "n = int(input(\"Enter a number\"))\n",
    "count = 0\n",
    "for i in range(1,n+1,1):\n",
    "\n",
    "print(\"The sum of divisible number is \",count)"
   ]
  },
  {
   "cell_type": "code",
   "execution_count": null,
   "id": "4498a450",
   "metadata": {},
   "outputs": [],
   "source": []
  }
 ],
 "metadata": {
  "kernelspec": {
   "display_name": "Python 3 (ipykernel)",
   "language": "python",
   "name": "python3"
  },
  "language_info": {
   "codemirror_mode": {
    "name": "ipython",
    "version": 3
   },
   "file_extension": ".py",
   "mimetype": "text/x-python",
   "name": "python",
   "nbconvert_exporter": "python",
   "pygments_lexer": "ipython3",
   "version": "3.9.12"
  }
 },
 "nbformat": 4,
 "nbformat_minor": 5
}
