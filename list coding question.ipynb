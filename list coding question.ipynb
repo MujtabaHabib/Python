{
 "cells": [
  {
   "cell_type": "code",
   "execution_count": 1,
   "id": "03a0afab",
   "metadata": {},
   "outputs": [
    {
     "name": "stdout",
     "output_type": "stream",
     "text": [
      "Enter a list[4,2,8,4,9,1,15]\n",
      "Your given list is  [4, 2, 8, 4, 9, 1, 15]\n",
      "Length of your list is  7\n",
      "4\n",
      "2\n",
      "8\n",
      "4\n",
      "9\n",
      "1\n",
      "15\n"
     ]
    }
   ],
   "source": [
    "lst = eval(input(\"Enter a list\"))\n",
    "print(\"Your given list is \",lst)\n",
    "length = len(lst)\n",
    "print(\"Length of your list is \",length)\n",
    "for i in lst:\n",
    "    print(i)"
   ]
  },
  {
   "cell_type": "code",
   "execution_count": 2,
   "id": "5dd27559",
   "metadata": {},
   "outputs": [
    {
     "name": "stdout",
     "output_type": "stream",
     "text": [
      "Enter a list[4,2,8,4,9,1,15]\n",
      "Your given list [4, 2, 8, 4, 9, 1, 15] and its length is 7\n",
      "[15, 1, 9, 4, 8, 2, 4]\n"
     ]
    }
   ],
   "source": [
    "lst1 = eval(input(\"Enter a list\"))\n",
    "length = len(lst1)\n",
    "reversed_list = []\n",
    "print(\"Your given list\",lst1 ,\"and its length is\",length)\n",
    "for i in lst1:\n",
    "    reversed_list = [i] + reversed_list\n",
    "print(reversed_list)\n",
    "    "
   ]
  },
  {
   "cell_type": "code",
   "execution_count": 3,
   "id": "0d35ae10",
   "metadata": {},
   "outputs": [
    {
     "name": "stdout",
     "output_type": "stream",
     "text": [
      "Enter a list[4,2,8,4,9,1,15]\n",
      "Your given list is  [4, 2, 8, 4, 9, 1, 15] and its length is  7\n",
      "43\n"
     ]
    }
   ],
   "source": [
    "lst = eval(input(\"Enter a list\"))\n",
    "length = len(lst)\n",
    "print(\"Your given list is \",lst,\"and its length is \",length)\n",
    "sum = 0\n",
    "for i in lst:\n",
    "    sum = sum + i\n",
    "print(sum)"
   ]
  },
  {
   "cell_type": "code",
   "execution_count": 4,
   "id": "9e1cb1a2",
   "metadata": {},
   "outputs": [
    {
     "name": "stdout",
     "output_type": "stream",
     "text": [
      "Enter a list[4,2,8,4,9,1,15]\n",
      "Your given list is  [4, 2, 8, 4, 9, 1, 15] and its length is  7\n",
      "6.142857142857143\n"
     ]
    }
   ],
   "source": [
    "#Average of a list\n",
    "\n",
    "lst = eval(input(\"Enter a list\"))\n",
    "length = len(lst)\n",
    "print(\"Your given list is \",lst,\"and its length is \",length)\n",
    "sum = 0\n",
    "for i in lst:\n",
    "    sum = sum + i\n",
    "avg = (sum/length)\n",
    "print(avg)"
   ]
  },
  {
   "cell_type": "code",
   "execution_count": 5,
   "id": "36d38cb2",
   "metadata": {},
   "outputs": [
    {
     "name": "stdout",
     "output_type": "stream",
     "text": [
      "Enter a list[4,2,8,4,9,1,15]\n",
      "Your given list is  [4, 2, 8, 4, 9, 1, 15] and its length is  7\n",
      "Given list is [4, 2, 8, 4, 9, 1, 15]\n",
      "The maximum element of the given list is :\n",
      "6 at index 0\n"
     ]
    }
   ],
   "source": [
    "#maximum in a list\n",
    "\n",
    "lst = eval(input(\"Enter a list\"))\n",
    "length = len(lst)\n",
    "print(\"Your given list is \",lst,\"and its length is \",length)\n",
    "max_ele = lst[0]\n",
    "max_index = 0\n",
    "for i in range(1,length):\n",
    "    if lst[i]>max_ele:\n",
    "        max_ele = lst[i]\n",
    "        max_ele = i\n",
    "print(\"Given list is\",lst)\n",
    "print(\"The maximum element of the given list is :\")\n",
    "print(max_ele, \"at index\",max_index)"
   ]
  },
  {
   "cell_type": "code",
   "execution_count": 6,
   "id": "106fe170",
   "metadata": {},
   "outputs": [
    {
     "name": "stdout",
     "output_type": "stream",
     "text": [
      "Enter a list[4,2,8,4,9,1,15]\n",
      "Given list is : [4, 2, 8, 4, 9, 1, 15]\n",
      "The minimum element of the given list is :\n",
      "1 at index 5\n"
     ]
    }
   ],
   "source": [
    "#wap to find the minimum element from a list of element\n",
    "\n",
    "lst = eval(input(\"Enter a list\"))\n",
    "length = len(lst)\n",
    "min_ele = lst[0]\n",
    "min_index = 0\n",
    "for i in range(1, length):\n",
    "    if lst[i] < min_ele :\n",
    "        min_ele = lst[i]\n",
    "        min_index = i\n",
    "print(\"Given list is :\",lst)\n",
    "print(\"The minimum element of the given list is :\")\n",
    "print(min_ele,\"at index\",min_index)\n"
   ]
  },
  {
   "cell_type": "code",
   "execution_count": 7,
   "id": "8841d735",
   "metadata": {},
   "outputs": [
    {
     "name": "stdout",
     "output_type": "stream",
     "text": [
      "Enter a list[4,2,8,4,9,1,15]\n",
      "{4: 2, 2: 1, 8: 1, 9: 1, 1: 1, 15: 1}\n"
     ]
    }
   ],
   "source": [
    "#wap to count repeating words\n",
    "\n",
    "lst = eval(input(\"Enter a list\"))\n",
    "length = len(lst)\n",
    "frequency = {}\n",
    "for i in lst:\n",
    "    if i in frequency:\n",
    "        frequency[i] += 1\n",
    "    else:\n",
    "        frequency[i] = 1\n",
    "print(frequency)"
   ]
  },
  {
   "cell_type": "code",
   "execution_count": 13,
   "id": "ff3a186a",
   "metadata": {},
   "outputs": [
    {
     "name": "stdout",
     "output_type": "stream",
     "text": [
      "enter a list[2,5,10,3]\n",
      "Enter element :2\n",
      "2 has frequency as 1 in given list\n"
     ]
    }
   ],
   "source": [
    "#wap to count the frequency in a list\n",
    "\n",
    "lst = eval(input(\"enter a list\"))\n",
    "length = len(lst)\n",
    "\n",
    "element = int(input(\"Enter element :\"))\n",
    "count = 0\n",
    "\n",
    "for i in range(0,length):\n",
    "    if element == lst[i]:\n",
    "        count += 1\n",
    "if count == 0:\n",
    "        print(element,\"not found in a given list\")\n",
    "else:\n",
    "        print(element,\"has frequency as\",count,\"in given list\")"
   ]
  },
  {
   "cell_type": "code",
   "execution_count": null,
   "id": "e933c1bc",
   "metadata": {},
   "outputs": [],
   "source": [
    "#linear search \n",
    "lst = eval(input(\"Enter a list\"))\n",
    "length = len(lst)\n",
    "index = 0\n",
    "element = int(input(\"Enter element to find \"))\n",
    "for i in range(0,length):\n",
    "    if element == lst[i]:\n",
    "        index = i\n",
    "        print(element,\"found at index\",index)\n",
    "        break\n",
    "else:\n",
    "    print(\"not found in the list\")"
   ]
  },
  {
   "cell_type": "code",
   "execution_count": 11,
   "id": "f11b908b",
   "metadata": {},
   "outputs": [
    {
     "name": "stdout",
     "output_type": "stream",
     "text": [
      "Enter the character: A\n",
      "1\n"
     ]
    }
   ],
   "source": [
    "#length of a list without inbuilt function\n",
    "lst = eval(input(\"Enter a list\"))\n",
    "length = 0\n",
    "for i in lst:\n",
    "    length += 1\n",
    "print(length)"
   ]
  },
  {
   "cell_type": "code",
   "execution_count": 12,
   "id": "133992d9",
   "metadata": {},
   "outputs": [
    {
     "name": "stdout",
     "output_type": "stream",
     "text": [
      "Enter the character: b\n",
      "Constant\n"
     ]
    }
   ],
   "source": [
    "#wap to find the vowel or constant\n",
    "\n",
    "lst = input(\"Enter the character: \")\n",
    "for i in lst:\n",
    "    if( i == 'A' or i == 'E' or i == 'I' or i =='O' or i == 'U' or i== 'a' or i == 'e' or i == 'i' or i == 'o' or i == 'u'):\n",
    "        print(\"Vowel\")\n",
    "    else:\n",
    "        print(\"Constant\")"
   ]
  },
  {
   "cell_type": "code",
   "execution_count": null,
   "id": "01b35b5e",
   "metadata": {},
   "outputs": [],
   "source": [
    "#wap to find the second largest \n",
    "\n",
    "lst = eval(input(\"Entert a list\"))\n",
    "lst.sort()\n",
    "print(lst)\n",
    "print(\"Second largest is\",lst[-2])"
   ]
  },
  {
   "cell_type": "code",
   "execution_count": 2,
   "id": "e546d22f",
   "metadata": {},
   "outputs": [
    {
     "name": "stdout",
     "output_type": "stream",
     "text": [
      "Enter a list[13,15,18,23,53,14,19]\n",
      "[13, 15, 18, 23, 53, 14, 19] and its length is 7\n",
      "89\n"
     ]
    }
   ],
   "source": [
    "#sum of a list which is divisible by 3\n",
    "lst = eval(input(\"Enter a list\"))\n",
    "length = len(lst)\n",
    "print(lst, \"and its length is\", length)\n",
    "sum = 0\n",
    "for i in range(0,length):\n",
    "    if lst[i] % 10 == 3:\n",
    "        sum += lst[i]\n",
    "print(sum)"
   ]
  },
  {
   "cell_type": "code",
   "execution_count": 3,
   "id": "7410fd8c",
   "metadata": {},
   "outputs": [
    {
     "name": "stdout",
     "output_type": "stream",
     "text": [
      "Enter a list[13, 15, 18, 23, 53, 14, 19]\n",
      "[13, 15, 18, 23, 53, 14, 19] and its length is 7\n",
      "26\n",
      "30\n",
      "54\n",
      "46\n",
      "106\n",
      "42\n",
      "38\n"
     ]
    }
   ],
   "source": [
    "#modify the element of list and even element is twice and odd element is thrice its element\n",
    "lst = eval(input(\"Enter a list\"))\n",
    "length = len(lst)\n",
    "print(lst, \"and its length is\", length)\n",
    "for i in range(0,length):\n",
    "    if lst[i] % 2 == 0:\n",
    "        lst[i] =  lst[i] * 3\n",
    "    else:\n",
    "        lst[i] = lst[i] * 2\n",
    "    print(lst[i])"
   ]
  }
 ],
 "metadata": {
  "kernelspec": {
   "display_name": "Python 3 (ipykernel)",
   "language": "python",
   "name": "python3"
  },
  "language_info": {
   "codemirror_mode": {
    "name": "ipython",
    "version": 3
   },
   "file_extension": ".py",
   "mimetype": "text/x-python",
   "name": "python",
   "nbconvert_exporter": "python",
   "pygments_lexer": "ipython3",
   "version": "3.9.12"
  }
 },
 "nbformat": 4,
 "nbformat_minor": 5
}
